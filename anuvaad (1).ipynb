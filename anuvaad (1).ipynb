{
  "cells": [
    {
      "cell_type": "code",
      "execution_count": 94,
      "metadata": {
        "colab": {
          "base_uri": "https://localhost:8080/"
        },
        "id": "DGFTkuRvzWqc",
        "outputId": "5cd555ad-f28d-40fc-8931-effd87043ffd"
      },
      "outputs": [
        {
          "name": "stdout",
          "output_type": "stream",
          "text": [
            "Requirement already satisfied: tensorflow_text in /usr/local/lib/python3.7/dist-packages (2.7.3)\n",
            "Requirement already satisfied: tensorflow<2.8,>=2.7.0 in /usr/local/lib/python3.7/dist-packages (from tensorflow_text) (2.7.0)\n",
            "Requirement already satisfied: tensorflow-hub>=0.8.0 in /usr/local/lib/python3.7/dist-packages (from tensorflow_text) (0.12.0)\n",
            "Requirement already satisfied: libclang>=9.0.1 in /usr/local/lib/python3.7/dist-packages (from tensorflow<2.8,>=2.7.0->tensorflow_text) (12.0.0)\n",
            "Requirement already satisfied: astunparse>=1.6.0 in /usr/local/lib/python3.7/dist-packages (from tensorflow<2.8,>=2.7.0->tensorflow_text) (1.6.3)\n",
            "Requirement already satisfied: absl-py>=0.4.0 in /usr/local/lib/python3.7/dist-packages (from tensorflow<2.8,>=2.7.0->tensorflow_text) (0.12.0)\n",
            "Requirement already satisfied: six>=1.12.0 in /usr/local/lib/python3.7/dist-packages (from tensorflow<2.8,>=2.7.0->tensorflow_text) (1.15.0)\n",
            "Requirement already satisfied: h5py>=2.9.0 in /usr/local/lib/python3.7/dist-packages (from tensorflow<2.8,>=2.7.0->tensorflow_text) (3.1.0)\n",
            "Requirement already satisfied: termcolor>=1.1.0 in /usr/local/lib/python3.7/dist-packages (from tensorflow<2.8,>=2.7.0->tensorflow_text) (1.1.0)\n",
            "Requirement already satisfied: google-pasta>=0.1.1 in /usr/local/lib/python3.7/dist-packages (from tensorflow<2.8,>=2.7.0->tensorflow_text) (0.2.0)\n",
            "Requirement already satisfied: keras<2.8,>=2.7.0rc0 in /usr/local/lib/python3.7/dist-packages (from tensorflow<2.8,>=2.7.0->tensorflow_text) (2.7.0)\n",
            "Requirement already satisfied: keras-preprocessing>=1.1.1 in /usr/local/lib/python3.7/dist-packages (from tensorflow<2.8,>=2.7.0->tensorflow_text) (1.1.2)\n",
            "Requirement already satisfied: gast<0.5.0,>=0.2.1 in /usr/local/lib/python3.7/dist-packages (from tensorflow<2.8,>=2.7.0->tensorflow_text) (0.4.0)\n",
            "Requirement already satisfied: typing-extensions>=3.6.6 in /usr/local/lib/python3.7/dist-packages (from tensorflow<2.8,>=2.7.0->tensorflow_text) (3.10.0.2)\n",
            "Requirement already satisfied: opt-einsum>=2.3.2 in /usr/local/lib/python3.7/dist-packages (from tensorflow<2.8,>=2.7.0->tensorflow_text) (3.3.0)\n",
            "Requirement already satisfied: numpy>=1.14.5 in /usr/local/lib/python3.7/dist-packages (from tensorflow<2.8,>=2.7.0->tensorflow_text) (1.19.5)\n",
            "Requirement already satisfied: tensorboard~=2.6 in /usr/local/lib/python3.7/dist-packages (from tensorflow<2.8,>=2.7.0->tensorflow_text) (2.7.0)\n",
            "Requirement already satisfied: wheel<1.0,>=0.32.0 in /usr/local/lib/python3.7/dist-packages (from tensorflow<2.8,>=2.7.0->tensorflow_text) (0.37.0)\n",
            "Requirement already satisfied: tensorflow-io-gcs-filesystem>=0.21.0 in /usr/local/lib/python3.7/dist-packages (from tensorflow<2.8,>=2.7.0->tensorflow_text) (0.22.0)\n",
            "Requirement already satisfied: grpcio<2.0,>=1.24.3 in /usr/local/lib/python3.7/dist-packages (from tensorflow<2.8,>=2.7.0->tensorflow_text) (1.42.0)\n",
            "Requirement already satisfied: tensorflow-estimator<2.8,~=2.7.0rc0 in /usr/local/lib/python3.7/dist-packages (from tensorflow<2.8,>=2.7.0->tensorflow_text) (2.7.0)\n",
            "Requirement already satisfied: flatbuffers<3.0,>=1.12 in /usr/local/lib/python3.7/dist-packages (from tensorflow<2.8,>=2.7.0->tensorflow_text) (2.0)\n",
            "Requirement already satisfied: protobuf>=3.9.2 in /usr/local/lib/python3.7/dist-packages (from tensorflow<2.8,>=2.7.0->tensorflow_text) (3.17.3)\n",
            "Requirement already satisfied: wrapt>=1.11.0 in /usr/local/lib/python3.7/dist-packages (from tensorflow<2.8,>=2.7.0->tensorflow_text) (1.13.3)\n",
            "Requirement already satisfied: cached-property in /usr/local/lib/python3.7/dist-packages (from h5py>=2.9.0->tensorflow<2.8,>=2.7.0->tensorflow_text) (1.5.2)\n",
            "Requirement already satisfied: markdown>=2.6.8 in /usr/local/lib/python3.7/dist-packages (from tensorboard~=2.6->tensorflow<2.8,>=2.7.0->tensorflow_text) (3.3.6)\n",
            "Requirement already satisfied: google-auth<3,>=1.6.3 in /usr/local/lib/python3.7/dist-packages (from tensorboard~=2.6->tensorflow<2.8,>=2.7.0->tensorflow_text) (1.35.0)\n",
            "Requirement already satisfied: requests<3,>=2.21.0 in /usr/local/lib/python3.7/dist-packages (from tensorboard~=2.6->tensorflow<2.8,>=2.7.0->tensorflow_text) (2.23.0)\n",
            "Requirement already satisfied: tensorboard-data-server<0.7.0,>=0.6.0 in /usr/local/lib/python3.7/dist-packages (from tensorboard~=2.6->tensorflow<2.8,>=2.7.0->tensorflow_text) (0.6.1)\n",
            "Requirement already satisfied: werkzeug>=0.11.15 in /usr/local/lib/python3.7/dist-packages (from tensorboard~=2.6->tensorflow<2.8,>=2.7.0->tensorflow_text) (1.0.1)\n",
            "Requirement already satisfied: tensorboard-plugin-wit>=1.6.0 in /usr/local/lib/python3.7/dist-packages (from tensorboard~=2.6->tensorflow<2.8,>=2.7.0->tensorflow_text) (1.8.0)\n",
            "Requirement already satisfied: google-auth-oauthlib<0.5,>=0.4.1 in /usr/local/lib/python3.7/dist-packages (from tensorboard~=2.6->tensorflow<2.8,>=2.7.0->tensorflow_text) (0.4.6)\n",
            "Requirement already satisfied: setuptools>=41.0.0 in /usr/local/lib/python3.7/dist-packages (from tensorboard~=2.6->tensorflow<2.8,>=2.7.0->tensorflow_text) (57.4.0)\n",
            "Requirement already satisfied: rsa<5,>=3.1.4 in /usr/local/lib/python3.7/dist-packages (from google-auth<3,>=1.6.3->tensorboard~=2.6->tensorflow<2.8,>=2.7.0->tensorflow_text) (4.8)\n",
            "Requirement already satisfied: cachetools<5.0,>=2.0.0 in /usr/local/lib/python3.7/dist-packages (from google-auth<3,>=1.6.3->tensorboard~=2.6->tensorflow<2.8,>=2.7.0->tensorflow_text) (4.2.4)\n",
            "Requirement already satisfied: pyasn1-modules>=0.2.1 in /usr/local/lib/python3.7/dist-packages (from google-auth<3,>=1.6.3->tensorboard~=2.6->tensorflow<2.8,>=2.7.0->tensorflow_text) (0.2.8)\n",
            "Requirement already satisfied: requests-oauthlib>=0.7.0 in /usr/local/lib/python3.7/dist-packages (from google-auth-oauthlib<0.5,>=0.4.1->tensorboard~=2.6->tensorflow<2.8,>=2.7.0->tensorflow_text) (1.3.0)\n",
            "Requirement already satisfied: importlib-metadata>=4.4 in /usr/local/lib/python3.7/dist-packages (from markdown>=2.6.8->tensorboard~=2.6->tensorflow<2.8,>=2.7.0->tensorflow_text) (4.8.2)\n",
            "Requirement already satisfied: zipp>=0.5 in /usr/local/lib/python3.7/dist-packages (from importlib-metadata>=4.4->markdown>=2.6.8->tensorboard~=2.6->tensorflow<2.8,>=2.7.0->tensorflow_text) (3.6.0)\n",
            "Requirement already satisfied: pyasn1<0.5.0,>=0.4.6 in /usr/local/lib/python3.7/dist-packages (from pyasn1-modules>=0.2.1->google-auth<3,>=1.6.3->tensorboard~=2.6->tensorflow<2.8,>=2.7.0->tensorflow_text) (0.4.8)\n",
            "Requirement already satisfied: idna<3,>=2.5 in /usr/local/lib/python3.7/dist-packages (from requests<3,>=2.21.0->tensorboard~=2.6->tensorflow<2.8,>=2.7.0->tensorflow_text) (2.10)\n",
            "Requirement already satisfied: chardet<4,>=3.0.2 in /usr/local/lib/python3.7/dist-packages (from requests<3,>=2.21.0->tensorboard~=2.6->tensorflow<2.8,>=2.7.0->tensorflow_text) (3.0.4)\n",
            "Requirement already satisfied: certifi>=2017.4.17 in /usr/local/lib/python3.7/dist-packages (from requests<3,>=2.21.0->tensorboard~=2.6->tensorflow<2.8,>=2.7.0->tensorflow_text) (2021.10.8)\n",
            "Requirement already satisfied: urllib3!=1.25.0,!=1.25.1,<1.26,>=1.21.1 in /usr/local/lib/python3.7/dist-packages (from requests<3,>=2.21.0->tensorboard~=2.6->tensorflow<2.8,>=2.7.0->tensorflow_text) (1.24.3)\n",
            "Requirement already satisfied: oauthlib>=3.0.0 in /usr/local/lib/python3.7/dist-packages (from requests-oauthlib>=0.7.0->google-auth-oauthlib<0.5,>=0.4.1->tensorboard~=2.6->tensorflow<2.8,>=2.7.0->tensorflow_text) (3.1.1)\n"
          ]
        }
      ],
      "source": [
        "# installing tensorflow_text \n",
        "!pip install tensorflow_text  "
      ]
    },
    {
      "cell_type": "code",
      "execution_count": 95,
      "metadata": {
        "id": "tnxXKDjq3jEL"
      },
      "outputs": [],
      "source": [
        "# importing required libraries\n",
        "import numpy as np\n",
        "\n",
        "import typing\n",
        "from typing import Any, Tuple\n",
        "\n",
        "import tensorflow as tf\n",
        "\n",
        "import tensorflow_text as tf_text\n",
        "\n",
        "import matplotlib.pyplot as plt\n",
        "import matplotlib.ticker as ticker"
      ]
    },
    {
      "cell_type": "code",
      "execution_count": 96,
      "metadata": {
        "id": "KPJ9J7iPUchc"
      },
      "outputs": [],
      "source": [
        "# using builtin implementations\n",
        "use_builtins = True"
      ]
    },
    {
      "cell_type": "code",
      "execution_count": 97,
      "metadata": {
        "id": "KqFqKi4fqN9X"
      },
      "outputs": [],
      "source": [
        "#@title Shape checker\n",
        "class ShapeChecker():\n",
        "  def __init__(self):\n",
        "    # Keep a cache of every axis-name seen\n",
        "    self.shapes = {}\n",
        "\n",
        "  def __call__(self, tensor, names, broadcast=False):\n",
        "    if not tf.executing_eagerly():\n",
        "      return\n",
        "\n",
        "    if isinstance(names, str):\n",
        "      names = (names,)\n",
        "\n",
        "    shape = tf.shape(tensor)\n",
        "    rank = tf.rank(tensor)\n",
        "\n",
        "    if rank != len(names):\n",
        "      raise ValueError(f'Rank mismatch:\\n'\n",
        "                       f'    found {rank}: {shape.numpy()}\\n'\n",
        "                       f'    expected {len(names)}: {names}\\n')\n",
        "\n",
        "    for i, name in enumerate(names):\n",
        "      if isinstance(name, int):\n",
        "        old_dim = name\n",
        "      else:\n",
        "        old_dim = self.shapes.get(name, None)\n",
        "      new_dim = shape[i]\n",
        "\n",
        "      if (broadcast and new_dim == 1):\n",
        "        continue\n",
        "\n",
        "      if old_dim is None:\n",
        "        # If the axis name is new, add its length to the cache.\n",
        "        self.shapes[name] = new_dim\n",
        "        continue\n",
        "\n",
        "      if new_dim != old_dim:\n",
        "        raise ValueError(f\"Shape mismatch for dimension: '{name}'\\n\"\n",
        "                         f\"    found: {new_dim}\\n\"\n",
        "                         f\"    expected: {old_dim}\\n\")"
      ]
    },
    {
      "cell_type": "code",
      "execution_count": 99,
      "metadata": {
        "colab": {
          "base_uri": "https://localhost:8080/"
        },
        "id": "rOduTbljY-4e",
        "outputId": "b95ed0e1-fb62-464b-f0a4-738b6ffc11a2"
      },
      "outputs": [
        {
          "name": "stdout",
          "output_type": "stream",
          "text": [
            "['Come on boys, it is time to shine.', 'This heart asks for more!', 'She was roasting the spices when the phone rang', 'You know me right', 'I will handle that', 'Come over to my place, we will sit together and drink tea', 'this is a sample', 'I hope I have made you understand well', 'Why is it late? What is your excuse?', 'I get milk for free', 'yes there it is', 'dude I made a mistake', 'Oh do not you know Hinglish? Wait, I will teach you', 'You naughty boy, I will teach you a lesson', 'How are you? I hope everything is going well.', 'Bring some fruits and vegetables', '17 Ways to Increase WordPress Site Speed', 'she only keeps doing timepass', 'we are going to visit tomorrow', 'See you tomorrow afternoon at 3pm', \"I am going to visit Shobha, Ravi's would be\", 'she is completely filmy', \"At the time of the bride's farewell, there was a complete filmy atmosphere.\", \"Today's movie was just a time-pass.\", 'Tell me your number', 'Punit is absolutely an useless man', 'Seema, you are looking absolutely heroine in this dress.', 'I am tired due to crowd and heat', 'These kids are absolutely wild.', 'How is your health? Absolutely first-class!', 'Thug-life is going amazing', 'How are you, Boss?', 'You are looking very solid today.', 'In every appraisal bosses give us some false promises but no hike', 'Tomorrow we are all going to see the picture.', 'Do not show too much heroic antics', 'From which college are you passed out?', 'Irritated because of extreme heat', 'What is your name?', 'Train is delayed', 'Let us drink coffee', 'At what time bus will arrive?', 'Bathroom is on the right', 'Our TV is not working since 2 days', 'Station is 4 kilometers away from here', 'Keep juice in fridge', 'Tom Cruise did the right thing in Mission Impossible', 'Beyonce has 200 M Insta followers', 'Sir i submitted the form 2 weeks ago..', 'when will you update this list', 'I have a thousand things to do', 'Feeling Bad For their Team, They Should Have Won', 'I was calling you but your phone was switched off', 'A new shop has opened in my colony  Ek new shop open hui hai mere colony main', 'The processing speed of my computer is very slow', 'I am good', 'We are going to visit Jaipur for two days.', 'what will you wear to the function', 'what bike have you got', 'Will you get a pen drive from the shop near your college?', 'You go alone to the market, I will be coming late.', 'You have written poetry very well, you can become a poet later.', 'If there is less petrol in my car then I have to go to the petrol pump.', 'Hey plan a trip', 'Do a recharge of rupees 500 in my phone', 'these flowers look so beautiful', 'The food of that restaurant is good, let us go there.', 'I saw your name in the list too', 'i like the design of that car', 'This movie has been made a copy of that Hollywood movie.', 'I saw your photos on FB, where are you roaming.', 'who was that girl with you?', 'You have well written bio on insta profile', 'What routine do you follow?', 'Call me early in the morning to wake me up, I have to go to Gym from early morning tomorrow', 'Why do not you start your own youtube channel?', \"Hey Ankit's birthday is near, we'll party\", 'I do not understand what to do next.', 'I will come again tomorrow at 7 pm', 'Be quick guys, or we will be late for the movie', 'Will have a happy birthday party for you on your birthday', 'I will go to the police station and write a complaint', \"germany's team plays football very well\", 'she is waiting for me', 'phone rang a lot', 'the police caught him', \"Bring six bananas from Raju's shop tomorrow\", 'Sky is so cloudy, looks like it will rain', 'Guys let us go or we will be late, we do not have much time', 'let me track your order', 'My boss has given an assignment the whole weekend will pass', 'Why are you blogging?', 'I started getting these type of questions too', 'I will give you an example', 'why are you looking so confused', 'Do not leave the lunch like this', 'Do not forget to share your views by commenting', 'There are few people who think mixing languages is a bad idea', 'it is too tough', 'I am getting complex now in the one after Mitesh.', \"Ma'am liked theirs very much\", 'Even I can use Canva and make it but it will not be quick, atleast some more time is required.', \"Ma'am is going to take a presentation today only!\", 'What to do then?', 'Who do you want to present?', 'Why to present?', 'Because these three made it!', 'I have just wrote.', 'That is a valid reason.', 'Hey, it is done.', 'What to do then?', 'And I have put picture of a piece of code', 'Mahima, do not you have anything to say?', 'She won, she spoke before them.', 'So remaining, Vrushabh?', 'Let it be.', 'Next time.', 'I am not alive.', 'So who made it?', 'I did not even know, when did all this happen?', 'It is useless to ask.', 'You sent the code, right?', 'Wow, everyone is giving credit to each other, what a group!', 'Ours is like this, these people just do not let me do anything.', 'These people treat me step-motherly!', 'That is why if a week is given, it should be started early.', 'Darmatic', 'Who will tell?', 'I found out today!', 'No brother', 'So, Mahima, you decide!', 'Yes', 'No, I am just enjoying.', 'Great', 'Of all jokes', 'Come on, it is final, we do not have to do it.', 'Everyone in agreement say \"Aye\".', 'Now new members will take the decision.', 'Then do the presentation alone.', 'It will take 1 hour, I will make it.', 'But it is made, right?', 'Send that presentation here once brother', 'He is talking about Canva, I guess.', 'We will also make presentation on Canva! But neither is the script ready properly nor has any practice been done.', 'True.', 'Let us fallback for now, will go for full throttle next time, what is the say?', 'I am in the coffin right now.', 'Yes', 'Yes', 'On seeing this gif, astronomy starts playing in my mind.', 'That ends well.', 'Salute to tony.', 'Yes', 'Right subject has been kept.', 'Tanaya, well done!', 'She is talking about herself.', 'Heard the data is leaking.', 'Yes! I had so much faith in Parrot, they also turned out to be fraudsters.', 'This reminded me, check Hackerone site, I had sent you Bug Bounty course, you will find projects there and shell out some good amount of cash from them.', 'Whom are you teling?', 'Watch this video.', 'I have not tried but I think WSL 2 GUI works.', 'Those who understand got it! The one who does not understand is the next chairperson of Joshi Vadewale!', 'It will happen, let us do and see.', 'Yes! Will check this today, after lecture.', \"Faculty member's introduction\", 'We just want to sit and listen.', 'Yes!', 'And in the end, you have to clap.', 'Hey, do not we have python lecture now?', \"Isn't it?\", 'Same link.', 'Okay', \"CG's\", 'What time is it?', 'It is still going.', 'Python rocks', 'Yes', '29 students only', 'Did you get the google classroom codes?', 'Now after the new Microsoft Edge, these are saved from Chrome!', 'Only Java and Flutter developers may be able to connect!', 'Every site should tell all these things in the name of warning.', 'That our IDE will do everything just will not give semi colon. You look into it.', 'By the way, let us keep this group active, what I want to say that, let us keep on sharing our problems and solutions here, for memes we already have Guru! Let us make this our own stack overflow!', 'I have a problem. Coffee is over in the house.', 'Then get me coffee', 'Give me address, I will order and send.', 'You will not send anything else other than coffee, right?', 'Coffee will come.', 'Look', 'Who makes a project on marijuana?', 'Hey, honestly.', 'Somebody from this group had made it, right?', 'Are you seriously taking it?', 'Yes', 'Brother thinks ahead.', 'Truly.', 'Tanaya you become LR.', 'Come on boys, it is time to shine.', 'This heart asks for more!', 'She was roasting the spices when the phone rang', 'You know me right', 'I will handle that', 'Come over to my place, we will sit together and drink tea', 'this is a sample', 'I hope I have made you understand well', 'Why is it late? What is your excuse?', 'I get milk for free', 'yes there it is', 'dude I made a mistake', 'Oh do not you know Hinglish? Wait, I will teach you', 'You naughty boy, I will teach you a lesson', 'How are you? I hope everything is going well.', 'Bring some fruits and vegetables', '17 Ways to Increase WordPress Site Speed', 'she only keeps doing timepass', 'we are going to visit tomorrow', 'See you tomorrow afternoon at 3pm', \"I am going to visit Shobha, Ravi's would be\", 'she is completely filmy', \"At the time of the bride's farewell, there was a complete filmy atmosphere.\", \"Today's movie was just a time-pass.\", 'Tell me your number', 'Punit is absolutely an useless man', 'Seema, you are looking absolutely heroine in this dress.', 'I am tired due to crowd and heat', 'These kids are absolutely wild.', 'How is your health? Absolutely first-class!', 'Thug-life is going amazing', 'How are you, Boss?', 'You are looking very solid today.', 'In every appraisal bosses give us some false promises but no hike', 'Tomorrow we are all going to see the picture.', 'Do not show too much heroic antics', 'From which college are you passed out?', 'Irritated because of extreme heat', 'What is your name?', 'Train is delayed', 'Let us drink coffee', 'At what time bus will arrive?', 'Bathroom is on the right', 'Our TV is not working since 2 days', 'Station is 4 kilometers away from here', 'Keep juice in fridge', 'Tom Cruise did the right thing in Mission Impossible', 'Beyonce has 200 M Insta followers', 'Sir i submitted the form 2 weeks ago..', 'when will you update this list', 'I have a thousand things to do', 'Feeling Bad For their Team, They Should Have Won', 'I was calling you but your phone was switched off', 'A new shop has opened in my colony  Ek new shop open hui hai mere colony main', 'The processing speed of my computer is very slow', 'I am good', 'We are going to visit Jaipur for two days.', 'what will you wear to the function', 'what bike have you got', 'Will you get a pen drive from the shop near your college?', 'You go alone to the market, I will be coming late.', 'You have written poetry very well, you can become a poet later.', 'If there is less petrol in my car then I have to go to the petrol pump.', 'Hey plan a trip', 'Do a recharge of rupees 500 in my phone', 'these flowers look so beautiful', 'The food of that restaurant is good, let us go there.', 'I saw your name in the list too', 'i like the design of that car', 'This movie has been made a copy of that Hollywood movie.', 'I saw your photos on FB, where are you roaming.', 'who was that girl with you?', 'You have well written bio on insta profile', 'What routine do you follow?', 'Call me early in the morning to wake me up, I have to go to Gym from early morning tomorrow', 'Why do not you start your own youtube channel?', \"Hey Ankit's birthday is near, we'll party\", 'I do not understand what to do next.', 'I will come again tomorrow at 7 pm', 'Be quick guys, or we will be late for the movie', 'Will have a happy birthday party for you on your birthday', 'I will go to the police station and write a complaint', \"germany's team plays football very well\", 'she is waiting for me', 'phone rang a lot', 'the police caught him', \"Bring six bananas from Raju's shop tomorrow\", 'Sky is so cloudy, looks like it will rain', 'Guys let us go or we will be late, we do not have much time', 'let me track your order', 'My boss has given an assignment the whole weekend will pass', 'Why are you blogging?', 'I started getting these type of questions too', 'I will give you an example', 'why are you looking so confused', 'Do not leave the lunch like this', 'Do not forget to share your views by commenting', 'There are few people who think mixing languages is a bad idea', 'it is too tough', 'After seeing Surabhi for a year, this decision has been taken.', 'That I will not become LR.', 'Specially if there are such people.', 'Same here.', 'But you handle such people very well.', 'You do this action better than this model.', 'By the way, really miss those days.', 'Yes.', \"And even now I remember Chetan's election speech.\", 'Ram Ram Maharashtra.', 'Or Jai Hind, something was said at last.', 'Won full confidence at first sight.', 'I think, Jai Hind, Jai Maharashtra!', 'Seriously.', 'Yes, this maybe.', 'Jai Maharashtra!', 'Was Chetan CR?', 'Yes', 'Yeah', 'So angry at him', 'Favorite', 'What did you do that direct 6.24 GB is finished?', 'Parrot update.', 'Look of the month!', 'My plans are far beyond than what you can think about!', 'Brother, my 60 MB was used in 14 days.', 'Child, don not use mobile much.', 'I aim for world domination!', 'Hey, not angry, just a genuine question!', 'He disappeared in the second semester.', 'Yes, Surabhi used to handle it anyway.', 'Same here', \"Does anyone pay attention to Deld's lectures?\", 'Which subject is this, tell me first', 'I do not even attend it', 'E stands for Electronics, I know this much.', 'This was the question for Surabhi and Mahima.', 'I know. You attend all the lectures by sitting silently.', 'No, they get excited in OOP.', 'By the way, why did you ask?', \"Today is emoji day, isn't it?\", 'But we talk in stickers.', 'Exactly', 'Laughing out loud', 'Look what is happening.', 'God', 'It is extremely saddening.', \"The best thing he did in CR's entire life time was his speech.\", 'Yes!', 'Yes and that is all.', 'Is the lecture going on now?', 'Jai Maharashtra!', 'Jai Hind friends', 'Somebody put this on the official group too.', 'My whole concentration is on his english language mistake', 'Yes', 'Yes', 'Where did Sir disappear?', 'Lecture over', 'Might have work at home.', 'Have to wash the dishes.', 'God', 'You know', 'She just makes project on it.', 'Yes, taking reference.', 'Do not make it again', 'project', 'Tried the above 2.', \"Brother's GK is very good.\", 'Saw, so told.', 'Yes, so I want to know one more thing.', 'Speak.', 'I will tell.', 'What did Amitabh eat for breakfast today?', 'People want to know.', 'Which public is it? Let us also know.', 'Yes, I will let you know if I know.', 'Hey, but Ajay Devgan must have eaten it, right?', 'That is it.', 'And under this category comes Tiktokers!', 'Yes', 'Now known as Instagram reelers!', 'Vivek Oberoi tweeted for Ash.', 'Yes', '24 alphabets', 'Name given as Chamkile Chooze by Dino.', 'Dino James', 'Oh yes.', 'See this video.', 'I have been following him since Girlfriend time!', 'Me too.', 'It was a strong diss track.', 'But he made very nice songs after that, Loser is hell of a motivational song!', 'He does not have the talent to do the same role in every film.', 'Anyone can become a singer with software.', 'Exactly!', 'I will also become a singer now.', 'The fun of trolling brother is different', 'Yes, of course.', 'Auto tune has made everyone a singer. Competition is going on in Punjabi people, which auto tune is made well?', 'Giggle', 'Come on boys, it is time to shine.', 'This heart asks for more!', 'She was roasting the spices when the phone rang', 'You know me right', 'I will handle that', 'Come over to my place, we will sit together and drink tea', 'this is a sample', 'I hope I have made you understand well', 'Why is it late? What is your excuse?', 'I get milk for free', 'yes there it is', 'dude I made a mistake', 'Oh do not you know Hinglish? Wait, I will teach you', 'You naughty boy, I will teach you a lesson', 'How are you? I hope everything is going well.', 'Bring some fruits and vegetables', '17 Ways to Increase WordPress Site Speed', 'she only keeps doing timepass', 'we are going to visit tomorrow', 'See you tomorrow afternoon at 3pm', \"I am going to visit Shobha, Ravi's would be\", 'she is completely filmy', \"At the time of the bride's farewell, there was a complete filmy atmosphere.\", \"Today's movie was just a time-pass.\", 'Tell me your number', 'Punit is absolutely an useless man', 'Seema, you are looking absolutely heroine in this dress.', 'I am tired due to crowd and heat', 'These kids are absolutely wild.', 'How is your health? Absolutely first-class!', 'Thug-life is going amazing', 'How are you, Boss?', 'You are looking very solid today.', 'In every appraisal bosses give us some false promises but no hike', 'Tomorrow we are all going to see the picture.', 'Do not show too much heroic antics', 'From which college are you passed out?', 'Irritated because of extreme heat', 'What is your name?', 'Train is delayed', 'Let us drink coffee', 'At what time bus will arrive?', 'Bathroom is on the right', 'Our TV is not working since 2 days', 'Station is 4 kilometers away from here', 'Keep juice in fridge', 'Tom Cruise did the right thing in Mission Impossible', 'Beyonce has 200 M Insta followers', 'Sir i submitted the form 2 weeks ago..', 'when will you update this list', 'I have a thousand things to do', 'Feeling Bad For their Team, They Should Have Won', 'I was calling you but your phone was switched off', 'A new shop has opened in my colony  Ek new shop open hui hai mere colony main', 'The processing speed of my computer is very slow', 'I am good', 'We are going to visit Jaipur for two days.', 'what will you wear to the function', 'what bike have you got', 'Will you get a pen drive from the shop near your college?', 'You go alone to the market, I will be coming late.', 'You have written poetry very well, you can become a poet later.', 'If there is less petrol in my car then I have to go to the petrol pump.', 'Hey plan a trip', 'Do a recharge of rupees 500 in my phone', 'these flowers look so beautiful', 'The food of that restaurant is good, let us go there.', 'I saw your name in the list too', 'i like the design of that car', 'This movie has been made a copy of that Hollywood movie.', 'I saw your photos on FB, where are you roaming.', 'who was that girl with you?', 'You have well written bio on insta profile', 'What routine do you follow?', 'Call me early in the morning to wake me up, I have to go to Gym from early morning tomorrow', 'Why do not you start your own youtube channel?', \"Hey Ankit's birthday is near, we'll party\", 'I do not understand what to do next.', 'I will come again tomorrow at 7 pm', 'Be quick guys, or we will be late for the movie', 'Will have a happy birthday party for you on your birthday', 'I will go to the police station and write a complaint', \"germany's team plays football very well\", 'she is waiting for me', 'phone rang a lot', 'the police caught him', \"Bring six bananas from Raju's shop tomorrow\", 'Sky is so cloudy, looks like it will rain', 'Guys let us go or we will be late, we do not have much time', 'let me track your order', 'My boss has given an assignment the whole weekend will pass', 'Why are you blogging?', 'I started getting these type of questions too', 'I will give you an example', 'why are you looking so confused', 'Do not leave the lunch like this', 'Do not forget to share your views by commenting', 'There are few people who think mixing languages is a bad idea', 'it is too tough', 'Awesome rapper', 'Is it compulsory to tell which courses are you doing?', 'Python for Everybody is a popular course. Everyone is doing the same.', 'And the rest is also a lot of data science, web development, etc.', 'Name - Pooja Batheja', 'Any comments on the course??', 'What can I say now?', 'Following the orders given by Modi ji.', 'self dependent', 'He is self dependent.', 'I was about to type the same.', 'No, you will not understand what I am saying.', 'Name - Askand Srivastava', 'See the roll number.', 'Brother, put your roll number.', 'Fond of giving credit to someone else.', 'Hobbies are a big deal!', \"By the way, Python for Everybody is literally scaling upto it's name atleast the latter part of Everybody!\", 'True.', 'That instructor is really good.', 'I myself enjoy watching and listening only two people online in this lowdown, Dr. Chuck being one of them!', 'Yes', 'Chuck Severance', 'He just came in wearing a Harry Potter hat and beacme favorite.', 'Yes', 'I am already following them!', 'Yes', 'Vrushabh has put the complete resume on the group.', 'Hey just had put it in jest', 'Brother, who is paying attention anyway', 'There must be someone!', 'Thankyou', 'Did you start?', 'are there no answers in the PDF?', 'Yes Please send the PDF', 'Please send question photo ..', 'Pictures', 'Is there any problem with the camera?', 'tell someone', 'From which PDF are those questions going to come?', 'sure brother', 'Send it', 'Please send the PDF', 'PDF', 'Send', 'someone send pdf of webx', 'Bro are the questions from pdf', 'Please try F12 on Chrome and try to find the answer', 'It will start from where the time will stop', 'DM for help', 'Hello', 'Brother are those comming from Wheebox?', 'Please tell', 'No.', 'How will anyone in this group get answers?', 'Many people are sending messages', 'Yes', 'Send pdf if possible', 'Write a few words and send', 'Make a PDF of questions and answers whoever is done with their exams', 'Is there a warning in the camera when the mobile is turned on?', 'Bro try to avoid it', 'Warning will come', 'Yes', 'Send photos with the answers Anyone done wiht their exams?', 'Brother', 'Which test are you giving?', 'Question number N question are same for everyone or different', 'Everything belongs to me, brother', 'Will it work if I turned off the WiFi?', 'No man', 'what was its use?', 'got a few', 'nothing is from PDF Brother', \"can't find it even on google\", \"Can't even see the photo in camera can ma'am see it?\", 'Who has passed?', 'how would we know if someone helped?', 'will the result come gets quickly displayed?', 'No.', 'are the questions changed in slots C3-4 and 4-5?', 'Please tell me about this one', 'is Wheebox PDF available?', 'Thank you brother', 'answers can be found on Wheebox PDF', 'Please send Wheebox PDF if available', 'When do you know the result?', 'The test was only 1 hour or what?', 'The timing was said to be 2 hours', 'Send the answers PDF is available', 'Please send the PDF if available', 'bubble you have to study', 'This GRP is of no use. Photos keep coming so fast', 'unable to understand anything', 'Where have you been, Sir?', 'they were going to give the answers', \"It's all a scam\", 'By creating such groups to make people look stupid', 'This same question has come up only 3-4 times', \"Isn't Sir answered yet?\", 'Come on boys, it is time to shine.', 'This heart asks for more!', 'She was roasting the spices when the phone rang', 'You know me right', 'I will handle that', 'Come over to my place, we will sit together and drink tea', 'this is a sample', 'I hope I have made you understand well', 'Why is it late? What is your excuse?', 'I get milk for free', 'yes there it is', 'dude I made a mistake', 'Oh do not you know Hinglish? Wait, I will teach you', 'You naughty boy, I will teach you a lesson', 'How are you? I hope everything is going well.', 'Bring some fruits and vegetables', '17 Ways to Increase WordPress Site Speed', 'she only keeps doing timepass', 'we are going to visit tomorrow', 'See you tomorrow afternoon at 3pm', \"I am going to visit Shobha, Ravi's would be\", 'she is completely filmy', \"At the time of the bride's farewell, there was a complete filmy atmosphere.\", \"Today's movie was just a time-pass.\", 'Tell me your number', 'Punit is absolutely an useless man', 'Seema, you are looking absolutely heroine in this dress.', 'I am tired due to crowd and heat', 'These kids are absolutely wild.', 'How is your health? Absolutely first-class!', 'Thug-life is going amazing', 'How are you, Boss?', 'You are looking very solid today.', 'In every appraisal bosses give us some false promises but no hike', 'Tomorrow we are all going to see the picture.', 'Do not show too much heroic antics', 'From which college are you passed out?', 'Irritated because of extreme heat', 'What is your name?', 'Train is delayed', 'Let us drink coffee', 'At what time bus will arrive?', 'Bathroom is on the right', 'Our TV is not working since 2 days', 'Station is 4 kilometers away from here', 'Keep juice in fridge', 'Tom Cruise did the right thing in Mission Impossible', 'Beyonce has 200 M Insta followers', 'Sir i submitted the form 2 weeks ago..', 'when will you update this list', 'I have a thousand things to do', 'Feeling Bad For their Team, They Should Have Won', 'I was calling you but your phone was switched off', 'A new shop has opened in my colony  Ek new shop open hui hai mere colony main', 'The processing speed of my computer is very slow', 'I am good', 'We are going to visit Jaipur for two days.', 'what will you wear to the function', 'what bike have you got', 'Will you get a pen drive from the shop near your college?', 'You go alone to the market, I will be coming late.', 'You have written poetry very well, you can become a poet later.', 'If there is less petrol in my car then I have to go to the petrol pump.', 'Hey plan a trip', 'Do a recharge of rupees 500 in my phone', 'these flowers look so beautiful', 'The food of that restaurant is good, let us go there.', 'I saw your name in the list too', 'i like the design of that car', 'This movie has been made a copy of that Hollywood movie.', 'I saw your photos on FB, where are you roaming.', 'who was that girl with you?', 'You have well written bio on insta profile', 'What routine do you follow?', 'Call me early in the morning to wake me up, I have to go to Gym from early morning tomorrow', 'Why do not you start your own youtube channel?', \"Hey Ankit's birthday is near, we'll party\", 'I do not understand what to do next.', 'I will come again tomorrow at 7 pm', 'Be quick guys, or we will be late for the movie', 'Will have a happy birthday party for you on your birthday', 'I will go to the police station and write a complaint', \"germany's team plays football very well\", 'she is waiting for me', 'phone rang a lot', 'the police caught him', \"Bring six bananas from Raju's shop tomorrow\", 'Sky is so cloudy, looks like it will rain', 'Guys let us go or we will be late, we do not have much time', 'let me track your order', 'My boss has given an assignment the whole weekend will pass', 'Why are you blogging?', 'I started getting these type of questions too', 'I will give you an example', 'why are you looking so confused', 'Do not leave the lunch like this', 'Do not forget to share your views by commenting', 'There are few people who think mixing languages is a bad idea', 'it is too tough', 'Unfair means will not come right?', 'M3 comes from nirali?', 'No Please any one share M3 mcq', 'Send M3 to mcq', 'Send final merge pdf of M3', 'Yes please send', \"Send Jordan Bhelfort's m3 pdf\", 'There is a link to my profile. Join the channel. MCQ is available', 'Send M3 merged pdf', 'theres a chance of coming from that', 'Morning to all!', \"guy's, today is exam of M3 please send answer quickly\", 'Ok', 'Guys have 30 questions', 'Oh bro', 'Ok', 'Yes bro', 'Bro, is it audio?', 'Dont know', 'send ans guys', 'Bro please send m3 pdf', 'Question is in IMP just', 'is it sure?', 'Please send a screenshot', 'got screwed up today', 'Ok', 'anyone has pdf?', 'is it coming on google', 'Which', 'Tell Ans', 'Please send a question', 'M3 computer 2019 patter send please send as soon as possible', 'Can anyone answer', 'Can anyone send chemistry wheebox pdf', 'Send pdf of FE Nirali publication', 'what is the answer of this? please someone send this one.', 'I got UM, so what I have to do in SPPU?', 'The paper is submitted or not First and First thing i did not cheated nor caught on the camera doing any such activities ...', 'What is the passing', 'It get submitted automatically no worries', 'Bro topper', 'Send tommorows pdf', 'He will get fever now', 'will it come from DSA book pdf?', 'Of which book is this pdf', 'PLEASE KEEP SHARING TO HELP OTHERS ALSO', 'Dose anyoine hae DSA big pdf?', 'Bro, Passing is 24 right?', 'For M3', 'I got one too ... that is not serious right', 'DSA unit 456 send mcq pdf', 'NO whhebox or sanfoundary pdfs?', 'DSA 2019', 'Yes great', 'Is DSA combine?', 'send mcq of dsa pdf think it should not be', 'upload Question', 'of DSA', 'sending answer', 'Thank you', 'someone tell this', 'this', 'this too', 'Physic pdf', 'Software Engineering pdf please', 'Please send some mcqs of software engg ...... SE 2019 pattern ....', 'software engineering pdf pls', 'who is maths topper', \"Does anyone have Sinhagad College's SE pdf\", 'What is the result of M3?', \"11 o'clock\", 'Okay, what is the passing?', 'Maybe 20 marks', 'Microprocessor', 'Hey guys anyone have GATE boks pdf for CS', 'Yes but have to buy it', 'Mp pdf Anyone', 'Tommarow is MP right?', \"Whats's the passing marks?\", 'Passing is 40%', 'Is 20 fix for passing', 'The results are showing on, thanks brother', 'PDF please', 'Please', 'Dose anyone have purple hat pdf?', 'of M2', 'Passing is 20 right?', 'yes', 'Those who are facing difficulties in MP, join me for CSE ECE projects tutorial with source DM me', 'Everyone', 'Are you getting the answer from google?', 'are those both different', 'PPL is Java and PPS Python is PPL java pl', 'Maximum 3', 'is PBL PDF available?', \"But I don't know it will be coming or not\", \"Let's see what will happen\", 'dose anyone have PPS wheebox?', '10 marks gerys asato', 'If 1 subject is not cleared', \"Then it'll get cleared\", 'Come on boys, it is time to shine.', 'This heart asks for more!', 'She was roasting the spices when the phone rang', 'You know me right', 'I will handle that', 'Come over to my place, we will sit together and drink tea', 'this is a sample', 'I hope I have made you understand well', 'Why is it late? What is your excuse?', 'I get milk for free', 'yes there it is', 'dude I made a mistake', 'Oh do not you know Hinglish? Wait, I will teach you', 'You naughty boy, I will teach you a lesson', 'How are you? I hope everything is going well.', 'Bring some fruits and vegetables', '17 Ways to Increase WordPress Site Speed', 'she only keeps doing timepass', 'we are going to visit tomorrow', 'See you tomorrow afternoon at 3pm', \"I am going to visit Shobha, Ravi's would be\", 'she is completely filmy', \"At the time of the bride's farewell, there was a complete filmy atmosphere.\", \"Today's movie was just a time-pass.\", 'Tell me your number', 'Punit is absolutely an useless man', 'Seema, you are looking absolutely heroine in this dress.', 'I am tired due to crowd and heat', 'These kids are absolutely wild.', 'How is your health? Absolutely first-class!', 'Thug-life is going amazing', 'How are you, Boss?', 'You are looking very solid today.', 'In every appraisal bosses give us some false promises but no hike', 'Tomorrow we are all going to see the picture.', 'Do not show too much heroic antics', 'From which college are you passed out?', 'Irritated because of extreme heat', 'What is your name?', 'Train is delayed', 'Let us drink coffee', 'At what time bus will arrive?', 'Bathroom is on the right', 'Our TV is not working since 2 days', 'Station is 4 kilometers away from here', 'Keep juice in fridge', 'Tom Cruise did the right thing in Mission Impossible', 'Beyonce has 200 M Insta followers', 'Sir i submitted the form 2 weeks ago..', 'when will you update this list', 'I have a thousand things to do', 'Feeling Bad For their Team, They Should Have Won', 'I was calling you but your phone was switched off', 'A new shop has opened in my colony  Ek new shop open hui hai mere colony main', 'The processing speed of my computer is very slow', 'I am good', 'We are going to visit Jaipur for two days.', 'what will you wear to the function', 'what bike have you got', 'Will you get a pen drive from the shop near your college?', 'You go alone to the market, I will be coming late.', 'You have written poetry very well, you can become a poet later.', 'If there is less petrol in my car then I have to go to the petrol pump.', 'Hey plan a trip', 'Do a recharge of rupees 500 in my phone', 'these flowers look so beautiful', 'The food of that restaurant is good, let us go there.', 'I saw your name in the list too', 'i like the design of that car', 'This movie has been made a copy of that Hollywood movie.', 'I saw your photos on FB, where are you roaming.', 'who was that girl with you?', 'You have well written bio on insta profile', 'What routine do you follow?', 'Call me early in the morning to wake me up, I have to go to Gym from early morning tomorrow', 'Why do not you start your own youtube channel?', \"Hey Ankit's birthday is near, we'll party\", 'I do not understand what to do next.', 'I will come again tomorrow at 7 pm', 'Be quick guys, or we will be late for the movie', 'Will have a happy birthday party for you on your birthday', 'I will go to the police station and write a complaint', \"germany's team plays football very well\", 'she is waiting for me', 'phone rang a lot', 'the police caught him', \"Bring six bananas from Raju's shop tomorrow\", 'Sky is so cloudy, looks like it will rain', 'Guys let us go or we will be late, we do not have much time', 'let me track your order', 'My boss has given an assignment the whole weekend will pass', 'Why are you blogging?', 'I started getting these type of questions too', 'I will give you an example', 'why are you looking so confused', 'Do not leave the lunch like this', 'Do not forget to share your views by commenting', 'There are few people who think mixing languages is a bad idea', 'it is too tough', 'Does anyone have a PDF?', 'No one is answering', 'That is what I am saying', 'no one has studied', 'So who will give the answers', 'just like that PDF nothing else', 'swear to the administration all together', 'I said that \"Hack my Mom\\'s Facebook\"', 'why?', '@917972980746 ! is our first free client', 'Please do', \"No, we don't do any wrong work\", 'bro, send me a discord link that provides daily content', 'just to send that message', 'I just enrolled', 'why is she asking for courses on this group?', 'one of my aquaintance!', \"Nope! I'm already frustrated by Whatsapp!\", 'okay', 'Today there will be many enrollments of Py4e from DYPIEMR', 'who?', 'that was DivisionA', 'copy pasted but', 'Instead of A only B was done', 'was', 'Yes', 'sorry', 'opposite', \"Instead of B it's A\", 'what have you been drunk with?', 'tea', 'too much drugs', 'Name - Nishant', 'Teachers were only talking during the orientation program', \"that's what\", 'give them some tea', 'why are we called?', 'tea will do the work for them', 'give them some food', 'to listen their meeting', '19 minutes late', 'give a big round of applause', 'told me to do it in the middle, not in the end', 'Oish! Why is my name comming like that?', \"don't know\", 'asking others about CGPA he himself has scored 6.8! Not judging just contemplating', 'Is this happening near you too???', 'yes', 'its on', 'Yes! we are spectating', 'okay', 'you too join, it will be awesome!', 'its already done', 'Mahima', 'you take the stand for LR', 'hurry', 'who is Askand Shankar?', 'Shrivastav got autocorrected to Shankar', 'this has a big secret', \"and that Sakshi Rane's name is looking like angel.sakshi rane\", 'Yes! She has many names!', 'college people are right. if they have to judge someone, they do it on the basis of their CGPA', 'now-a-days everyone is doing the same', 'this is wrong!', 'that is why suicide cases are increasing', 'Congratulations Askand', 'Thankyou brother!', 'okay, what happened in the meeting?', 'LS was not found', 'there are 3 candidates for CR', 'only this much?', 'do not remember bad things!', 'this is too much!', 'I was sleeping', 'this is what we have to do', 'college people are thinking that we forgot about the campus', 'showing tour', 'i cannot remember', 'that is why i have sent', 'Oh!', 'but i thought our college is in Nepal', 'rich people', 'Im making the Group Rule from today', 'If any assignment is given in the lecture send it here', 'not all persons are in the lecture', 'and some people will be asleep even if they are present', 'Good one', 'which assignment to do?', 'only one is uploaded on the classroom', 'yes', 'I saw', 'rest say it randomly', 'Yes ...', 'she said for formality', 'just', 'seems the same', 'same number of votes are there in Nepal too', 'You are counting less, considering the entire universe is in Nepal!', 'Yes', 'but during actual voting process only 31% people vote', 'rest NOTA', 'should be the same', 'i didnt like any of the introductuons', 'why? because our college is more of dictatorship than democracy?', 'probably painted the building', 'there is promotion going on the Instagram', 'Yes', 'i do not feel', 'here is 32 but it is feeling hot', 'Meaning man what is the use of having 34 temp when the feel is to be only 12 degrees more than that??', 'here is 23', 'Tanaya share the hotspot', 'you have so much data', 'because i was on the house hotspot for whole day', 'wierd peeps...who became the CR of your class?', 'dont know', 'voting is closed, but we did not even voted', 'yes', 'oh', 'what happend in A division?', 'havent heard of it yet....voting is already done', 'done by 100%', 'you stood up for the election again?', 'tell this, would anyone of class become LR?', 'what?', 'nothing', 'no no', 'one time experience was enough', 'not like this..experience wasnt that bad... it is okay, but i dont want to become one again', 'RIght, then', 'didnt said anything bad', 'watch whole video', '2020 is going just like that', 'yes', 'his luck is very bad that every time the ball hit his face', 'even if he rejected, he got hit', 'helpless', 'just like 2020', 'got an email of coursera?', 'means it was recieved 2 months prior', 'and me a month ago', 'i would have received too', 'see it will be in the inbox', 'If you have not entered your name or email address in the excel sheet, it will come', 'Yes', \"40-50 emails have come, don't know which is the exact of coursera\", 'Excel sheet has also come', 'So click on the join course option', 'And then go to Coursera and enroll through that email', 'i joined in January', 'maybe this email', 'yes this one', 'tell me one thing', 'was it hot today?', 'no', 'there was no cold..nor hot', \"We don't know what is happening here 1 day it is raining, 1 day it is very hot\", 'Answer to all strange things. 2020', 'Group name should also be 2020', 'To wish Happy New Year, from now on should be blown away by canon', 'for real', 'yes good point', 'no no', \"wake up at 3 o'clock to make a meme\", 'oh let it be', 'Brother, when do you sleep?', 'he does not sleep', 'He feels that he sleeps, but he does not sleep', '12 to 12:30 then 1 to 1:30 and 2 to 2:30', 'Genius', 'yes somthing like that', 'The fun of getting up in the morning and doing yoga is different', 'we also do yoga in the morning', '1km walk then yoga', 'meditation with eyes closed', 'Yes, I also do a lot of exercise in my dreams.', 'I want to gain weight, yesterday I was fat in my dream, but then I woke up', 'helpless', 'If you sleep in such installations, your weight will not increase.', 'how then?', 'yes full time course you have to sleep and eat', \"Sleep at 3 o'clock in the afternoon and wake up at 6 o'clock\", \"But I can't sleep because of my disease\", \"Then sleep at 11 o'clock in the night and wake up at 8 o'clock\", 'Watch our recorded lectures. You will fell asleep', 'so true', 'will die early', 'first of all i dont have any interest in studies', 'I had but now its weaing off', 'see if you have interest in studies or not', \"I haven't read yet even 1 night ago\", 'therefore you have backlogs', \"Engineering is a makeshifter's journey\", 'will learn everything slowly slowly', 'May I do everything except studies', 'but education in India is getting like this, due to which there is no interest.', 'yes it is', 'These elder brothers and sisters are already in engineering hence we get to know', 'I did not like DYP at all, it was good in starting then saw that partiality is happening here too ', 'Yes', 'same thing everywhere!', \"We didn't like it before we came to the DYP\", 'actually', 'Taught in coaching classes', 'COEP, PCIT etc were not found then take PCCOE next time', 'if that is not it then last option is DYP', 'dont even consider Sinhagad college at first', 'When the first day came to take admission, I was filling the form and my brother was killing mosquitos.', 'buddy, could have got PCCOE. It was a mistake taking DYP', 'There is only discipline and placements', 'rest is same', 'I had studied then for the 12th for the CET, I was not in the house for the 3rd month.', 'that is it', 'if discipline is there then is good', 'what good', 'I talked to my friends....', 'And Faculty and Staff is full of people from our society.', 'it is best business, should have done that', 'Mahima means news of everything', 'bad means?', 'news', 'hey I wrote it correctly', 'you read it wrong', 'tanaya wrote only news', 'what mahima', 'a person sent me this on messenger', 'Does anyone have a PDF?', 'No one is answering', 'That is what I am saying', 'no one has studied', 'So who will give the answers', 'just like that PDF nothing else', 'swear to the administration all together', 'How much is the passing?', 'where is the admin?', 'Just leave', 'Hey brother, its 20', 'Brother give the answers', 'really', 'So many photos came', 'how will i find 1200 by sitting', \"that's what i was talking about same here\", 'After nothing else does not allow more pictures', 'No brother', 'The browser is now out of focus is showing', \"doesn't even run half\", 'Asan sleep', 'means by doing half', 'questions were the same or different?', 'Press the winkey + arrow key to adjust the browser window', 'mc University has given tough questions', 'SPPU is so smart', \"Yes, it'll be good if I pass\", 'I thought some teacher would say answers on the group', 'nothing is happening', 'The course is out of syllabus', 'Get out of the group', 'were the questions same for everyone?', 'Brother, wait for sometime', 'Nothing is happening by doing half-work', 'How much is passing brother', 'Brother, who will type those big questions?', 'Use Google Lens', 'use Google Lens', 'Hey shutup', 'There is a little hope of geting pass', 'Hey smart', 'The theory will get completed', 'Google Lens is not showing clearly', 'Yes brother what is another option', \"I'm failing here\", 'were the questions same in the exam? someone tell me', 'No.', \"brothers, use half window you won't get any problem\", 'Someone do help please', 'Another 20 minutes', 'She will be yelling so much', 'Brother answer to this was given before at instruction levels', 'why asking again and again', 'Do it like this', 'Better offline', 'Yes no', 'I can write anything', 'All of you were convinced online', 'I just wanted offline', 'Give exam properly', 'Brother, What is the fault of University?', 'we have not studied', \"that's great! our admin has fooled us\", 'No answers were found', 'This is your anger speaking', 'have you failed?', 'You give answers to a girl very easily', 'I have not put it', 'send them', 'High level Simping', 'Tomorrow now', 'Can login to time slot anytime', \"if it's pervious wheebox then send\", 'whose is this?', 'Remained', 'Which exam is going on?', 'Tell me', \"aren't you able to do it?\", 'stop it', 'Everybody answers different Someone is telling a then telling c', \"Auto submitted after 5 o'clock or is it still on\", 'Ongoing', 'The multiprocessor is all done', 'ho many questions were from Wheebox PDF', 'Nothing came', 'a friend is pending', 'were they comming from wheebox pdf?', 'Thank you so much for the help', 'Were the questions from PDF?', 'I did not search in the PDF', 'Everyone has the same question or different set', 'The one who sent the answer to Google or here', 'so less quantity', 'approximately 60, how many were from Google?', \"They don't like children being happy\", 'Hopefully, all the questions of HIT department will be given on Google', 'it should be, this would be nice', 'I wish we were in IT', 'This group is for computer engineering right?', 'Unwanted group is of no use', 'Were the questions for computer department from wheel box?', 'Send a single picture', 'Take a single photo', 'Where are the ans found without mapping', 'Greedy', 'Closing the loop', 'Mapping without localization', 'Mark the image', 'Odometry', 'Search the Sunfoundry website guys', 'Most of them are getting it', 'what is the answer in PDF?', 'Please send pdf', 'Send pdf', 'PDF', 'Please send me brother', 'Please send pdf ....', 'Which group', 'Login by phone', 'which pdf to refer?', 'Half a window I can run two browsers', 'do browser ek sath chal rh Most of the answers I got from this pdf', 'Yes but if we start before exam warning will not occur', \"it's C\", 'Maybe C.', 'Please help', 'There are only 5 minutes left', 'Please send screenshots as there is no contact', 'Take an actual screenshot and send it to someone', 'Thankyou bro Almost 50 questions were in pdf', 'Human based', 'Please share mobile', 'Fn same as hn', 'Thank you Anjali', 'send pdf', 'Friends, do not submit the paper before the timer. You will get extra time', 'I did', 'Simping during exam too', 'WhatB', 'Reassuring', 'Both robot poses', 'Answer', 'It is the same as b', 'Use it got 30-35 answers', 'Is expanding', 'Please answer', 'I started paper just now', 'Fn same as hn', 'Thank you Anjali', 'send pdf', 'Friends, do not submit the paper before the timer. You will get extra time', 'I did', 'Simping during exam too', 'Reassuring', 'Both robot poses', 'Answer', 'It is the same as b', 'Use it got 30-35 answers', 'Is expanding', 'Please answer', 'I started paper just now', \"At the time of the bride's farewell, there was a complete filmy atmosphere.\", 'In every appraisal bosses give us some false promises but no hike', 'There are few people who think mixing languages is a bad idea', 'Be quick guys, or we will be late for the movie', 'phone rang many times', 'Most best friend', 'That I know', 'She was roasting the spices when the phone rang', 'i like a lot', 'i like mahatma gandhi a lot', 'i like mahatma gandhi a lot', 'I have to bring vegetables from the market', 'I have to bring vegetables from the market', 'Tom Cruise did the right thing in Mission Impossible', 'Tom Cruise did the right thing in Mission Impossible', 'I like it a lot', 'I like it a lot', 'I have to bring vegetables from the market', 'Most best friend', 'most best friend']\n",
            "['Come on boys, waqt hai shine karne ka', 'Yeh heart Maange More!', 'She was\\xa0bhunno-ing the\\xa0masala-s\\xa0jub\\xa0phone\\xa0ki ghuntee bajee', 'You know me na...', 'Woh to mai sambhal lunga', 'Come over to my place, saath baithke chai-wai peete hai', 'yeh hai ek sample', 'I hope I have samjhaoed you well', 'देर क्यों हो गयी? What is your bahana?', 'मुझे तोह दूध फ्री mein milta hai', 'हाँ woh toh wahan hi hai na', 'yaar, mistake हो गयी मुझसे', \"Ae tujhe hinglish nhi aati kya? Ruk, I'll teach you\", 'You naughty ladke....अभी मज़ा चखाती हु', 'kya haal hain aapke? Ummeed karta hoon sab thik chal raha hai.', 'Thode fruits और सब्ज़ी laa de', '17 Tarike WordPress Site ki Speed badhane ke', 'वह sirf timepass करती रहती है', 'hum kal ghoomne jaa rahe hai', 'कल afternoon 3pm मिलते है', 'Mai Shoba se milne j rhi hu...Ravi ki vud-bii', 'पूरी filmi है वोह', 'DuLhaN kii viDaaii ke Samay biLkuL fiLmii maahauL ho gayaa THaa.', 'aaj vaaLii muuvii baS taaim-paaS THii.', 'apaNaa Nambar baTaa!', 'puNiit ekaDam baNdaL aaDamii hai.', 'Siimaa, Tum To iS dreS men ekaDam hiiroiN Lag rahii ho.', 'bhiid aur garmii Se Dimaag puncture ho gayaa', 'ye bacche To biLkuL jangaLii hain.', 'TabiiyaT kaiSii hai? ekaDam farSt-kLaaS!', 'kamaL kii To THag-Laaif caL rahii hai.', 'kyaa haaL hai, bauS!', 'aaj To Tum ekaDam SauLid Dikh rahe ho.', 'har appraisal me Boss Log hume koii Na koii LauLiipaup De DeTe hain, lekin hike nahi dete', 'kaL ham Sab pikcar DekhaNe jaa rahe hain.', 'zyaaDaa hiiropanTii maT Dikhaao.', 'Tum kiS kauLej Se paaS-aaut ho', 'iTaNii garmii men bhejaa-fraaii ho gayaa', 'aapakaa gud-Nem kyaa hai?', 'Tren delay ho gyi h', 'Chak kaufii peete hai', 'बस kiTaNe baje aayegii', 'baaTHaruum DaahiNi or hai', 'hamaaraa tiivii Do DiN Se kharaab hai', 'StesaN yahaan Se caar kiLomiitar Duur hai', 'juuS frij men rakh Do.', 'taum kruuz ne misaN impauSibaL me sahi kaam kiya hai', 'biyaunSe ki 200m Insta followers hai', 'Sir mene form 2 week pahle submit kiya tha..', 'Is list ko update kab kroge aap', 'I have hazaar things to do', 'Unki team ke liye bura lag raha hai, they should have won', 'Main tujhe call kar raha tha, but tera phone switch off tha', 'Ek new shop open hui hai mere colony main', 'मेरे computer की processing speed kaafi slow हैं', 'I am toh changa ji', 'Hum do din k liye Jaipur ghumne ja rhe h.', 'Tum kya phn kr function m chaloge', 'Tumne kaunsi bike li hai', 'Aapke clg k pas wali shop se ek pen drive le aaoge?', 'Tum akele mkt ho aao, mujhe aane m late ho jayega.', 'Tumne poem badi achhi likhi hai, aage chlkr poet bn skte ho.', 'Meri car m petrol km hai to petrol pump jana pdega.', 'Arey Koi trip plan kro.', 'Mere phone m Rs. 500/- ka recharge kr do.', 'Ye flowers bht sundar lg rhe h', 'Us restaurant ka khana achcha h vahi chlte h sab.', 'Maine list m aapka bhi nam dekha tha', 'Mujhe us car ka design accha lgta hai', 'Ye movie to ekdum Hollywood ki us movie ki copy bna di hai', 'Maine FB pr photos dekhi tumhari, kaha ghum rhe ho.', 'Tumhare sath wo ldki kaun thi ?', 'Aapne insta profile pr bio acchha likha huaa h', 'Tum kya routine follow krte ho.', 'Mujhe subh call krke jldi utha dena, kl se early morning se gym jana hai', 'Tum apna youtube channel kyu ni shuru krte.', 'Arey ankit ka bdy aa rha h party krege', 'Mujhe smjh ni aa rha, aage kya kru.', 'Kal aaungi phir se mai shaam ke 7pm', 'Jaldi karo guys, or we’ll be late for the movie', 'Tumahare jamndin pe tumhre liye Happy Birthday party karenge', 'pulis steshan jaake complaint likhata hu', 'Jarmanee ki team kya sahi khelti hai futbol', 'vo mera intazaar kar rahee hai', 'fon bohot baar baja', 'polis ne us ko pakad liya', \"Kal cheh banane leke aana...from Raju's shop\", 'Sky is so cloudy, laagta hai baarish hogee', 'Guys, chale? or we’ll be late. zyaada time nahin hain', 'Mujhe aapka order track karne dein', 'Mere boss ne ek assignment di hai...pura weekend nikal jayega', 'Aap blogging Q kar rhe h?', 'Mere pass iss type ke question bhi aane lage', 'Me aapko ek Example deta hu', 'Aap itna confuse q lag rhe ho', 'Iss trha lunch chor ke mat jaa', 'Apne views share karna naa bhule comment karke', 'kuch people aise bhi hai who think mixing languages is a bad idea', 'Yeh to bohot tough hai', 'Mujhe toh complex ho raha hain ab Mitesh ke baad vaale mein', \"Ma'am Ko bada pasand aya unka\", 'Canva ko main bhi use karta hoon, bana bhi loon! But itti jldi nhi hoga, atleast thoda time chahiye voh karne ke liye', \"Ma'am sirf aaj hi lene vali hai presentation!\", 'Kya kare fir?', 'Kise present karna hain??', 'Kyun present karna hai???', 'Kyunki in teeno ne banaya hain!!!', 'Maine khali likha hai bas', \"That's a valid reason...\", 'Arre..kiya toh hain!!', 'To fir kare kya?', 'And maine ek piece of code ka pic bas lagaya h', 'Mahima...kya aapko kuch nhi kehna??', 'Vo jeet gayi, usne isse pehle bol diya!', 'Toh baaki... Vrushabh???', 'Jane do', 'Nxt tym', 'mai zinda nhi hu', 'Toh banaya kisne???', 'Mtlb mujhe pata bhi nhi chala, yeh sab ho kab gaya????', 'Puchna bekar hai', 'Code tumne bheje na', 'Vaah vaah...sab ek dusre ko credit de rahe hain...kya group hain!', 'Hamara aisa hi hota hain, bas mujhe kuch nhi karne dete yeh log....', 'Mere saath sautela vyavhaar karte hain yeh log!!', 'Isiliye ek week diya hota hai to pehele shuru karna chahiye', 'Nautanki', 'Batayega kaun????', 'Mujhe aaj pata chala!!!', 'Nahi na bhai', 'So, Mahima, aap hi decide kijiye!', 'Haan na', 'Nai mas anand lee rahi hu', 'Vaah', 'Saare jokes ka', 'Chalo, nhi karna hain, final!', 'Everyone in agreement say \"Aye\"', 'Ab naye naye member decision lenge...', 'Akele karo fi presentation', '1 hour lagega bna deta hu', 'Par banaya hua hai na', 'wo presentation ek bar yaha send kar do bhai', \"He's talking about Canva, i guess\", 'Presentation banane ko Canva par bana bhi denge! But apni na hi sahi se script ready hain and na hi koi practice ho paayi hain...', 'True...', \"Isbaar fallback and next time full throttle karte hain, what's the say?\", 'mai coffin me hu abhi filhal', 'Aye', 'Yess', 'Is gif ko dekhte hi, astronomia bajne lagta hain dimaag mein...', 'That ends well.', 'tony ko salam', 'Yess...', 'Sahi subject rakha hai', 'Tanaya...well done!', 'wo khudke baare me hi bta rhi hai', 'data leak kr raha hai suna', 'Haan! Yeh Parrot vaalo mein mujhe kitta vishvaas tha, yeh bhi dholebaaj nikle...', \"Isse yaad aaya, Tu Hackerone site check kar, maine tujhe Bug Bounty ka course diya tha na, vaha par uske projects milte hain, you'll shell out some good amount of cash from them!\", 'Ye app kisko bata rahe hai?', 'ye video dekhiyo', 'WSL 2 gui shayad kaam krta hai maine try nhi kiya', 'Samjhne vaale samajh gaye! Jo na samjhe voh joshi vadevale ki next chairperson hain!', 'hoga na krke dekhte hai', 'Yesssshh! Aaj yahi check karunga, after lecture', 'Arre...faculty members ka introduction..', 'Hume baithke bas sunna hai', 'Yes!', 'And aakhir mein mic on kar clap bhi karna hota hain', 'Heyy abhi python ka lec nai h kya ??', 'Hai na', 'Same link', 'Ok', 'CG vali', 'kitne bje hai', 'Abhi chal raha hai', 'Python rocks', 'Haan na...', '29 students only', 'google classroom ke codes mile kya', 'Ab naye microsoft edge ke baad, yeh bach gaye hai, chrome se!', 'Only Java and Flutter developers may be able to connect!', 'Ye sari baate warning ke naam par batani chahiye har site ne', 'Ki humara IDE sab kuch karega bas semi colon nahi dega. Wo aap dekh lo', \"Vaise let's keep this group active, what I want to say that, let's keep on sharing our problems and solutions here, memes ke liye toh Guru hain hi! ise apna khud ka stack overflow banate hain!\", 'I have a problem. Ghar me coffee khtam hui hai.', 'Then get me coffee', 'address de order krke bhejta', 'Coffee ke jagah kuch aur to nahi na bhejo ge', 'coffee hi aayega', 'dekhna', 'marijuana pe project kon bnata hai', 'are sach me', 'Isi group mei se kisine banay tha na', 'Sach me le rahe ho?', 'haa', 'Bhai kafi aage ki sochta hai ....', 'Sacchi', 'Tanaya tu lr bann na', 'Come boys, waqt hai shine karne ka', 'Yeh dil Maange More!', 'She was\\xa0bhunno-ing the\\xa0masala-s\\xa0jab\\xa0phone\\xa0ki ghanti baji', 'You know me', 'vo toh mai sambhal lunga', 'Mere yaha aana saath baithke chai-wai peete hai', 'ye hai sample', \"I hope i've samjhaoed you\", 'Why so late? What is your bahana?', 'mujhe toh doodh phree maiin milt hai', 'haan woh toh wahan hi hai na', 'yaar, mistakai ho gayee mujhase', 'aye tujhe hingalish nahee aatee kya? ruk, i will teech u', 'you naughty ladkai....abhee maza chakhaatee hu', 'kya haal hain aapake? ummeed karata hoon sab theek chal raha hai.', 'thodai fruits aur sabzee la dai', '17 tarike vardapres sait kee speed badhaane ke', 'vah sirf timaipass karatee rahatee hai', 'ham kal ghoomane ja rahe hai', 'kal aftairnoon 3pm milate hai', 'maee shoba se milane ja rahee hu...ravi kee vud-bee', 'pooree filmi hai voh', 'Dulhan ki vidai ke samay bilkul filmy mauhaul ho gaya tha', 'aaj vaalee moovee bas taim-paas thee.', 'apana nambar bata!', 'puneet ekadam bandal aadamee hai.', 'seema, tum to is dres mein ekadam heeroin lag rahee ho.', 'bheed aur garmee se dimaag pankchar ho gaya', 'ye bachche to bilakul jangalee hain.', 'tabeeyat kaisee hai? ekadam pharst-klaas!', 'kamaal kee to thag-laiph chal rahee hai.', 'kya haal hain boss?', 'aaj to tum ekadam solid dikh rahe ho.', 'har apraizal mein bos log hame koee na koee lauleepop de dete hain, lekin hike nahin dete', 'kal ham sab pikchar dekhane ja rahe hain.', 'zyaada heeropanteeh mat dikhao.', 'tum kis kolej se paas-aaut ho', 'itanee garamee mein bheja-phraee ho gaya', 'aapaka gud-nem kya hai?', 'Train delay ho gayi hai', 'Chal coffee pite hain', 'bas kitne baje aayegi', 'Bathroom dahini aur hain', 'Hamara TV do din se kharab hai', 'Station yaha se chaar kilometer hai', 'juice fridge mei rkh do', 'Tom Cruise ne Mission Impossible me sahi kaam kiya hain', 'biyonse kee 200ma insta phollovers hai', 'sar mene phorm 2 veek pahale sabamit kiya tha..', 'Iss list ko update', 'Mere paas hazaar cheezen karne ko hain', 'unakee teem ke lie bura lag raha hai, they shud haive von', 'main tujhe kol kar raha tha, boot tera fon svich oph tha', 'ek naee shop opan huee hai mere kolonee mein', 'mere chomputair kee prochaissing spaiaid kaafi slow hain', 'I am toh changa ji', 'ham do din ka lie jayapur ghoomane ja rahe ha.', 'tum kya pahan kar phankshan ma chaloge', 'tumane kaunasee baik lee hai', 'aapake salag ka paas vaalee shop se ek pen draiv le aaoge?', 'tum akele makt ho aao, mujhe aane ma let ho jaayega.', 'tumane poem badee achchhee likhee hai, aage chalakar poet ban sakate ho.', 'meree kaar ma petrol kam hai to petrol pamp jaana padega.', 'Are Koi trip plan kro.', 'mere fon ma ras. 500/- ka richaarj kar do.', 'ye phlaavars bahat sundar lag rahe ha', 'us restorent ka khaana achchha h vaahee chalate ha sab.', 'mainne list ma aapaka bhee naam dekha tha', 'mujhe us kaar ka dizain achchha lagata hai', 'ye moovee to ekadam holeevud kee us moovee kee kopee bana dee hai', 'mainne fab par photoj dekhi tumhaaree, kaha ghoom rahe ho.', 'tumhaare saath vo ladakee kaun thee ?', 'aapane insta prophail par baayo achchha likha hua ha', 'tum kya rooteen pholo karate ho.', 'mujhe subah kol karake jaldee utha dena, kal se arlee morning se gayam jaana hai', 'tum apana yootyoob chainal kyon na shuroo karate.', 'are ankit ka badee aa raha ha paartee karenge', 'mujhe samajh na aa raha, aage kya karoon.', 'kal aaungee phir se main shaam ke 7pam', \"Jldi karo guys, or we'll be late for the movie\", 'tumhaare jaamandin pe tumhare lie haippee barthade paartee karenge', 'pulis steshan jaake kamplent likhata hu', 'jarmanee kee teem kya sahee khelatee hai phutabol', 'Wo mera intazar kar rahee hai', 'phon bohot baar baja', 'Police ne use pakad liya', \"Kal che kele leke aana...from Raju's shop\", 'Aasmaan is so cloudy, lagta hain baarsh hogi', 'gais, chale? aur ve’la be let. zyaada taim nahin hain', 'mujhe aapaka aardar traik karane den', 'mere bos ne ek asainament dee hai...poora veekend nikal jaayega', 'aap blogging kyoo kar rahe ha?', 'mere paas is taip ke kveshchan bhee aane lage', 'mein aapako ek eksaample deta hu', 'Aap itne confuse kyun lag rahe ho?', \"Don't go to the lunch thief like this\", 'Apne views comment karke batana na bhule', 'Some people aise bhi hain who think mixing languages is a bad idea', 'Yeh toh bohot tough hain', 'Ek saal Surabhi ko dekhar ye nirnay liya hai', 'Ki mei lr nahi banungi', 'Especially aise log hai to', 'Same here', 'But tu mast handle karti asie logo ko', 'Tu iss model se better karti h ye action', 'Waise really miss those days ...', 'Ha naaa', 'N mujhe abhi bhi Chetan ke CR election speech yaad h', 'Ram ram Maharashtra', 'Ya Jai Hind..kuch to kaha tha last mei', 'Pheli nazar me hi pura vishwas jeet liya tha...', 'I think jai hind jay Maharashtra', 'Seriously', 'Ha ye shayad', 'Jai Maharashtra!', 'Chetan tha kya CR?', 'haa n', 'yeah', 'itna ghussa uspe', 'fav', 'Aisa kya kiya aaj direct 6.24 GB khatam', 'parrot update', 'Month ka dekho!', 'My plans are far beyond than what you can think about!', 'bro mera 14 din me 60gb use hua', 'Beta itna mobile use mat karo', 'I aim for world domination!', 'Arre...gussa kaha..just a genuine question!', 'Wo second semester mei gayab hogaya', 'haa vaise bhi surabhi hi sambhalti thi', 'Same here', 'Deld ke lecture mei koi dhyan deta hai kya?', 'ye konsa subject hai pehle btao', \"I don't even attend it\", 'E stands for Electronics, itta pata hain!', 'Surabhi aur Mahima keliye sawal tha ye', 'Pata hai. Chup chap baithke sare lecture attend karte ho', 'Nhi nhi...OOP mei inhe utsaah aa jata hain', 'Btw...kyun pucha??', 'Aaj toh *emoji* day hai na?', 'pr hum stickers me baat krte hai', 'Exactly', 'Lol', 'ye dekho kya hora hai', 'Bhagwan', \"It's extremely saddening\", 'Arrree pure CR ki lifetime me usne sabse accha kaam kiya tha voh tha uska speech', 'Haan na!!', 'Yessss and *that is all*', 'abhi lecture shuru hai kya?', 'Jai Maharashtra!', 'Jai hind dosto', 'Koi ye official group pe bhi dalo....', 'Mera pura concentration unke English language ke mistakes pe hota hai', 'Ha', 'Haaa', 'Sir kaha gayab ho gaye???', 'lecture khtm', 'Ghar pe kam hoha', 'Bartan dhone honge', 'Bhagwan', 'you know', 'Wo uspr bas project banati hai', 'Ha taking reference', 'ab dobara mt bnana', 'project', 'upr ke 2 try kiya', 'Bhai ka GK bada accha hai', 'dekha isliye btaya', 'Ha toh mujhe ek aur baat jaan ni hai', 'bolna', 'btata hu', 'Aaj Amitabh ne nashte me kya khaya', 'Janta jaan na chahti hai', 'konsi janta hai jra hume bhi pta chle', 'Ha mujhe pata chale toh tujhe batati hu', 'Arre but vo toh ajay devgan ne khaya hoga na', 'Yahi haal hai', 'And iske neeche ki category mein aate hain Tiktokers!', 'Ha na', 'Now known as Instagram reelers!', 'Vivek Oberoi ne ash ke liye tweet kiya tha', 'Yesss', '24 alphabets', 'chamkile chooze dino ne diya hua naam', 'dino james', 'are haa na', 'video dekhna ye wala', 'Ise main Girlfriend ke vaqt se follow kar raha hoon!', 'mai bhi', 'kaafi tagda diss track tha', 'But uske baad ke gaane jyada badhya banaye usne, Loser is hell of a motivational song!', 'Har film mei same role karne ka talent nahi hai isme', 'software hoto koi bhi singer bn skta hai', 'Exactly!!!!', 'Abh mei bhi singer banungi', 'bhoi ko troll krne ka moja alag hai', 'jrur jrur', 'auto tune ne sbko singer bna rakha hai punjabi logo me to competition chal raha hai kisa auto tune achha bnta', 'Hehe', 'Come on boys, vaqt hai shine karne ka', 'ye heart mange more', 'She was roasting the masalas jab phone ki ghanti baji', 'you know me right', 'main toh vo sambhal lunga', 'Come over to my place sath baithke chai vai pite hain', 'ye hain ek sample', 'I hope maine smjha diya hai well', 'der kyon ho gayee? what is your bahan?', 'मुझे दूध फ्री mein milta hai', 'yes woh toh wahan hi hai na', 'Hey mistak ho gyi mujse', 'A tujhe hinglish nahi aati? wait i will tich you', 'you shaitan ladke abhi maza chakhati hu', 'kya hal hai apke? umid krta hu sab thik hai', 'Thode fruits and vegetables laa de', 'satra tarike wordpress site ki गति bdhane ki', 'she keeps doing sirf timepass', 'hum kl ghumne ja rahe hai', 'kal dopahar 3 baje milte hai', 'main shobha se milne ja rahi hu ravi ki would be', 'vo puri filmy hain', 'dulhan kee vidaee ke samay bilakul philmee maahaul ho gaya tha.', 'aaj vali movie bas time pass thi', 'अपना नम्बर बताए!', 'Punit ekdum bandal aadmi hai', 'Sima tum is dress mei ekdum heroine lag rahi ho', 'dimaag puncture ho gya bheed aur garmi se', 'yeh bacche toh bilkul jangli hai', 'tabiyat kaisi hain? Ekdum first class!', 'kamal ki toh thug life chal rahi hain', 'kya hal hai baus?', 'aaj toh tum ekdum solid lg rahe ho', 'in every appraisal boss hume koi na koi lolipop de dete hai but not hike', 'kal hum sab picture dekhne ja rahe hai', 'jyada heropanti mat dikhao', 'tum kis college se pass out ho?', 'itni garmi mei bheja fry ho gaya', 'aapka good name kya hai?', 'train delay ho gyi hain', 'Chal kophee peete hai', 'Bus kitne baje aayegi', 'baatharoom daahinee or hai', 'Our TV is do din se khrab', 'stesan yahaan se chaar kilomeetar door hai', 'juice fridg mein rakh do', 'tom krooz ne mishan imposibal mein sahee kaam kiya hai', 'Beyonce ke 200 M followers hai on insta', 'sir maine form do week pehle submit kiya tha', 'Is list ko update kab karoge aap?', 'I have hazaar cheezen to do', 'Unki team ke liye bura lag raha hain, unhe jeetna chahiye tha', 'Main tujhe call kar raha tha but tera phone switch off tha', 'Ek nayi shop open hui hai mere colony main', 'The processing speed of my computer is kaafi slow', 'Hum toh changa ji', 'Hum do din ke liye Jaipur ghumne ja rhe h', 'Tum kya pehen kar function m chaloge?', 'Aapne kaunsi bike li hai?', 'Apke clg ke pas wali shop se ek pen drive le aaoge?', 'Tum akele market ho aao, mujhe aane m late ho jayega', 'Tumne poem badi acchi likhi hai, aage chlkr poet bn skte ho.', 'Meri car mein petrol km hai to petrol pump jana pdega', 'Arey koi trip plan karo', 'juice in my phone. Do recharge of 500/-.', 'Yeh flowers bht sundar lg rhe h', 'Us restaurant ka khaana achcha h vahi chlte h sab', 'Maine list mein aapka bhi nam dekha tha', 'Mjhe us car ka design accha lgta hai', 'Yeh movie to ekdum Hollywood ki us movie ki copy bna di hai', 'I saw your photos on the fob, where are you roaming.', 'Tumhaare sath vo ldki kaun thi?', 'Apne insta profile pr bio accha likha huaa h', 'Tum ky routine follow krte ho.', 'Mujhe subha call krke jldi utha dena, kl se early morning se gym jana hai', 'Tum apna youtoob channel kyu ni shuru krte.', 'Arey ankit ka bday aa rha h party krege', 'Mujhe smjh nhi aa rha, aage kya kru.', 'Kal aaungi phir se main shaam ke 7 p.m.', \"Jaldi karo guys, aur we'll be late for the movie\", 'Will have a happy birthday party for you on your jamandin', 'Police steshan jaake complaint likhaata hu', 'germany team does football play right', 'voh mera intezaar kar rahi hain', 'phone bohot baar baja', 'Police ne us ko pakad', \"Kal che banane lekar aana...from Raju's shop\", 'Sky is very cloudy, lgta hai baarish hogeee', \"Guys, go? And we'll be late. don't have much time\", 'Mjhe apka order track karne de', 'Mere boss ne ek assignment diya, pura week-end jayega', 'App blogging Q kar rahe h?', 'Hamare paas bhi is type ke queschan aane lage', 'Main aapko ek example deta hoon', 'Aap itna confused q lag rahe ho?', 'Is tarah lunch chhor ke mat jaa', 'Apne views share kare comment karke', 'Kuch log aise bhi hain who think mixing languages is a bad idea', 'Ye to kaafi tough hain', 'Awesome rapper', 'compulsory hai kya konse courses kr rhe hai btana', 'Python for everybody popular course hai. Sabh wahi kar rahe hai', 'Aur baki Data science, web development, AI, ML ke bhi bohot hai', 'Name - Pooja Batheja', 'course par koi tippani??', 'kya hi bolu ab', 'Modi ji ne diye hue adesh ka palan kar rahi hai', 'aatmanirbhar', 'Atma nirbhar hai wo', 'Main bhi vahi type karne vali thi', 'nahi tum nhi smj paogi mai jo bol raha hu', 'Name - Askand Srivastava', 'Roll no. dekhi', 'bhai apna roll no daal yaar', 'Kisi aur ko credit dene ka shauk hai usse', 'Shauk badi cheez hain!', \"Vaise, Python for Everybody is literally scaling upto it's name atleast the latter part of Everybody!\", 'Trueeeee', 'Wo instructor sahi mei acche hai', 'Maine khud is lockdown mein sirf do hi logon ke saath online dekhna and sunna pasand karta hoon, Dr. Chuck being one of them!', 'Haa', 'chuck severance', 'Wo Harry Potter wali topi pehen ke agaye bas. Favourite ho gaye wo', 'Haa', 'Main unko pehle se follow kar raha hoon!', 'Yesss', 'Vrushabh ne pura resume dal diya hai group pe', 'are bss aaise hi majak majak me daal diya', 'bhai kon dhyan dera hai waise bhi', 'Koi na koi hoga jarur!', 'Ty', 'Start kiya kya?', 'pdf mein nahi hai kya answers?', 'Han Please send karna pdf', 'question photo send kar..', 'pics', 'Camera ka kuch promblem nahi na', 'batao koi', 'Konse pdf se aare hai questions', 'Suree bhai', 'bhej do', 'Plzz send the pdf', 'Pdf', 'bhej', 'Webx ka pdf bhejo koi', 'Bhai pdf se aare hai kya questions', 'Plz try F12 on chrome and try to get answer', 'Jidhr se time rukega bad me waha se start hoga', 'help chahiye toh DM karo', 'Helo', 'BBhai wheebox se arra hai kyaa', 'Pls tell', 'Nahin', 'is group mese answers kaise milenge?', 'bohot sare log messages send kar rahe hai', 'ha', 'jama toh PDF send kardena', 'kuch words likhke bhejdo', 'Make a pdf of ques and ans who ever is done with their exams', 'mobile on kiya toh warning aati hai kya?', 'par avoid karna bhai', 'aati hai re warning', 'Ho', 'Ans k sth pic send kro re Anyone done with their examsD', 'Bro', 'ye tum consi test de rahe ho', 'que no n que are same for everyone or diff', 'sab kuch mera hai bhai', 'Wifi band kiya toh chalta hai kya', 'Nahi hein yaar', 'Use kya tha', 'Thodech sapdle', 'Bhai pdf mai se nahi hai', 'Google karne par bhi nahi milte', \"camera me photo dikh nahi raha ma'am ko dikh raha hoga kya\", 'Kon kon pass hai', 'help kiya kaise samzega?', 'result jhat se dikhta hai kya?', 'Nahi', 'C3-4 ani 4-5 chya slots la questions change aahet ka', 'Iska plz batao', 'Wheebox pdf ahe ka', 'Thanks Bhai', 'Wheebox pdf me ans mile hai', 'Wheebox pDF hai toh send karo', 'Kab samjhta hai re result', 'Test sirf 1 hour ki thi kya', 'Timing vaise 2 hours bataya gaya tha na', 'PDF hai answers send karo', 'Pdf ahe konakde asel tr send kara please', 'Padhai karo Bubble', 'Ye grp kuch kaam ka nahi haiItni jaldi pics aate rehti hai', 'Kuch samaj nahi aata', 'Aur kaha gaye sir', 'Ans dene vale the', 'Sabh scam hai', 'Logo ko ullo banane ke liye aate aise grp banake', 'Ye same question abhi 3-4 baar aa gaya', 'Abhi tak sir ne ans nahi kya', 'Waqt hain shine karne ka come on boys', 'Dil maange more', 'Jab fon ki ghuntee bajee she was bhunoing the masalas', 'you know na me', \"Woh toh i'll handle\", 'Come over to my place saath baithke chai pite hai', 'yeh ek sample hai', 'I have samjhaoed you well I hope', 'देर क्यों हो गयी? What is your reason?', 'mujhe to dudh free maiin milt hai', 'Haa vo toh vaha hi hai', 'yaar mujhse mistake ho gayee', \"ae tujhe hinglish nai aati kya ruk i'll teach\", 'you naughty boy abhi mzaa chakati hoon', 'kya haal hai aapke? I hope everything is going well', 'Bring thode fruits n vegtables', '17 Trike WordPress Site ki Speed badhane ke', 'vaha sirf timepass krti rhti hain', 'hum kal ghumne ja rahe hain', 'कल afternoon मिलते है 3pm', 'mai ravi ki would be shobha se milne ja rahi hoon', 'she is puri filmi', 'Pura filmi mauhaul ho gaya tha dulhan ki vidai ke samay', 'aaj vali movi time pass thi', 'apna number batana', 'punit ekdum bandal admi hain', 'Seema you are looking like a heroine in this dress', 'bheed aur garmi se dimaag puncture ho gaya hain', 'ye bacche toh bilkul jungli hai', 'tabyat kaisee hai? ekdam frst clas!', 'thag lyf toh kamal ki chal rahi hai', 'kya haal hain boss?', 'aj to tum ekdam soild lag rhe ho', 'hr aparisal mei boss log hume koi na koi lolipop dete hain lekin hike nhi dete', 'kl ham sub picture dekhne ja rahe hain', 'zyada heropanti mt dikhao', 'from which college are you passed out?', 'itani garmi mein bheja frai ho gya', 'apka gud name kya hain?', 'tren dile ho gayee ha', 'Come kofi peete hai', 'bas kitanai bajai aayaigii', 'Bathrum right aur hai', 'hamaara teevee do din se kharaab hai', 'station is chaar kilometer dur from here', 'joos phrij mein rakh do.', 'Tom Cruise ne Mission Impossible me sai kam kiya hai', 'beyonse ke 200m insta followers hain', 'sir mene phorm 2 week pahale sabmit kiya ta', 'is list ko apadet kab karoge aap', 'I have hazaar cheezen karne ko', 'Unki team ke liye bura lg rha hai, they should have won', 'Mai tujhe call kar raha tha, but tera phone switch off tha', 'Ek new shop open hui hain meri colony main', 'Mere computer ki processing speed kaafi slow hai', 'I am to changa ji', 'Hum do din k liye Jaipur ghumne jaa rhe h.', 'Tum kya phn kr function mein chaloge?', 'Tumne konsi bike li hain?', 'Aapke college ke pas wali shop se ek pen drive le aaoge?', 'Tum akele mkt ho aao, mujhe aane mein late ho jayega', 'Tumne poem badi achhi likhi hain, aage chalkar poet bn skte ho', 'Meri car m petrol kam hain to petrol pump jana pdega', 'Arey koi trip plan karo.', 'Mere phone mein Rs. 500/- ka recharge kr do', 'Ye flowers bohot sundar lg rhe h', 'Us restaurant ka khana accha h vahi chlte h sab', 'Maine list m apka bhi nam dekha tha', 'Mujhe us car ka design accha lagta hai', 'Ye movie toh ekdum Hollywood ki us movie ki copy bna di hain', 'Maine FB par photos dekhi tumhari, kaha ghum rhe ho.', 'Tumhare saath wo ldki kaun thi', 'Aapne insta profile par bio accha likha huaa h', 'Tum kya routine follow karte ho.', 'Mujhe subh call karke jaldi utha dena, kl se early morning se gym jana hain', 'Tum apna youtube channel kyun ni shuru krte', 'Arey ankit ka bdy aa raha h party krege', 'Mujhe smjh ni aa raha, aage kya kru.', 'Kal aaungi phirse mai evening ko 7 baje', \"Fast karo guys, or we'll be late for the movie\", 'Tumhaare janmdin pe tumhre liye Happy Birthday party karenge', 'pulis station jaake complaint likhata hu', 'Germany ki team kya sahi khelti hain football', 'vo mera intzaar kar rahee hai', 'phone kaafi baar bazaa', 'Police ne us ko pakad liya', 'Kal cheh banane lekar aana from Raju ki shop', 'Sky is so cloudy, laagta hain barish hogi', \"Guys chalein? or we'll be late. zyaada time nahin hain\", 'Mujhe apka order track karne de', 'Mre boss n ek assignment di hai...complete weekend nikal jyega', 'Aap blogging kyun kar rhe hai?', 'Mere paas is tarah ke question bhi aane lage', 'Mein aapko ek example deta hoo', 'Aap itana kamphyooj kyoo lag rahe ho?', 'Is tarah lunch leave karke mat jaa', 'Apne views comment karna na bhule', 'kuch people aise bhi hain jo think mixing languages is a bad idea', 'Yeh toh bohot tough hai', 'Unfair means nai aayega na', 'M3 nirali me se aata hai kya', 'nahi Please koi toh share karo M3 mcq', 'M3 che mcq send karo', 'Final merge pdf send karo m3 ki', 'Yes pls bhejo', 'Jordan Bhelfort ki m3 pdf bhejo', 'Mere profile pe link hai channel ka join kro MCQ available hai', 'M3 merged pdf send karo', 'Usmey se aane ka chance hai', 'suprabhat sabhiko', 'Bhai log aaj m3 ka paper hai....jaldi jaldi ans send kro', 'thikkee', 'Guys 30 questions hain', 'Oh bhai', 'thikkee', 'Yes bhai', 'Bhai audio h kya', 'Kyapata', 'Ans btao yaar', 'AnsBhai pdf send karo na m3 ke', 'Imp just me question hai', 'sure hai', 'Sccreshot send kro pls', 'L lag gye aaj', 'thikke', 'Pdf hai ky', 'Google pr aa rha kya', 'konsa', 'Ans batao', 'Question ate hai send kro', 'M3 computer 2019 patter send plzzJaldi bhejo ans', 'koi batayega', 'koi chemistry wheebox ki pdf send kar sakta hai?', 'For FENirali publication ki pdf send kro', 'Iska kya heSomeone pls answer this one', 'muze um aye matlab SSPU me kya karna hai?', 'paper submit kar diye hai hai, aur pheli baat toh humne cheating nahi kiye aur nah hi kabhi camera me pakde gaye aise kand karte waqt', 'Passing ktine ko hai', 'Auto submit hua bro no worries', 'Bhai topper', 'Udya chi pdf pathva koni', 'ab ufm ayega isko', 'Dsa boook pdf se ayega kya', 'Konse book ki pdf hai', 'PLEASE SHARE KARTE RAHO, DUSRONKO BHI MADAT HO JAYEGI', 'DSA chi mothi pdf ahe ka kona kade', 'Bhai passing marks 24 hai na', 'M3 ke liye', 'Imujhe bhi ek mila, itna serious nahi hai n?', 'DSA che unit 456 che mcq pdf send kara na', 'Wheebox or sanfoundary ke pdfs nai hai', 'DSA 2019', 'YesKdkk', 'DsA combine ahe ka', 'dsa cha pathva re mcq pdfI think it should not be', 'Ques taka', 'DSA che', 'Ans deto', 'Thank you', 'Iska batao koi', 'Iska', 'Ye bhi', 'Physic pdf', 'Software Engineering pdf PLZZZ', 'mcq bhejo software engg se 2019 pattern', 'software engineering pdf pls', 'maths topper kon hai?', \"kisikepass Sinhagad College's SE pdf hai kya?\", 'Kiska result aya M3 ka', '11 baje', 'OkPassing kitne ka he.!', 'Shayad 20 marks kaa hai', 'Microprocessor', 'bhailog, kisikepass GATE books hai kya CS keliye', 'Yes but paise mein milegi', 'Mp pdf kisike pass', 'Kal MP hai na', 'Pass kitte ko hai', 'Passing 40% hota hai', '20 passing fix hai n?', 'Results dikh rahe abThanks bhai', 'Pdf ppz', 'Plzz', 'purple hat ki pdf hai kya kisi k paas', 'm2 ki', 'passing 20 hia na', 'Ho', 'kiskisko MP hard ja raha hai Me For CSE ECE projects tutorial with source pm me', 'sabkeliye', 'Google se answer mil rhe kya', 'Dono alag alag hai kya', 'PPL is Java and PPS Python hai PPL java pl', 'jyada se jyada 3', 'PBL pdf hai kya', 'Pr pta nhi ismese aayega ya nhi', 'Dekhte kya hota hai', 'PPS wheebox pdf hai kya kisi ke pass', '10 marks gerys asato', '1 subject jar back Rahat asel tar', 'mag hoil clear', 'Come on boys waqt hai chamakne ka', 'This dil asks for more', 'She was roasting the masalas when the phone rang', 'You kno mi na', 'voh toh main sambhaal lunga', 'Saath baithke chai wai peete hai come over to my place', 'this is ek sample', 'I hope i have samjhaoed you', 'der kyun ho gayi? what is ur bahana?', 'mujhe to dudh free mein milta hain', 'yes voh vha hi hain', 'hey mistake ho gayi mujhase', 'tujhe hinglish nhi aati kya? ruk main sikhata', 'abhi maza chakati hu you naughty ladke', 'how are you? umeed karta hu sab thik chal raha hain', 'Bring thode fruits और सब्ज़ी', '', '17 Ways to Increase WordPress Site Speed', 'tomorrow we are going ghumne', 'कल मिलते है afternoon 3pm', 'main shobha se milne ja rahi hoon ravi ki would be', 'poori filmy hain vo', \"There was a filmy atmosphere at the time of the bride's farewell.\", 'aj vali movie bas time pas thi', 'apna number batao', 'puneet ekdum bndl aadmi hai', 'Seema tum ekdm heroin lag rahi ho is dress mei', 'Garmi aur bheed se dimaag puncture ho gya hai', 'ye bcche bilkool jangli hain', 'tabiyat kaisi hain? ekdm first class!', 'kamaal kee thug life chal rahi hain', 'kya haal hai, bos!', 'aaj you are looking ekdum solid', 'har appraisal mein these bosses hame koi nah koi lolipop dete hain lekin hike nai dete', 'kal hum sb picture dekhne jaa rahe hai', \"don't show jyda heropanti\", 'kis college se pass out ho tum?', 'itnee grmi mei bheja fry ho gaya', 'apka good name kyaa hai?', 'Tren delay ho gyi', 'come coffee pite hain', 'बस kitne bje ayegi?', 'bathroom daihini aur hain', 'हमारा टीवी दो दिन से खराब है', 'stesion yha se chaar kilometer dur hain', 'Jus fridge mei rakho', 'Tom Cruise ne mission imposble mei shi kaam kiya hai', 'Beyonce ke 200 M foloers hai', 'Sir i submitted the form do week pehle', 'is lst ko apdate kb karoge ap?', 'Mere paas hazaar things hain karne ko', 'Unki team ke liye bura lg raha hain, they should have won', 'Main tumhe call kr raha tha, but tumhaara phone switched off tha', 'Ek new shop open hui hai mere colony mein', 'Mere computer ki processing speed kaafi slow hain', 'Me toh changa ji', 'Hum dp din k liye Jaipur ghumne ja rahe h', 'Tum kya pehen kar function mein chaloge?', 'Tumne kaunsi bike li hain?', 'Aapke clg k pas vali shop se ek pendrive le aaoge?', 'Tum akele mkt ho aao, mujhe aane main late ho jaayega', 'Tumne poem badi achhi likhi hai, aage chlkr poet an sakte ho', 'Meri car m petrol km hain toh petrol pump jana padega', 'Arey Koi trip plan kro na.', 'Mere phone m Rs. 500/- ka recharge kar do.', 'Ye flowers bht sundar lag rhe h', 'Us restaurant ka khana achcha hai vahi chlte h sab', 'Maine list m aapka bhi naam dekha tha', 'Mujhe us car ka design accha lgta hain', 'Ye movie to ekdum Hollywood ki us movie ki copy bana di hai', 'Maine FB pr photos dekhi tumhaari, kaha ghum rhe ho?', 'Tumhare sath wo ladki kaun thi?', 'Aapne insta profile pr bio acha likha hua hai', 'Tum kya routine phollo krte ho?', 'Mujhe subh call krke jldi utha dena, kal se early morning se gym jana hain', 'Tum apna youtube channel kyu nhi shuru krte', 'Arey ankit ka bdy aa rha hain party krege', 'Mujhe samajh nhi aa raha, aage kya karoon.', 'Kal vaapis aaungi shaam ke 7pm', 'Jldi karo guys, or hum movie ke liye late ho jaayenge', 'Tumahare janmdin par tumhre liye Happy Birthday party karenge', 'pulis steshan jakar complaint likhata hu', 'Jarmaane ki team kya sahi khelti hain football', 'vo mera wait kar rahee hai', 'phone bohot baar bja', 'polis ne use pkd liyaa', \"Kal che kele lete aana from Raju's shop\", 'Aasmaan is very baadali, lagta hain baarish hogi', \"Guys, chale? aur we'll be late. jyada time nhi hain\", 'Mujhe aapka aurder track karnede', 'Hamare boss ne ek assignment di hai, pura weekend jaayega', 'Aap blogging kyu kar rahe hain?', 'Mere pss is type ke question bhi aane lage', 'Mai apko ek example deta hu', 'Aap itne confused q lag rahe ho?', 'Is tarah khaana chhor kar mat jaa', 'Views share karna naa bhule comment karke', 'kuch people aise bhi hain who think languages mix karna is a bad idea', 'Ye to bohot tuff hain', 'Pdf nahi hai kya kisi ke pass', 'Koi ans nhi kr raha', 'Tho vo hi bol raha hu', 'Kisi ne bhi nahi padha', 'Tho kaun ans dega', 'Bs yu hi wo pdf baki kuch nhi', 'admin ko gaali do sabh milkar', 'Mei keheti mere mummy ka Facebook hack karfe', 'kyu?', '@917972980746 ! Pehli free client!', 'Karde bas', 'naa hum galat kaam nhi krte', 'bro koi discord link de jisme daily kuch content aata ho', 'sirf vo message bhejneko', 'Abhi enroll Kiya mai', 'Ye courses kyu maang rhe hai group pe', 'ere Jaan pehchan me se ek', 'Nope! WhatsApp se already pareshaan hoon main!!', 'thikhai', 'Aaj Py4e ke sabse jyada enrollments honge and voh bhi DYPIEMR se!', 'kon hai', 'Division A tha wo', 'copy paste kiya tha pr', 'A ke jagah sirf B kiya yha', 'tha', 'Haa', 'sorry', 'ulta', 'B ke jagah A', 'Kiya piya hai aaj', 'chai', 'bohot mehenga nasha kiya', 'naam - Nishant', 'Orientation program mei teachers bas batein kar rahe hai', 'whi to', 'Bas koi chai vagera lake do unko', 'Hume bulaya hi kyu hai', 'chai se kaam chal jayega unka', 'khana vgere bhi khila do unko', 'Unki meeting sunne keliye', '19 min ki deri', 'taaliya bajni chahiye taaliya', 'End me ny beech me hi karna ko bola', 'Oish! Mera naam aisa kyun aa raha hain????', 'kya pta', 'Doosron se CGPA puchne vaale ke khud 6.8 aaye the! Not judging just contemplating!', 'Ye tumhare yaha bhi ho raha hai kya???', 'haa', 'shuru hai', 'Haan! Hum spectate kar rahe hain!', 'Ohk ...', 'Tum bhi join karo, mazaa aayega!', 'Kiya hua hain!', 'mahima', 'tu stand kr lr ke liye', 'jldi', 'askand shankar kon hai', 'Shrivastav ka Auto correct shankar me ho gaya hoga', 'Iska ek gehen rahashya hain!!', 'aur wo sakshi rane ka naam angel.sakshi rane dikh ra tha', 'Haann! Uske kayi naam hain!', 'college walo ka sahi hai kisi ko judge krna hai to marks aur CGPA se kr rhe hai', 'aaj kl sb whi kr rhe hai', 'Yeh galat hain!!', 'isliye to suicide bdh rhe hai', 'congo askand', 'Thanks bro!!', 'Accha meeting mei kya hua?', 'LR nhi mili', 'CR ke liye 3 candidate hai', 'Bas itna?', 'Buri cheezen yaad nhi karte!!', 'Yeh jyada hain!', 'Mei so rahi thi', 'yahi to krna hai', 'Clg walo ko lag raha hai ki hum campus bhool gaye hai', 'Tour dikha rahe hai', 'mujhe yaad nhi ab', 'Isiliye bheja hai', 'ohhh', 'pr mujhe lga huamara college nepal me hai', 'bde log', 'Group ka rule bana rahi hu mei aaj se', 'Agar lecture mei koi assignment vagera di jaye to yaha batado', 'Sabh jog lecture mei nahi hote', 'Aur kuch log hoke bhi sote rehte hai', 'achha hai', 'konsa assignment krna hai', 'Classroom par bas ek hi uploaded hain!', 'haa', 'maine dekha', 'Baaki aise hi kehte hain randomly', 'Ha ...', 'formality ke liye boli', 'bss', 'Wahi lagta hai !!', 'Nepal mei bhi itne hi votes hote hai', 'Yeh aap kam gin rahi hain, considering pura universe Nepal mein hi hain!', 'Oh haaa', 'Par actual voting mei hi 31% hi log vote karte hai', 'baaki NOTA', 'Wahi na hona chahiye ....', 'Kisi ka introduction nai accha laga mujhe', 'Kyu humara college democracy kam aur dictatorship jyada hai', 'Paint kiya hai shayad building ko', 'insta pr promotion shuru hai', 'Ha', 'Mujhe nhi lag rahi!', 'yaha 32 hai garmi bohot hai pr', 'Mtlb yaar 34 temp hone ka faayda hi kya jab feel usse 12 degree hi jyada hona hain??', 'Yaha 23 hai', 'tanaya hotspot dede', 'bohot data hai terepe', 'Kyu ki din bhar mei khud ghar ke hotspot pe thi', 'Arre ajeeb log...kaun bana tumhare class ka CR?', 'Kya pata', 'voting close hui humne to vote bhi nhi kiya', 'Ha na....', 'Ohhoo', 'A div me kya hua ?', 'Abhi tak bataya nhi....voting toh ho gayi hain!', '100% hui kya', 'Tum firse khadi hogayi election ko?', 'ye btao apne class me LR bnaegi koi', 'Kya?', 'kuch nhi', 'Na baba na', 'Ek bar ka experience hi bohot hua', 'Arre..aisa nhi..itta kharab experience bhi nhi tha...theek hain, par ab nhi banna!!', 'Ha na fir', 'Kharab kaha bola', 'video pura dekhna', 'Aise hi kuch 2020 ja raha hai', 'haa', 'kismat bohot kharab hai bnde ki har baar ball uske moo pr lga', 'No no bol raha tha fir bhi laga', 'bechara', 'Ekdum 2020 jaise', 'coursera ke liye email aaya kya', 'Matlab 2 mahine pehele aya tha', 'And mujhe ek mahine phele', 'mujhe bhi aaya hoga mtlb', 'Dekh le fir inbox mei hoga', 'Agar tune excel sheet me apna naam n email address dala hoga toh hi aayega', 'Haa', '40-50 email aaye hai Coursera ke exact konsa hai nhi pta', 'excel sheet wala bhi aaya hai', 'Toh uspe join course iss option pe click kar', 'And fir coursera pe jake ke enroll kar through that email..', 'maine January me hi join kiya tha', 'ye email shayad', 'Ha yahi', 'ek baat btana', 'aaj waha garmi thi kya ?', 'Nahi', 'Thand bhi nahi tha..par garmi bhi nahi thi', 'humare yaha hi kya hora pta nhi 1 din baarish aati 1 din bohot garmi hoti', 'Sabh ajeeb cheezo ka answer. 2020', 'group ka name bhi 2020 hona chahiye', 'Happy new year wish krne pr abse tof se uda dena chahiye', 'Sachme', 'Arey haa..good point', 'Nai nai ...', '3 bje uth kr meme bnana hai', 'are phr rehne do', 'Bhai tu sota kab h ye bata zara???', 'Wo nahi sota', 'Use lagta hai ki wo sota hai. Par nahi sota', '12 se 12:30 phr 1 se 1:30 aur 2 se 2:30', 'hoshiyaar', 'haa waisa hi kuch', 'svere uth kr yoga krne me maja alag hai', 'Hum bhi savere karte hai yoga', '1km chalne ke baad yoga', 'aaise hi aakhein bnd krke meditation', 'Ha mei bhi sapne mei bohot excercise karti hu', 'mujhe weight bdhana hai kl mai sapne me mota ho gya tha phr neend khul gyi', 'Bechara', 'Aise installments mei soyega to nahi badhega weight', 'phr kaise', 'Ha na full time course karna padta hai sone ka aur khane ka', 'Dupeher mei 3 baje soke 6 baje uth', 'pr meri disease ke karan mujhe neend nhi aati', 'Fir raat ko 11 baje soke 8 baje utho', 'Recorded lectures dekh humare. Ajayegi neend', 'Ssooo truueeee', 'jldi mr jaunga', 'mujhe pdhai me bilkul intrest nhi hai pehle hi', 'Mujhe tha. Abh nikal raha hai', 'Dekh padhai me interested ho ya na ho ...', 'maine ab tk nhi pdha 1 raat pehle bhi', 'isliye to back lge', 'Arrreee engineering is a journey of learning new jugaads ....', 'Dhere dhere sab seekh jayega', 'pdhai chhod kr sb kuch krlu mai', 'prr india me education ki aaisi ki taisi ho rhi hai jisks wajah se interest hi nhi hai', 'haa ye to hai', 'Ye bade bhai behen engineering mei to pata chalta hai pehele hi', 'mujhe DYP bilkul psnd nhi aaya starting me achha lga phr dekha yaha bhi partiality hori hai', 'Haa...', 'Har jagah wahi baat hai !!', 'Hum to dyp mei ane se pehele hi pasand nahi karte the', 'asal mei', 'Coaching classes mei bataya jata hai', 'COEP, PCIT vagera nahi mila..to next pccoe lo', 'Wo nahi to fir last option dyp', 'Sinhagad clg to consider bhi mat karo pehele', 'First day jab admission lene aayi thi toh mai form bhar rahi thi aur mera bhai mosquitos maar raha tha', 'pccoe milta tha yaar glti kr diya dyp leke', 'Waha bas discipline hai aur placements hai', 'Baki same hai', 'tb pdhai kiya tha CET ke liye 12th ke liye mai 3 month to ghr me hi nhi tha', 'Voh toh h ...', 'discipline hai to achha hai', 'Kay ka accha', 'Maine apne dosto se baat ki na ....', 'And faculty n staffs me toh poore humare society ke log bhare hai waha', 'best hai business whi krna chahiye tha', 'Mahima ka matlab har baat ki khabar reheti hsi', 'Kharab Matlab??', 'Khabar*', 'Ae maine thik likha hai', 'Tumne galat padha', 'khabar hi likhi tanaya ne', 'kya mahima', 'ye ek bnde ne mujhe messenger pr bheja', 'Pdf nahi hai kya kisi ke pass', 'Koi ans nhi kr raha', 'Tho vo hi bol raha hu', 'Kisi ne bhi nahi padha', 'Tho kaun ans dega', 'Bs yu hi wo pdf baki kuch nhi', 'admin ko gaali do sabh milkar', 'Passing kitne ki hai', 'Kaha mar gaya admin', 'Simply leave kro', 'Are bhai 20 hai', 'Bhai ans de na', 'Sach me', 'Itne saare pics aaye', '1200 kya baith ke kaise dhundhunga', 'Vo hi tho same here', 'Aur kuch no ke badh allow nahi karta aur pics', 'Nahi bhai', 'Browser out of focus aata hai', 'Aadha aadha bhi nahi chalta', 'Aasaan so jao', 'mtlb half krne pe', 'Question same the kya sab ke ke diffrent', 'winkey+arrow key press karo to arrage Browser windo', 'MC university kaafi tough nikala bc exam', 'SPPU bohoot shanna hai', 'Ha naMai pass hua tho accha hai', 'Mujhe laga koi teacher bolega ans grp pe', 'Ghanta kuch ho raha hai', 'Sabh out of syllabus hai', 'Sabh niklo grp se', 'Question same the kya sab ke', 'Are bhai thoda ruko', 'half half krne se out of focus ni ho rha', 'bhai passing kitna h', 'Bhai question type kaun karega itna bada', 'Use Google lence', 'google lens se kro', 'Abe chup', 'pass hone ki thodi ummid h fir', 'Abe hoshyaar', 'Theory ho jaayega', 'Google lens dhang se nahi dikhata', 'haan bhai option kya hai aur', 'Fail ho raha hu yaha', 'Exam me questions same the kya bolo na koee', 'Nope', 'bhai log half half kro window koi prblm ni hoga', 'Koi hlp karo plz', '20 min more', 'Bohat gali de rahegi be', 'Are bhai log iska ans ek baar diay thaInstructions levels', 'Vapas vapas kai puch rahe ho', 'iss tarh kro', 'Isse accha to offline hai', 'Ha na', 'Likh tho sakte kuch', 'Tum sabh ne hi managa tha online', 'Mai tho offline chahta tha', 'Shati se exam do bhi', 'Bhai university ki kya kasur', 'Humne padhai nahi kiya', 'Aur admin ne yeda banayaSahi hei', 'Answers nahi mile', 'Yeh tumhara gussa bol raha hai', 'fail huve na tum?', 'Ladkiyo ko barabar ans dete ho', 'Humne dala to nahi', 'bhej toh', 'high level simping', 'Kal abhi', 'Time slot mein kabhi bhi login kar sakte kya', 'Last time wheebox astil tar send kara', 'kiska hai', 'rahe hai', 'kaunsi exam chalu hai?', 'batao', 'nahi ho raha hai kya', 'Bass kr', 'Sabke answers alag theKoi a bolra fir koi c bolra', '5 baje ke baad auto submit hua ya chalu hi hai', 'Chalu hai', 'Multiprocessor Sabaka toh ho gya', 'Wheebox pdf me se kitne questions aye', 'Kuch bhi nhi aaya', 'Ek friend ka chalu hai', 'Wheebox ke pdf se ata hai kya', 'Thank you so much for helping', 'Pdf se questions ate hai kya', 'Maine search hi nhi kiya pdf main', 'Sabko same questions the ya different sets the', 'Googel ya yahan pe jisne answer bheje wahi', 'Bohot hi kam', 'Google pe kitne mile approx 60 me se', 'Bacche khush rahe acha nahi lagta unko', 'Umeed toh hIT dept ke saare question Google pe the', 'Hone cha hi ye acha hoga', 'Kaash hum IT mai hote', 'this group is for computer Engineering na', 'Unwanted group no use', 'Computer department ko wheel box se aye kya questions', 'Sigle pic pathava', 'Ek ek photo patava re', 'Mapping withoutAns kaha mil rahe hai', 'Greedy', 'Loop closing', 'Mapping without localization', 'Mark the images', 'Odometry', 'Guys sunfoundary ki website par search karo', 'Most of them mil rahe', 'Pdf se milre kya answers', 'Please pdf bhejo', 'Send the ldf', 'Pdf', 'Pdf send me na bhai', 'Plz send pdf....', 'Konsa group', 'Phone se login kiya', 'Konsa pdf refer kare bhai', 'half half window me do browser chala skte kya', 'do browser ek sath chal rh Most of answer I got from this pdf', 'Ha lekin agar exam se. Pehle start keya to warning nahi ayege', 'C hai uska', 'Shayad c', 'Plz help', 'Only 5 mins remain', 'Screen shot send karo koi as it isA contact', 'Real screen shot lekar send karo koi', 'AThanku bhai Almost 50 questions the pdf me', 'insaan based', 'Please mobile share karo', 'Fn equal to hn', 'Thanks Anjali', 'Send the pdf', 'Guys time se pehle submit mat karo extra time milega', 'I did', 'Exam time me bhi simping', 'WhatB', 'Promising', 'BothRobot pose', 'Anspls', \"It's B equal\", 'Use this one got 30-35 ans', 'Expanding', 'Answers sa na plzz', 'Mi aatttch start kelay paper', 'Fn equal to hn', 'Thanks Anjali', 'Send the pdf', 'Guys time se pehle submit mat karo extra time milega', 'I did', 'Exam time me bhi simping', 'Promising', 'BothRobot pose', 'Anspls', \"It's B equal\", 'Use this one got 30-35 ans', 'Expanding', 'Answers sa na plzz', 'Mi aatttch start kelay paper', 'DuLhaN kii viDaaii ke Samay biLkuL fiLmii maahauL ho gayaa THaa.', 'IMHO har appraisal me Boss Log hume koii Na koii LauLiipaup De DeTe hain, lekin hike nahi dete', 'kuch people aise bhi hai who think mixing languages is a bad idea', 'Jaldi karo guys, or we’ll be late for the movie🙄', 'fon bohot baar baja.🤦\\u200d♂️', 'sabse best friend', 'That toh I know', 'She was bhunno ing the masalas jub phone ki ghuntee bugee', 'mujhe bohot pasand hai', 'mujhe Mahatma Gandhi bohot pasand hai', 'mujhe mahaatma gaandhee bohot pasand hai', 'mujhe market se vegetables leke aane hain', 'mujhe maarkit se vejatebals leke aane hain', 'Tom Cruise ne Mission Impossible mei sahi kaam kiya hai', 'tom krooj ne mishan imposibal mein sahee kaam kiya hai', 'muze vo bohot pasand hai', 'mujhe psnd hai', 'mujhe market se vegetables lekar aane hain', 'sabse best friend', 'best friend sabse']\n"
          ]
        }
      ],
      "source": [
        "# reading dataset and making two lists of hinglish and english senetnces\n",
        "file = open('anuvaad.txt','r')\n",
        "# print(file.read())\n",
        "# lst=targ, lst2=inp\n",
        "fileStrings = file.readlines()\n",
        "targ = []\n",
        "inp = []\n",
        "for line in fileStrings:\n",
        "    # print(line)\n",
        "    line = line.replace('\\n','')\n",
        "    lstO = line.split('\\t')\n",
        "    targ.append(lstO[0])\n",
        "    inp.append(lstO[1])\n",
        "print(targ)\n",
        "print(inp)"
      ]
    },
    {
      "cell_type": "code",
      "execution_count": 100,
      "metadata": {
        "colab": {
          "base_uri": "https://localhost:8080/"
        },
        "id": "lH_dPY8TRp3c",
        "outputId": "a4486ac6-bd0f-4b6f-c685-5bdf1983e769"
      },
      "outputs": [
        {
          "name": "stdout",
          "output_type": "stream",
          "text": [
            "most best friend\n"
          ]
        }
      ],
      "source": [
        "# printing last english sentence\n",
        "print(targ[-1])"
      ]
    },
    {
      "cell_type": "code",
      "execution_count": 101,
      "metadata": {
        "colab": {
          "base_uri": "https://localhost:8080/"
        },
        "id": "WtYLR0ZWXDld",
        "outputId": "afcfed6b-ee0f-4007-9b3d-9cafc3eac537"
      },
      "outputs": [
        {
          "name": "stdout",
          "output_type": "stream",
          "text": [
            "['Come on boys, it is time to shine.', 'This heart asks for more!', 'She was roasting the spices when the phone rang', 'You know me right', 'I will handle that', 'Come over to my place, we will sit together and drink tea', 'this is a sample', 'I hope I have made you understand well', 'Why is it late? What is your excuse?', 'I get milk for free', 'yes there it is', 'dude I made a mistake', 'Oh do not you know Hinglish? Wait, I will teach you', 'You naughty boy, I will teach you a lesson', 'How are you? I hope everything is going well.', 'Bring some fruits and vegetables', '17 Ways to Increase WordPress Site Speed', 'she only keeps doing timepass', 'we are going to visit tomorrow', 'See you tomorrow afternoon at 3pm', \"I am going to visit Shobha, Ravi's would be\", 'she is completely filmy', \"At the time of the bride's farewell, there was a complete filmy atmosphere.\", \"Today's movie was just a time-pass.\", 'Tell me your number', 'Punit is absolutely an useless man', 'Seema, you are looking absolutely heroine in this dress.', 'I am tired due to crowd and heat', 'These kids are absolutely wild.', 'How is your health? Absolutely first-class!', 'Thug-life is going amazing', 'How are you, Boss?', 'You are looking very solid today.', 'In every appraisal bosses give us some false promises but no hike', 'Tomorrow we are all going to see the picture.', 'Do not show too much heroic antics', 'From which college are you passed out?', 'Irritated because of extreme heat', 'What is your name?', 'Train is delayed', 'Let us drink coffee', 'At what time bus will arrive?', 'Bathroom is on the right', 'Our TV is not working since 2 days', 'Station is 4 kilometers away from here', 'Keep juice in fridge', 'Tom Cruise did the right thing in Mission Impossible', 'Beyonce has 200 M Insta followers', 'Sir i submitted the form 2 weeks ago..', 'when will you update this list', 'I have a thousand things to do', 'Feeling Bad For their Team, They Should Have Won', 'I was calling you but your phone was switched off', 'A new shop has opened in my colony  Ek new shop open hui hai mere colony main', 'The processing speed of my computer is very slow', 'I am good', 'We are going to visit Jaipur for two days.', 'what will you wear to the function', 'what bike have you got', 'Will you get a pen drive from the shop near your college?', 'You go alone to the market, I will be coming late.', 'You have written poetry very well, you can become a poet later.', 'If there is less petrol in my car then I have to go to the petrol pump.', 'Hey plan a trip', 'Do a recharge of rupees 500 in my phone', 'these flowers look so beautiful', 'The food of that restaurant is good, let us go there.', 'I saw your name in the list too', 'i like the design of that car', 'This movie has been made a copy of that Hollywood movie.', 'I saw your photos on FB, where are you roaming.', 'who was that girl with you?', 'You have well written bio on insta profile', 'What routine do you follow?', 'Call me early in the morning to wake me up, I have to go to Gym from early morning tomorrow', 'Why do not you start your own youtube channel?', \"Hey Ankit's birthday is near, we'll party\", 'I do not understand what to do next.', 'I will come again tomorrow at 7 pm', 'Be quick guys, or we will be late for the movie', 'Will have a happy birthday party for you on your birthday', 'I will go to the police station and write a complaint', \"germany's team plays football very well\", 'she is waiting for me', 'phone rang a lot', 'the police caught him', \"Bring six bananas from Raju's shop tomorrow\", 'Sky is so cloudy, looks like it will rain', 'Guys let us go or we will be late, we do not have much time', 'let me track your order', 'My boss has given an assignment the whole weekend will pass', 'Why are you blogging?', 'I started getting these type of questions too', 'I will give you an example', 'why are you looking so confused', 'Do not leave the lunch like this', 'Do not forget to share your views by commenting', 'There are few people who think mixing languages is a bad idea', 'it is too tough', 'I am getting complex now in the one after Mitesh.']\n"
          ]
        }
      ],
      "source": [
        "# printing first 100 english sentence\n",
        "print(targ[:100])"
      ]
    },
    {
      "cell_type": "code",
      "execution_count": 102,
      "metadata": {
        "colab": {
          "base_uri": "https://localhost:8080/"
        },
        "id": "WdC25G6AZXr9",
        "outputId": "26bc2c3e-c413-4715-f08a-65b5ad1ba001"
      },
      "outputs": [
        {
          "name": "stdout",
          "output_type": "stream",
          "text": [
            "['best friend sabse']\n"
          ]
        }
      ],
      "source": [
        "# printing first 100 hinglish sentences\n",
        "print(inp[-1:])"
      ]
    },
    {
      "cell_type": "code",
      "execution_count": 103,
      "metadata": {
        "id": "TqHsArVZ3jFS"
      },
      "outputs": [],
      "source": [
        "# arrays of strings are shuffled and batches are made\n",
        "BUFFER_SIZE = len(inp)\n",
        "BATCH_SIZE = 64\n",
        "\n",
        "dataset = tf.data.Dataset.from_tensor_slices((inp, targ)).shuffle(BUFFER_SIZE)\n",
        "dataset = dataset.batch(BATCH_SIZE)"
      ]
    },
    {
      "cell_type": "code",
      "execution_count": 104,
      "metadata": {
        "colab": {
          "base_uri": "https://localhost:8080/"
        },
        "id": "qc6-NK1GtWQt",
        "outputId": "4059f9ad-4d6e-4204-d40a-840261b82f90"
      },
      "outputs": [
        {
          "name": "stdout",
          "output_type": "stream",
          "text": [
            "tf.Tensor(\n",
            "[b'Nope' b'OkPassing kitne ka he.!' b'DSA 2019' b'Abe chup'\n",
            " b'voh mera intezaar kar rahi hain'], shape=(5,), dtype=string)\n",
            "\n",
            "tf.Tensor(\n",
            "[b'No.' b'Okay, what is the passing?' b'DSA 2019' b'Hey shutup'\n",
            " b'she is waiting for me'], shape=(5,), dtype=string)\n"
          ]
        }
      ],
      "source": [
        "for example_input_batch, example_target_batch in dataset.take(1):\n",
        "  print(example_input_batch[:5])\n",
        "  print()\n",
        "  print(example_target_batch[:5])\n",
        "  break"
      ]
    },
    {
      "cell_type": "code",
      "execution_count": 105,
      "metadata": {
        "colab": {
          "base_uri": "https://localhost:8080/"
        },
        "id": "mD0e-DWGQ2Vo",
        "outputId": "52e95336-e962-4e89-da30-956c44458493"
      },
      "outputs": [
        {
          "name": "stdout",
          "output_type": "stream",
          "text": [
            "b'Yahi haal hai'\n",
            "b'Yahi haal hai'\n"
          ]
        }
      ],
      "source": [
        "# unicode normalization operation - first step to standardize data\n",
        "example_text = tf.constant('Yahi haal hai')\n",
        "\n",
        "print(example_text.numpy())\n",
        "print(tf_text.normalize_utf8(example_text, 'NFKD').numpy())"
      ]
    },
    {
      "cell_type": "code",
      "execution_count": 106,
      "metadata": {
        "id": "chTF5N885F0P"
      },
      "outputs": [],
      "source": [
        "def tf_lower_and_split_punct(text):\n",
        "  # Split accecented characters.\n",
        "  text = tf_text.normalize_utf8(text, 'NFKD')\n",
        "  text = tf.strings.lower(text)\n",
        "  # Keep space, a to z, and select punctuation.\n",
        "  text = tf.strings.regex_replace(text, '[^ a-z.?!,¿]', '')\n",
        "  # Add spaces around punctuation.\n",
        "  text = tf.strings.regex_replace(text, '[.?!,¿]', r' \\0 ')\n",
        "  # Strip whitespace.\n",
        "  text = tf.strings.strip(text)\n",
        "\n",
        "  text = tf.strings.join(['[START]', text, '[END]'], separator=' ')\n",
        "  return text"
      ]
    },
    {
      "cell_type": "code",
      "execution_count": 107,
      "metadata": {
        "colab": {
          "base_uri": "https://localhost:8080/"
        },
        "id": "UREvDg3sEKYa",
        "outputId": "c0abfd72-ff76-4661-809c-d1b40f6debb8"
      },
      "outputs": [
        {
          "name": "stdout",
          "output_type": "stream",
          "text": [
            "Yahi haal hai\n",
            "[START] yahi haal hai [END]\n"
          ]
        }
      ],
      "source": [
        "print(example_text.numpy().decode())\n",
        "print(tf_lower_and_split_punct(example_text).numpy().decode())"
      ]
    },
    {
      "cell_type": "code",
      "execution_count": 108,
      "metadata": {
        "id": "eAY9k49G3jE_"
      },
      "outputs": [],
      "source": [
        "max_vocab_size = 5000\n",
        "\n",
        "input_text_processor = tf.keras.layers.TextVectorization(    # handles vocabulary extraction & conversion of i/p text to sequences of tokens\n",
        "    standardize=tf_lower_and_split_punct,\n",
        "    max_tokens=max_vocab_size)"
      ]
    },
    {
      "cell_type": "code",
      "execution_count": 109,
      "metadata": {
        "colab": {
          "base_uri": "https://localhost:8080/"
        },
        "id": "bmsI1Yql8FYe",
        "outputId": "89009883-0834-449f-d408-0d947cd033b2"
      },
      "outputs": [
        {
          "data": {
            "text/plain": [
              "['', '[UNK]', '[START]', '[END]', 'hai', '.', '?', 'hain', ',', 'kya']"
            ]
          },
          "execution_count": 109,
          "metadata": {},
          "output_type": "execute_result"
        }
      ],
      "source": [
        "input_text_processor.adapt(inp)    # initializes the layer based on the data\n",
        "\n",
        "# Here are the first 10 words from the vocabulary:\n",
        "input_text_processor.get_vocabulary()[:10]\n",
        "# Hinglish TextVectorization layer"
      ]
    },
    {
      "cell_type": "code",
      "execution_count": 110,
      "metadata": {
        "colab": {
          "base_uri": "https://localhost:8080/"
        },
        "id": "jlC4xuZnKLBS",
        "outputId": "9b307cdd-52db-48bf-f9bc-2510dd84bd19"
      },
      "outputs": [
        {
          "data": {
            "text/plain": [
              "['', '[UNK]', '[START]', '[END]', '.', 'the', 'is', 'i', ',', 'you']"
            ]
          },
          "execution_count": 110,
          "metadata": {},
          "output_type": "execute_result"
        }
      ],
      "source": [
        "output_text_processor = tf.keras.layers.TextVectorization(\n",
        "    standardize=tf_lower_and_split_punct,\n",
        "    max_tokens=max_vocab_size)\n",
        "\n",
        "output_text_processor.adapt(targ)\n",
        "output_text_processor.get_vocabulary()[:10]\n",
        "# English TextVectorization layer"
      ]
    },
    {
      "cell_type": "code",
      "execution_count": 111,
      "metadata": {
        "colab": {
          "base_uri": "https://localhost:8080/"
        },
        "id": "9KZxj8IrNZ9S",
        "outputId": "ed7ca51e-cd13-4c35-dd4e-fd706b1fb34a"
      },
      "outputs": [
        {
          "data": {
            "text/plain": [
              "<tf.Tensor: shape=(3, 10), dtype=int64, numpy=\n",
              "array([[   2,  792,    3,    0,    0,    0,    0,    0,    0,    0],\n",
              "       [   2, 1409,  179,   14, 1754,    5,   10,    3,    0,    0],\n",
              "       [   2,  224,    3,    0,    0,    0,    0,    0,    0,    0]])>"
            ]
          },
          "execution_count": 111,
          "metadata": {},
          "output_type": "execute_result"
        }
      ],
      "source": [
        "# the above layers convert a batch of strings into a batch of token IDs\n",
        "example_tokens = input_text_processor(example_input_batch)\n",
        "example_tokens[:3, :10]"
      ]
    },
    {
      "cell_type": "code",
      "execution_count": 112,
      "metadata": {
        "colab": {
          "base_uri": "https://localhost:8080/",
          "height": 35
        },
        "id": "98g9rcxGQY0I",
        "outputId": "43515fd5-6811-41ec-d9e9-8e1c4d920d81"
      },
      "outputs": [
        {
          "data": {
            "application/vnd.google.colaboratory.intrinsic+json": {
              "type": "string"
            },
            "text/plain": [
              "'[START] nope [END]                   '"
            ]
          },
          "execution_count": 112,
          "metadata": {},
          "output_type": "execute_result"
        }
      ],
      "source": [
        "# get_vocabulary - converts token IDs back to text\n",
        "input_vocab = np.array(input_text_processor.get_vocabulary())\n",
        "tokens = input_vocab[example_tokens[0].numpy()]\n",
        "' '.join(tokens)"
      ]
    },
    {
      "cell_type": "code",
      "execution_count": 113,
      "metadata": {
        "colab": {
          "base_uri": "https://localhost:8080/",
          "height": 298
        },
        "id": "_jx4Or_eFRSz",
        "outputId": "fd68e833-9404-407b-a54b-333bb35ffd2b"
      },
      "outputs": [
        {
          "data": {
            "text/plain": [
              "Text(0.5, 1.0, 'Mask')"
            ]
          },
          "execution_count": 113,
          "metadata": {},
          "output_type": "execute_result"
        },
        {
          "data": {
            "image/png": "[encoded data removed]",
            "text/plain": [
              "<Figure size 432x288 with 2 Axes>"
            ]
          },
          "metadata": {
            "needs_background": "light"
          },
          "output_type": "display_data"
        }
      ],
      "source": [
        "# token IDs converted into a mask\n",
        "plt.subplot(1, 2, 1)\n",
        "plt.pcolormesh(example_tokens)\n",
        "plt.title('Token IDs')\n",
        "\n",
        "plt.subplot(1, 2, 2)\n",
        "plt.pcolormesh(example_tokens != 0)\n",
        "plt.title('Mask')"
      ]
    },
    {
      "cell_type": "code",
      "execution_count": 114,
      "metadata": {
        "id": "_a9uNz3-IrF-"
      },
      "outputs": [],
      "source": [
        "# defining constants for the model\n",
        "embedding_dim = 256\n",
        "units = 1024"
      ]
    },
    {
      "cell_type": "markdown",
      "metadata": {
        "id": "6tQ8xnOH7mFc"
      },
      "source": [
        "Encoding"
      ]
    },
    {
      "cell_type": "code",
      "execution_count": 115,
      "metadata": {
        "id": "nZ2rI24i3jFg"
      },
      "outputs": [],
      "source": [
        "class Encoder(tf.keras.layers.Layer):\n",
        "  def __init__(self, input_vocab_size, embedding_dim, enc_units):\n",
        "    super(Encoder, self).__init__()\n",
        "    self.enc_units = enc_units\n",
        "    self.input_vocab_size = input_vocab_size\n",
        "\n",
        "    # The embedding layer converts tokens to vectors\n",
        "    self.embedding = tf.keras.layers.Embedding(self.input_vocab_size,\n",
        "                                               embedding_dim)\n",
        "\n",
        "    # The GRU RNN layer processes those vectors sequentially.\n",
        "    self.gru = tf.keras.layers.GRU(self.enc_units,\n",
        "                                   # Return the sequence and state\n",
        "                                   return_sequences=True,\n",
        "                                   return_state=True,\n",
        "                                   recurrent_initializer='glorot_uniform')\n",
        "\n",
        "  def call(self, tokens, state=None):\n",
        "    shape_checker = ShapeChecker()\n",
        "    shape_checker(tokens, ('batch', 's'))\n",
        "\n",
        "    # 2. The embedding layer looks up the embedding for each token.\n",
        "    vectors = self.embedding(tokens)\n",
        "    shape_checker(vectors, ('batch', 's', 'embed_dim'))\n",
        "\n",
        "    # 3. The GRU processes the embedding sequence.\n",
        "    #    output shape: (batch, s, enc_units)\n",
        "    #    state shape: (batch, enc_units)\n",
        "    output, state = self.gru(vectors, initial_state=state)\n",
        "    shape_checker(output, ('batch', 's', 'enc_units'))\n",
        "    shape_checker(state, ('batch', 'enc_units'))\n",
        "\n",
        "    # 4. Returns the new sequence and its state.\n",
        "    return output, state"
      ]
    },
    {
      "cell_type": "code",
      "execution_count": 116,
      "metadata": {
        "colab": {
          "base_uri": "https://localhost:8080/"
        },
        "id": "60gSVh05Jl6l",
        "outputId": "99c5ac95-5e34-4591-e00a-16b2d068052d"
      },
      "outputs": [
        {
          "name": "stdout",
          "output_type": "stream",
          "text": [
            "Input batch, shape (batch): (64,)\n",
            "Input batch tokens, shape (batch, s): (64, 22)\n",
            "Encoder output, shape (batch, s, units): (64, 22, 1024)\n",
            "Encoder state, shape (batch, units): (64, 1024)\n"
          ]
        }
      ],
      "source": [
        "# Convert the input text to tokens.\n",
        "example_tokens = input_text_processor(example_input_batch)\n",
        "\n",
        "# Encode the input sequence.\n",
        "encoder = Encoder(input_text_processor.vocabulary_size(),\n",
        "                  embedding_dim, units)\n",
        "example_enc_output, example_enc_state = encoder(example_tokens)\n",
        "\n",
        "print(f'Input batch, shape (batch): {example_input_batch.shape}')\n",
        "print(f'Input batch tokens, shape (batch, s): {example_tokens.shape}')\n",
        "print(f'Encoder output, shape (batch, s, units): {example_enc_output.shape}')\n",
        "print(f'Encoder state, shape (batch, units): {example_enc_state.shape}')"
      ]
    },
    {
      "cell_type": "markdown",
      "metadata": {
        "id": "mI7Zgyrp89GK"
      },
      "source": [
        "Attention layer"
      ]
    },
    {
      "cell_type": "code",
      "execution_count": 117,
      "metadata": {
        "id": "momiE59lXo6U"
      },
      "outputs": [],
      "source": [
        "class BahdanauAttention(tf.keras.layers.Layer):\n",
        "  def __init__(self, units):\n",
        "    super().__init__()\n",
        "    # For Eqn. (4), the  Bahdanau attention\n",
        "    self.W1 = tf.keras.layers.Dense(units, use_bias=False)\n",
        "    self.W2 = tf.keras.layers.Dense(units, use_bias=False)\n",
        "\n",
        "    self.attention = tf.keras.layers.AdditiveAttention()\n",
        "\n",
        "  def call(self, query, value, mask):\n",
        "    shape_checker = ShapeChecker()\n",
        "    shape_checker(query, ('batch', 't', 'query_units'))\n",
        "    shape_checker(value, ('batch', 's', 'value_units'))\n",
        "    shape_checker(mask, ('batch', 's'))\n",
        "\n",
        "    # From Eqn. (4), `W1@ht`.\n",
        "    w1_query = self.W1(query)\n",
        "    shape_checker(w1_query, ('batch', 't', 'attn_units'))\n",
        "\n",
        "    # From Eqn. (4), `W2@hs`.\n",
        "    w2_key = self.W2(value)\n",
        "    shape_checker(w2_key, ('batch', 's', 'attn_units'))\n",
        "\n",
        "    query_mask = tf.ones(tf.shape(query)[:-1], dtype=bool)\n",
        "    value_mask = mask\n",
        "\n",
        "    context_vector, attention_weights = self.attention(\n",
        "        inputs = [w1_query, value, w2_key],\n",
        "        mask=[query_mask, value_mask],\n",
        "        return_attention_scores = True,\n",
        "    )\n",
        "    shape_checker(context_vector, ('batch', 't', 'value_units'))\n",
        "    shape_checker(attention_weights, ('batch', 't', 's'))\n",
        "\n",
        "    return context_vector, attention_weights"
      ]
    },
    {
      "cell_type": "code",
      "execution_count": 118,
      "metadata": {
        "id": "t4QMlOp8Gidh"
      },
      "outputs": [],
      "source": [
        "# creating BahdanauAttention layer\n",
        "attention_layer = BahdanauAttention(units)"
      ]
    },
    {
      "cell_type": "code",
      "execution_count": 119,
      "metadata": {
        "colab": {
          "base_uri": "https://localhost:8080/"
        },
        "id": "DYSHqmORgVFo",
        "outputId": "8feaa6f2-f454-4fa6-bf69-29762aacebee"
      },
      "outputs": [
        {
          "data": {
            "text/plain": [
              "TensorShape([64, 22])"
            ]
          },
          "execution_count": 119,
          "metadata": {},
          "output_type": "execute_result"
        }
      ],
      "source": [
        "(example_tokens != 0).shape"
      ]
    },
    {
      "cell_type": "code",
      "execution_count": 120,
      "metadata": {
        "colab": {
          "base_uri": "https://localhost:8080/"
        },
        "id": "7y7hjPkNMmHh",
        "outputId": "600899f2-e9d6-467a-ba4a-04ab287d4f08"
      },
      "outputs": [
        {
          "name": "stdout",
          "output_type": "stream",
          "text": [
            "Attention result shape: (batch_size, query_seq_length, units):           (64, 2, 1024)\n",
            "Attention weights shape: (batch_size, query_seq_length, value_seq_length): (64, 2, 22)\n"
          ]
        }
      ],
      "source": [
        "# Later, the decoder will generate this attention query\n",
        "example_attention_query = tf.random.normal(shape=[len(example_tokens), 2, 10])\n",
        "\n",
        "# Attend to the encoded tokens\n",
        "\n",
        "context_vector, attention_weights = attention_layer(\n",
        "    query=example_attention_query,\n",
        "    value=example_enc_output,\n",
        "    mask=(example_tokens != 0))\n",
        "\n",
        "print(f'Attention result shape: (batch_size, query_seq_length, units):           {context_vector.shape}')\n",
        "print(f'Attention weights shape: (batch_size, query_seq_length, value_seq_length): {attention_weights.shape}')"
      ]
    },
    {
      "cell_type": "code",
      "execution_count": 121,
      "metadata": {
        "colab": {
          "base_uri": "https://localhost:8080/",
          "height": 298
        },
        "id": "Rqr8XGsAJlf6",
        "outputId": "a8f59ec0-d2a6-49a2-de95-aa80d7f7a7b7"
      },
      "outputs": [
        {
          "data": {
            "text/plain": [
              "Text(0.5, 1.0, 'Mask')"
            ]
          },
          "execution_count": 121,
          "metadata": {},
          "output_type": "execute_result"
        },
        {
          "data": {
            "image/png": "[encoded data removed]",
            "text/plain": [
              "<Figure size 432x288 with 2 Axes>"
            ]
          },
          "metadata": {
            "needs_background": "light"
          },
          "output_type": "display_data"
        }
      ],
      "source": [
        "plt.subplot(1, 2, 1)\n",
        "plt.pcolormesh(attention_weights[:, 0, :])\n",
        "plt.title('Attention weights')\n",
        "\n",
        "plt.subplot(1, 2, 2)\n",
        "plt.pcolormesh(example_tokens != 0)\n",
        "plt.title('Mask')\n"
      ]
    },
    {
      "cell_type": "code",
      "execution_count": 122,
      "metadata": {
        "colab": {
          "base_uri": "https://localhost:8080/"
        },
        "id": "ZuzrCdmYlTcJ",
        "outputId": "8dfa3d00-cd0c-48e8-8718-af89ed82d106"
      },
      "outputs": [
        {
          "data": {
            "text/plain": [
              "TensorShape([64, 2, 22])"
            ]
          },
          "execution_count": 122,
          "metadata": {},
          "output_type": "execute_result"
        }
      ],
      "source": [
        "attention_weights.shape"
      ]
    },
    {
      "cell_type": "code",
      "execution_count": 123,
      "metadata": {
        "id": "qIMwC-f-ZC8N"
      },
      "outputs": [],
      "source": [
        "attention_slice = attention_weights[0, 0].numpy()\n",
        "attention_slice = attention_slice[attention_slice != 0]"
      ]
    },
    {
      "cell_type": "code",
      "execution_count": 124,
      "metadata": {
        "colab": {
          "base_uri": "https://localhost:8080/",
          "height": 425
        },
        "id": "ysWDPO6hOS8X",
        "outputId": "9f941203-0962-4219-98cb-efdfe46a5faa"
      },
      "outputs": [
        {
          "data": {
            "text/plain": [
              "[<matplotlib.lines.Line2D at 0x7eff709b0650>]"
            ]
          },
          "execution_count": 124,
          "metadata": {},
          "output_type": "execute_result"
        },
        {
          "data": {
            "text/plain": [
              "<Figure size 432x288 with 0 Axes>"
            ]
          },
          "metadata": {},
          "output_type": "display_data"
        },
        {
          "data": {
            "image/png": "[encoded data removed]",
            "text/plain": [
              "<Figure size 864x432 with 2 Axes>"
            ]
          },
          "metadata": {
            "needs_background": "light"
          },
          "output_type": "display_data"
        }
      ],
      "source": [
        "#@title\n",
        "plt.suptitle('Attention weights for one sequence')\n",
        "\n",
        "plt.figure(figsize=(12, 6))\n",
        "a1 = plt.subplot(1, 2, 1)\n",
        "plt.bar(range(len(attention_slice)), attention_slice)\n",
        "# freeze the xlim\n",
        "plt.xlim(plt.xlim())\n",
        "plt.xlabel('Attention weights')\n",
        "\n",
        "a2 = plt.subplot(1, 2, 2)\n",
        "plt.bar(range(len(attention_slice)), attention_slice)\n",
        "plt.xlabel('Attention weights, zoomed')\n",
        "\n",
        "# zoom in\n",
        "top = max(a1.get_ylim())\n",
        "zoom = 0.85*top\n",
        "a2.set_ylim([0.90*top, top])\n",
        "a1.plot(a1.get_xlim(), [zoom, zoom], color='k')"
      ]
    },
    {
      "cell_type": "markdown",
      "metadata": {
        "id": "g68xf3c_-gBS"
      },
      "source": [
        "Decoder"
      ]
    },
    {
      "cell_type": "code",
      "execution_count": 125,
      "metadata": {
        "id": "erYvHIgAl8kh"
      },
      "outputs": [],
      "source": [
        "class Decoder(tf.keras.layers.Layer):\n",
        "  def __init__(self, output_vocab_size, embedding_dim, dec_units):\n",
        "    super(Decoder, self).__init__()\n",
        "    self.dec_units = dec_units\n",
        "    self.output_vocab_size = output_vocab_size\n",
        "    self.embedding_dim = embedding_dim\n",
        "\n",
        "    # For Step 1. The embedding layer converts token IDs to vectors\n",
        "    self.embedding = tf.keras.layers.Embedding(self.output_vocab_size,\n",
        "                                               embedding_dim)\n",
        "\n",
        "    # For Step 2. The RNN keeps track of what's been generated so far.\n",
        "    self.gru = tf.keras.layers.GRU(self.dec_units,\n",
        "                                   return_sequences=True,\n",
        "                                   return_state=True,\n",
        "                                   recurrent_initializer='glorot_uniform')\n",
        "\n",
        "    # For step 3. The RNN output will be the query for the attention layer.\n",
        "    self.attention = BahdanauAttention(self.dec_units)\n",
        "\n",
        "    # For step 4. Eqn. (3): converting `ct` to `at`\n",
        "    self.Wc = tf.keras.layers.Dense(dec_units, activation=tf.math.tanh,\n",
        "                                    use_bias=False)\n",
        "\n",
        "    # For step 5. This fully connected layer produces the logits for each output token.\n",
        "    self.fc = tf.keras.layers.Dense(self.output_vocab_size)"
      ]
    },
    {
      "cell_type": "code",
      "execution_count": 126,
      "metadata": {
        "id": "7WfSIb2sArRT"
      },
      "outputs": [],
      "source": [
        "class DecoderInput(typing.NamedTuple):\n",
        "  new_tokens: Any\n",
        "  enc_output: Any\n",
        "  mask: Any\n",
        "\n",
        "class DecoderOutput(typing.NamedTuple):\n",
        "  logits: Any\n",
        "  attention_weights: Any"
      ]
    },
    {
      "cell_type": "code",
      "execution_count": 127,
      "metadata": {
        "id": "PJOi5btHAPNK"
      },
      "outputs": [],
      "source": [
        "def call(self,\n",
        "         inputs: DecoderInput,\n",
        "         state=None) -> Tuple[DecoderOutput, tf.Tensor]:\n",
        "  shape_checker = ShapeChecker()\n",
        "  shape_checker(inputs.new_tokens, ('batch', 't'))\n",
        "  shape_checker(inputs.enc_output, ('batch', 's', 'enc_units'))\n",
        "  shape_checker(inputs.mask, ('batch', 's'))\n",
        "\n",
        "  if state is not None:\n",
        "    shape_checker(state, ('batch', 'dec_units'))\n",
        "\n",
        "  # Step 1. Lookup the embeddings\n",
        "  vectors = self.embedding(inputs.new_tokens)\n",
        "  shape_checker(vectors, ('batch', 't', 'embedding_dim'))\n",
        "\n",
        "  # Step 2. Process one step with the RNN\n",
        "  rnn_output, state = self.gru(vectors, initial_state=state)\n",
        "\n",
        "  shape_checker(rnn_output, ('batch', 't', 'dec_units'))\n",
        "  shape_checker(state, ('batch', 'dec_units'))\n",
        "\n",
        "  # Step 3. Use the RNN output as the query for the attention over the\n",
        "  # encoder output.\n",
        "  context_vector, attention_weights = self.attention(\n",
        "      query=rnn_output, value=inputs.enc_output, mask=inputs.mask)\n",
        "  shape_checker(context_vector, ('batch', 't', 'dec_units'))\n",
        "  shape_checker(attention_weights, ('batch', 't', 's'))\n",
        "\n",
        "  # Step 4. Eqn. (3): Join the context_vector and rnn_output\n",
        "  #     [ct; ht] shape: (batch t, value_units + query_units)\n",
        "  context_and_rnn_output = tf.concat([context_vector, rnn_output], axis=-1)\n",
        "\n",
        "  # Step 4. Eqn. (3): `at = tanh(Wc@[ct; ht])`\n",
        "  attention_vector = self.Wc(context_and_rnn_output)\n",
        "  shape_checker(attention_vector, ('batch', 't', 'dec_units'))\n",
        "\n",
        "  # Step 5. Generate logit predictions:\n",
        "  logits = self.fc(attention_vector)\n",
        "  shape_checker(logits, ('batch', 't', 'output_vocab_size'))\n",
        "\n",
        "  return DecoderOutput(logits, attention_weights), state"
      ]
    },
    {
      "cell_type": "code",
      "execution_count": 128,
      "metadata": {
        "id": "Ay_mTMPfnb2a"
      },
      "outputs": [],
      "source": [
        "Decoder.call = call"
      ]
    },
    {
      "cell_type": "code",
      "execution_count": 129,
      "metadata": {
        "id": "4ZUMbYXIEVeA"
      },
      "outputs": [],
      "source": [
        "decoder = Decoder(output_text_processor.vocabulary_size(),\n",
        "                  embedding_dim, units)"
      ]
    },
    {
      "cell_type": "code",
      "execution_count": 130,
      "metadata": {
        "id": "4u6eJBU4GL40"
      },
      "outputs": [],
      "source": [
        "# Convert the target sequence, and collect the \"[START]\" tokens\n",
        "example_output_tokens = output_text_processor(example_target_batch)\n",
        "\n",
        "start_index = output_text_processor.get_vocabulary().index('[START]')\n",
        "first_token = tf.constant([[start_index]] * example_output_tokens.shape[0])"
      ]
    },
    {
      "cell_type": "code",
      "execution_count": 131,
      "metadata": {
        "colab": {
          "base_uri": "https://localhost:8080/"
        },
        "id": "E5hqvbR5FUCD",
        "outputId": "ec292583-153d-4d60-d79e-082f2ed7a208"
      },
      "outputs": [
        {
          "name": "stdout",
          "output_type": "stream",
          "text": [
            "logits shape: (batch_size, t, output_vocab_size) (64, 1, 1215)\n",
            "state shape: (batch_size, dec_units) (64, 1024)\n"
          ]
        }
      ],
      "source": [
        "# Run the decoder\n",
        "dec_result, dec_state = decoder(\n",
        "    inputs = DecoderInput(new_tokens=first_token,\n",
        "                          enc_output=example_enc_output,\n",
        "                          mask=(example_tokens != 0)),\n",
        "    state = example_enc_state\n",
        ")\n",
        "\n",
        "print(f'logits shape: (batch_size, t, output_vocab_size) {dec_result.logits.shape}')\n",
        "print(f'state shape: (batch_size, dec_units) {dec_state.shape}')"
      ]
    },
    {
      "cell_type": "code",
      "execution_count": 132,
      "metadata": {
        "id": "P5UY8wko3jFp"
      },
      "outputs": [],
      "source": [
        "# sample token according to logits\n",
        "sampled_token = tf.random.categorical(dec_result.logits[:, 0, :], num_samples=1)"
      ]
    },
    {
      "cell_type": "code",
      "execution_count": 133,
      "metadata": {
        "colab": {
          "base_uri": "https://localhost:8080/"
        },
        "id": "lKXTLYu4IV7I",
        "outputId": "4c243ce7-23fc-4781-98c6-9d64e07e13d0"
      },
      "outputs": [
        {
          "data": {
            "text/plain": [
              "array([['tutorial'],\n",
              "       ['semi'],\n",
              "       ['to'],\n",
              "       ['market'],\n",
              "       ['marks']], dtype='<U15')"
            ]
          },
          "execution_count": 133,
          "metadata": {},
          "output_type": "execute_result"
        }
      ],
      "source": [
        "# decode the token as first word of o/p\n",
        "vocab = np.array(output_text_processor.get_vocabulary())\n",
        "first_word = vocab[sampled_token.numpy()]\n",
        "first_word[:5]"
      ]
    },
    {
      "cell_type": "code",
      "execution_count": 134,
      "metadata": {
        "id": "pX1VF9XDJTOM"
      },
      "outputs": [],
      "source": [
        "# decoder generates second set of logits\n",
        "dec_result, dec_state = decoder(\n",
        "    DecoderInput(sampled_token,\n",
        "                 example_enc_output,\n",
        "                 mask=(example_tokens != 0)),\n",
        "    state=dec_state)"
      ]
    },
    {
      "cell_type": "code",
      "execution_count": 135,
      "metadata": {
        "colab": {
          "base_uri": "https://localhost:8080/"
        },
        "id": "H1rs0XL7Y2aS",
        "outputId": "44ae682c-c8c3-45e6-9f2b-e56c89f3a46a"
      },
      "outputs": [
        {
          "data": {
            "text/plain": [
              "array([['function'],\n",
              "       ['morning'],\n",
              "       ['open'],\n",
              "       ['lr'],\n",
              "       ['semester']], dtype='<U15')"
            ]
          },
          "execution_count": 135,
          "metadata": {},
          "output_type": "execute_result"
        }
      ],
      "source": [
        "sampled_token = tf.random.categorical(dec_result.logits[:, 0, :], num_samples=1)\n",
        "first_word = vocab[sampled_token.numpy()]\n",
        "first_word[:5]"
      ]
    },
    {
      "cell_type": "markdown",
      "metadata": {
        "id": "hQpRXZdxBYAO"
      },
      "source": [
        "Training"
      ]
    },
    {
      "cell_type": "code",
      "execution_count": 136,
      "metadata": {
        "id": "WmTHr5iV3jFr"
      },
      "outputs": [],
      "source": [
        "# Loss function definition\n",
        "class MaskedLoss(tf.keras.losses.Loss):\n",
        "  def __init__(self):\n",
        "    self.name = 'masked_loss'\n",
        "    self.loss = tf.keras.losses.SparseCategoricalCrossentropy(\n",
        "        from_logits=True, reduction='none')\n",
        "\n",
        "  def __call__(self, y_true, y_pred):\n",
        "    shape_checker = ShapeChecker()\n",
        "    shape_checker(y_true, ('batch', 't'))\n",
        "    shape_checker(y_pred, ('batch', 't', 'logits'))\n",
        "\n",
        "    # Calculate the loss for each item in the batch.\n",
        "    loss = self.loss(y_true, y_pred)\n",
        "    shape_checker(loss, ('batch', 't'))\n",
        "\n",
        "    # Mask off the losses on padding.\n",
        "    mask = tf.cast(y_true != 0, tf.float32)\n",
        "    shape_checker(mask, ('batch', 't'))\n",
        "    loss *= mask\n",
        "\n",
        "    # Return the total.\n",
        "    return tf.reduce_sum(loss)"
      ]
    },
    {
      "cell_type": "code",
      "execution_count": 137,
      "metadata": {
        "id": "WWIyuy71TkJT"
      },
      "outputs": [],
      "source": [
        "# implementing training step\n",
        "class TrainTranslator(tf.keras.Model):\n",
        "  def __init__(self, embedding_dim, units,\n",
        "               input_text_processor,\n",
        "               output_text_processor, \n",
        "               use_tf_function=True):\n",
        "    super().__init__()\n",
        "    # Build the encoder and decoder\n",
        "    encoder = Encoder(input_text_processor.vocabulary_size(),\n",
        "                      embedding_dim, units)\n",
        "    decoder = Decoder(output_text_processor.vocabulary_size(),\n",
        "                      embedding_dim, units)\n",
        "\n",
        "    self.encoder = encoder\n",
        "    self.decoder = decoder\n",
        "    self.input_text_processor = input_text_processor\n",
        "    self.output_text_processor = output_text_processor\n",
        "    self.use_tf_function = use_tf_function\n",
        "    self.shape_checker = ShapeChecker()\n",
        "\n",
        "  def train_step(self, inputs):\n",
        "    self.shape_checker = ShapeChecker()\n",
        "    if self.use_tf_function:\n",
        "      return self._tf_train_step(inputs)\n",
        "    else:\n",
        "      return self._train_step(inputs)"
      ]
    },
    {
      "cell_type": "code",
      "execution_count": 138,
      "metadata": {
        "id": "ZlYE68wzXoA8"
      },
      "outputs": [],
      "source": [
        "# Receiving batches of english & hinglish data\n",
        "# Converting those raw text inputs to token-embeddings and masks.\n",
        "def _preprocess(self, input_text, target_text):\n",
        "  self.shape_checker(input_text, ('batch',))\n",
        "  self.shape_checker(target_text, ('batch',))\n",
        "\n",
        "  # Convert the text to token IDs\n",
        "  input_tokens = self.input_text_processor(input_text)\n",
        "  target_tokens = self.output_text_processor(target_text)\n",
        "  self.shape_checker(input_tokens, ('batch', 's'))\n",
        "  self.shape_checker(target_tokens, ('batch', 't'))\n",
        "\n",
        "  # Convert IDs to masks.\n",
        "  input_mask = input_tokens != 0\n",
        "  self.shape_checker(input_mask, ('batch', 's'))\n",
        "\n",
        "  target_mask = target_tokens != 0\n",
        "  self.shape_checker(target_mask, ('batch', 't'))\n",
        "\n",
        "  return input_tokens, input_mask, target_tokens, target_mask"
      ]
    },
    {
      "cell_type": "code",
      "execution_count": 139,
      "metadata": {
        "id": "lHy6hzStrgjQ"
      },
      "outputs": [],
      "source": [
        "TrainTranslator._preprocess = _preprocess"
      ]
    },
    {
      "cell_type": "code",
      "execution_count": 140,
      "metadata": {
        "id": "Qs_gsISsYPpY"
      },
      "outputs": [],
      "source": [
        "# training\n",
        "def _train_step(self, inputs):\n",
        "  input_text, target_text = inputs  \n",
        "\n",
        "  (input_tokens, input_mask,\n",
        "   target_tokens, target_mask) = self._preprocess(input_text, target_text)\n",
        "\n",
        "  max_target_length = tf.shape(target_tokens)[1]\n",
        "\n",
        "  with tf.GradientTape() as tape:\n",
        "    # Encode the input\n",
        "    enc_output, enc_state = self.encoder(input_tokens)\n",
        "    self.shape_checker(enc_output, ('batch', 's', 'enc_units'))\n",
        "    self.shape_checker(enc_state, ('batch', 'enc_units'))\n",
        "\n",
        "    # Initialize the decoder's state to the encoder's final state.\n",
        "    # This only works if the encoder and decoder have the same number of\n",
        "    # units.\n",
        "    dec_state = enc_state\n",
        "    loss = tf.constant(0.0)\n",
        "\n",
        "    for t in tf.range(max_target_length-1):\n",
        "      # Pass in two tokens from the target sequence:\n",
        "      # 1. The current input to the decoder.\n",
        "      # 2. The target for the decoder's next prediction.\n",
        "      new_tokens = target_tokens[:, t:t+2]\n",
        "      step_loss, dec_state = self._loop_step(new_tokens, input_mask,\n",
        "                                             enc_output, dec_state)\n",
        "      loss = loss + step_loss\n",
        "\n",
        "    # Average the loss over all non padding tokens.\n",
        "    average_loss = loss / tf.reduce_sum(tf.cast(target_mask, tf.float32))\n",
        "\n",
        "  # Apply an optimization step\n",
        "  variables = self.trainable_variables \n",
        "  gradients = tape.gradient(average_loss, variables)\n",
        "  self.optimizer.apply_gradients(zip(gradients, variables))\n",
        "\n",
        "  # Return a dict mapping metric names to current value\n",
        "  return {'batch_loss': average_loss}"
      ]
    },
    {
      "cell_type": "code",
      "execution_count": 141,
      "metadata": {
        "id": "KGwWHIxLrjGR"
      },
      "outputs": [],
      "source": [
        "TrainTranslator._train_step = _train_step"
      ]
    },
    {
      "cell_type": "code",
      "execution_count": 142,
      "metadata": {
        "id": "9VrzgwztXzYJ"
      },
      "outputs": [],
      "source": [
        "# executes the decoder and calculates the incremental loss and new decoder state \n",
        "def _loop_step(self, new_tokens, input_mask, enc_output, dec_state):\n",
        "  input_token, target_token = new_tokens[:, 0:1], new_tokens[:, 1:2]\n",
        "\n",
        "  # Run the decoder one step.\n",
        "  decoder_input = DecoderInput(new_tokens=input_token,\n",
        "                               enc_output=enc_output,\n",
        "                               mask=input_mask)\n",
        "\n",
        "  dec_result, dec_state = self.decoder(decoder_input, state=dec_state)\n",
        "  self.shape_checker(dec_result.logits, ('batch', 't1', 'logits'))\n",
        "  self.shape_checker(dec_result.attention_weights, ('batch', 't1', 's'))\n",
        "  self.shape_checker(dec_state, ('batch', 'dec_units'))\n",
        "\n",
        "  # `self.loss` returns the total for non-padded tokens\n",
        "  y = target_token\n",
        "  y_pred = dec_result.logits\n",
        "  step_loss = self.loss(y, y_pred)\n",
        "\n",
        "  return step_loss, dec_state"
      ]
    },
    {
      "cell_type": "code",
      "execution_count": 143,
      "metadata": {
        "id": "xj3I7VULrk1R"
      },
      "outputs": [],
      "source": [
        "TrainTranslator._loop_step = _loop_step"
      ]
    },
    {
      "cell_type": "code",
      "execution_count": 144,
      "metadata": {
        "id": "OA6bCske8TXm"
      },
      "outputs": [],
      "source": [
        "# testing the training step\n",
        "translator = TrainTranslator(\n",
        "    embedding_dim, units,\n",
        "    input_text_processor=input_text_processor,\n",
        "    output_text_processor=output_text_processor,\n",
        "    use_tf_function=False)\n",
        "\n",
        "# Configure the loss and optimizer\n",
        "translator.compile(\n",
        "    optimizer=tf.optimizers.Adam(),\n",
        "    loss=MaskedLoss(),\n",
        ")"
      ]
    },
    {
      "cell_type": "code",
      "execution_count": 145,
      "metadata": {
        "colab": {
          "base_uri": "https://localhost:8080/"
        },
        "id": "zHe-OudqCFGK",
        "outputId": "f2fbae89-05d6-4eae-850b-804a97879845"
      },
      "outputs": [
        {
          "data": {
            "text/plain": [
              "7.102499355774649"
            ]
          },
          "execution_count": 145,
          "metadata": {},
          "output_type": "execute_result"
        }
      ],
      "source": [
        "np.log(output_text_processor.vocabulary_size())"
      ]
    },
    {
      "cell_type": "code",
      "execution_count": 146,
      "metadata": {
        "colab": {
          "base_uri": "https://localhost:8080/"
        },
        "id": "VwMU9cFEfjha",
        "outputId": "55585974-6d03-477b-fa1b-c040e9bd7a30"
      },
      "outputs": [
        {
          "name": "stdout",
          "output_type": "stream",
          "text": [
            "{'batch_loss': <tf.Tensor: shape=(), dtype=float32, numpy=6.212529>}\n",
            "{'batch_loss': <tf.Tensor: shape=(), dtype=float32, numpy=6.169336>}\n",
            "{'batch_loss': <tf.Tensor: shape=(), dtype=float32, numpy=6.077675>}\n",
            "{'batch_loss': <tf.Tensor: shape=(), dtype=float32, numpy=5.7650666>}\n",
            "{'batch_loss': <tf.Tensor: shape=(), dtype=float32, numpy=5.087609>}\n",
            "{'batch_loss': <tf.Tensor: shape=(), dtype=float32, numpy=5.228793>}\n",
            "{'batch_loss': <tf.Tensor: shape=(), dtype=float32, numpy=5.2537303>}\n",
            "{'batch_loss': <tf.Tensor: shape=(), dtype=float32, numpy=5.0246177>}\n",
            "{'batch_loss': <tf.Tensor: shape=(), dtype=float32, numpy=4.5816493>}\n",
            "{'batch_loss': <tf.Tensor: shape=(), dtype=float32, numpy=4.2241445>}\n",
            "\n",
            "CPU times: user 12.9 s, sys: 117 ms, total: 13 s\n",
            "Wall time: 13 s\n"
          ]
        }
      ],
      "source": [
        "%%time\n",
        "for n in range(10):\n",
        "  print(translator.train_step([example_input_batch, example_target_batch]))\n",
        "print()"
      ]
    },
    {
      "cell_type": "code",
      "execution_count": 147,
      "metadata": {
        "id": "UFUsTKQx0jaH"
      },
      "outputs": [],
      "source": [
        "# maximizing performance while training\n",
        "@tf.function(input_signature=[[tf.TensorSpec(dtype=tf.string, shape=[None]),\n",
        "                               tf.TensorSpec(dtype=tf.string, shape=[None])]])\n",
        "def _tf_train_step(self, inputs):\n",
        "  return self._train_step(inputs)"
      ]
    },
    {
      "cell_type": "code",
      "execution_count": 148,
      "metadata": {
        "id": "2-bgU59jrztQ"
      },
      "outputs": [],
      "source": [
        "TrainTranslator._tf_train_step = _tf_train_step"
      ]
    },
    {
      "cell_type": "code",
      "execution_count": 149,
      "metadata": {
        "id": "KC8bRv_Gr3H9"
      },
      "outputs": [],
      "source": [
        "translator.use_tf_function = True"
      ]
    },
    {
      "cell_type": "code",
      "execution_count": 150,
      "metadata": {
        "colab": {
          "base_uri": "https://localhost:8080/"
        },
        "id": "pLQZsX2dp1QK",
        "outputId": "db5ec937-a3e4-40b2-ec54-9dea9c4f3519"
      },
      "outputs": [
        {
          "data": {
            "text/plain": [
              "{'batch_loss': <tf.Tensor: shape=(), dtype=float32, numpy=4.1495695>}"
            ]
          },
          "execution_count": 150,
          "metadata": {},
          "output_type": "execute_result"
        }
      ],
      "source": [
        "translator.train_step([example_input_batch, example_target_batch])"
      ]
    },
    {
      "cell_type": "code",
      "execution_count": 151,
      "metadata": {
        "colab": {
          "base_uri": "https://localhost:8080/"
        },
        "id": "UzXXMwjXCqqh",
        "outputId": "c536483a-a0b5-4c1b-b99b-3cc35a2caf48"
      },
      "outputs": [
        {
          "name": "stdout",
          "output_type": "stream",
          "text": [
            "{'batch_loss': <tf.Tensor: shape=(), dtype=float32, numpy=3.9923327>}\n",
            "{'batch_loss': <tf.Tensor: shape=(), dtype=float32, numpy=3.9184628>}\n",
            "{'batch_loss': <tf.Tensor: shape=(), dtype=float32, numpy=3.8732133>}\n",
            "{'batch_loss': <tf.Tensor: shape=(), dtype=float32, numpy=3.847394>}\n",
            "{'batch_loss': <tf.Tensor: shape=(), dtype=float32, numpy=3.8402793>}\n",
            "{'batch_loss': <tf.Tensor: shape=(), dtype=float32, numpy=3.8025892>}\n",
            "{'batch_loss': <tf.Tensor: shape=(), dtype=float32, numpy=3.7349072>}\n",
            "{'batch_loss': <tf.Tensor: shape=(), dtype=float32, numpy=3.6778128>}\n",
            "{'batch_loss': <tf.Tensor: shape=(), dtype=float32, numpy=3.625969>}\n",
            "{'batch_loss': <tf.Tensor: shape=(), dtype=float32, numpy=3.5785184>}\n",
            "\n",
            "CPU times: user 7.28 s, sys: 817 ms, total: 8.1 s\n",
            "Wall time: 5.37 s\n"
          ]
        }
      ],
      "source": [
        "%%time\n",
        "for n in range(10):\n",
        "  print(translator.train_step([example_input_batch, example_target_batch]))\n",
        "print()"
      ]
    },
    {
      "cell_type": "code",
      "execution_count": 152,
      "metadata": {
        "colab": {
          "base_uri": "https://localhost:8080/",
          "height": 300
        },
        "id": "U-dIWMIBqK7b",
        "outputId": "6df08356-994b-48fa-b64c-ebcdae2c6291"
      },
      "outputs": [
        {
          "name": "stdout",
          "output_type": "stream",
          "text": [
            "....................................................................................................\n"
          ]
        },
        {
          "data": {
            "text/plain": [
              "[<matplotlib.lines.Line2D at 0x7eff7032cd90>]"
            ]
          },
          "execution_count": 152,
          "metadata": {},
          "output_type": "execute_result"
        },
        {
          "data": {
            "image/png": "[encoded data removed]",
            "text/plain": [
              "<Figure size 432x288 with 1 Axes>"
            ]
          },
          "metadata": {
            "needs_background": "light"
          },
          "output_type": "display_data"
        }
      ],
      "source": [
        "losses = []\n",
        "for n in range(100):\n",
        "  print('.', end='')\n",
        "  logs = translator.train_step([example_input_batch, example_target_batch])\n",
        "  losses.append(logs['batch_loss'].numpy())\n",
        "\n",
        "print()\n",
        "plt.plot(losses)"
      ]
    },
    {
      "cell_type": "code",
      "execution_count": 153,
      "metadata": {
        "id": "Emgfgh4tAmJt"
      },
      "outputs": [],
      "source": [
        "# building a fresh copy of the model to train from scratch since the training step is working\n",
        "train_translator = TrainTranslator(\n",
        "    embedding_dim, units,\n",
        "    input_text_processor=input_text_processor,\n",
        "    output_text_processor=output_text_processor)\n",
        "\n",
        "# Configure the loss and optimizer\n",
        "train_translator.compile(\n",
        "    optimizer=tf.optimizers.Adam(),\n",
        "    loss=MaskedLoss(),\n",
        ")"
      ]
    },
    {
      "cell_type": "markdown",
      "metadata": {
        "id": "1h7Dmiy1De8S"
      },
      "source": [
        "Training the model"
      ]
    },
    {
      "cell_type": "code",
      "execution_count": 154,
      "metadata": {
        "id": "J7m4mtnj80sq"
      },
      "outputs": [],
      "source": [
        "class BatchLogs(tf.keras.callbacks.Callback):\n",
        "  def __init__(self, key):\n",
        "    self.key = key\n",
        "    self.logs = []\n",
        "\n",
        "  def on_train_batch_end(self, n, logs):\n",
        "    self.logs.append(logs[self.key])\n",
        "\n",
        "batch_loss = BatchLogs('batch_loss')"
      ]
    },
    {
      "cell_type": "code",
      "execution_count": 155,
      "metadata": {
        "colab": {
          "base_uri": "https://localhost:8080/"
        },
        "id": "BQd_esVVoSf3",
        "outputId": "06c29d9e-195b-46a6-a401-92eb33ccdc94"
      },
      "outputs": [
        {
          "name": "stdout",
          "output_type": "stream",
          "text": [
            "Epoch 1/100\n",
            "21/21 [==============================] - 19s 559ms/step - batch_loss: 5.9550\n",
            "Epoch 2/100\n",
            "21/21 [==============================] - 12s 547ms/step - batch_loss: 4.7471\n",
            "Epoch 3/100\n",
            "21/21 [==============================] - 11s 539ms/step - batch_loss: 4.4406\n",
            "Epoch 4/100\n",
            "21/21 [==============================] - 11s 535ms/step - batch_loss: 4.1583\n",
            "Epoch 5/100\n",
            "21/21 [==============================] - 11s 541ms/step - batch_loss: 3.7771\n",
            "Epoch 6/100\n",
            "21/21 [==============================] - 11s 547ms/step - batch_loss: 3.3884\n",
            "Epoch 7/100\n",
            "21/21 [==============================] - 11s 539ms/step - batch_loss: 2.9542\n",
            "Epoch 8/100\n",
            "21/21 [==============================] - 12s 551ms/step - batch_loss: 2.5952\n",
            "Epoch 9/100\n",
            "21/21 [==============================] - 11s 541ms/step - batch_loss: 2.2092\n",
            "Epoch 10/100\n",
            "21/21 [==============================] - 12s 559ms/step - batch_loss: 1.8373\n",
            "Epoch 11/100\n",
            "21/21 [==============================] - 12s 580ms/step - batch_loss: 1.4684\n",
            "Epoch 12/100\n",
            "21/21 [==============================] - 12s 562ms/step - batch_loss: 1.2328\n",
            "Epoch 13/100\n",
            "21/21 [==============================] - 12s 562ms/step - batch_loss: 1.0548\n",
            "Epoch 14/100\n",
            "21/21 [==============================] - 11s 535ms/step - batch_loss: 0.8268\n",
            "Epoch 15/100\n",
            "21/21 [==============================] - 12s 534ms/step - batch_loss: 0.6573\n",
            "Epoch 16/100\n",
            "21/21 [==============================] - 11s 524ms/step - batch_loss: 0.5229\n",
            "Epoch 17/100\n",
            "21/21 [==============================] - 12s 545ms/step - batch_loss: 0.3813\n",
            "Epoch 18/100\n",
            "21/21 [==============================] - 11s 530ms/step - batch_loss: 0.2838\n",
            "Epoch 19/100\n",
            "21/21 [==============================] - 11s 523ms/step - batch_loss: 0.2167\n",
            "Epoch 20/100\n",
            "21/21 [==============================] - 12s 563ms/step - batch_loss: 0.1635\n",
            "Epoch 21/100\n",
            "21/21 [==============================] - 12s 554ms/step - batch_loss: 0.1166\n",
            "Epoch 22/100\n",
            "21/21 [==============================] - 12s 564ms/step - batch_loss: 0.0869\n",
            "Epoch 23/100\n",
            "21/21 [==============================] - 12s 554ms/step - batch_loss: 0.0669\n",
            "Epoch 24/100\n",
            "21/21 [==============================] - 12s 563ms/step - batch_loss: 0.0501\n",
            "Epoch 25/100\n",
            "21/21 [==============================] - 12s 557ms/step - batch_loss: 0.0354\n",
            "Epoch 26/100\n",
            "21/21 [==============================] - 11s 544ms/step - batch_loss: 0.0277\n",
            "Epoch 27/100\n",
            "21/21 [==============================] - 11s 547ms/step - batch_loss: 0.0257\n",
            "Epoch 28/100\n",
            "21/21 [==============================] - 12s 556ms/step - batch_loss: 0.0224\n",
            "Epoch 29/100\n",
            "21/21 [==============================] - 12s 529ms/step - batch_loss: 0.0222\n",
            "Epoch 30/100\n",
            "21/21 [==============================] - 11s 540ms/step - batch_loss: 0.0190\n",
            "Epoch 31/100\n",
            "21/21 [==============================] - 11s 534ms/step - batch_loss: 0.0160\n",
            "Epoch 32/100\n",
            "21/21 [==============================] - 11s 518ms/step - batch_loss: 0.0130\n",
            "Epoch 33/100\n",
            "21/21 [==============================] - 11s 550ms/step - batch_loss: 0.0142\n",
            "Epoch 34/100\n",
            "21/21 [==============================] - 12s 552ms/step - batch_loss: 0.0144\n",
            "Epoch 35/100\n",
            "21/21 [==============================] - 12s 580ms/step - batch_loss: 0.0138\n",
            "Epoch 36/100\n",
            "21/21 [==============================] - 12s 550ms/step - batch_loss: 0.0132\n",
            "Epoch 37/100\n",
            "21/21 [==============================] - 12s 554ms/step - batch_loss: 0.0123\n",
            "Epoch 38/100\n",
            "21/21 [==============================] - 12s 562ms/step - batch_loss: 0.0097\n",
            "Epoch 39/100\n",
            "21/21 [==============================] - 12s 575ms/step - batch_loss: 0.0081\n",
            "Epoch 40/100\n",
            "21/21 [==============================] - 12s 548ms/step - batch_loss: 0.0079\n",
            "Epoch 41/100\n",
            "21/21 [==============================] - 12s 575ms/step - batch_loss: 0.0073\n",
            "Epoch 42/100\n",
            "21/21 [==============================] - 11s 526ms/step - batch_loss: 0.0066\n",
            "Epoch 43/100\n",
            "21/21 [==============================] - 12s 562ms/step - batch_loss: 0.0054\n",
            "Epoch 44/100\n",
            "21/21 [==============================] - 11s 549ms/step - batch_loss: 0.0071\n",
            "Epoch 45/100\n",
            "21/21 [==============================] - 11s 541ms/step - batch_loss: 0.0078\n",
            "Epoch 46/100\n",
            "21/21 [==============================] - 11s 518ms/step - batch_loss: 0.0109\n",
            "Epoch 47/100\n",
            "21/21 [==============================] - 11s 545ms/step - batch_loss: 0.0410\n",
            "Epoch 48/100\n",
            "21/21 [==============================] - 12s 553ms/step - batch_loss: 0.0872\n",
            "Epoch 49/100\n",
            "21/21 [==============================] - 12s 562ms/step - batch_loss: 0.1252\n",
            "Epoch 50/100\n",
            "21/21 [==============================] - 12s 569ms/step - batch_loss: 0.1151\n",
            "Epoch 51/100\n",
            "21/21 [==============================] - 12s 529ms/step - batch_loss: 0.0781\n",
            "Epoch 52/100\n",
            "21/21 [==============================] - 12s 548ms/step - batch_loss: 0.0375\n",
            "Epoch 53/100\n",
            "21/21 [==============================] - 11s 545ms/step - batch_loss: 0.0222\n",
            "Epoch 54/100\n",
            "21/21 [==============================] - 11s 539ms/step - batch_loss: 0.0121\n",
            "Epoch 55/100\n",
            "21/21 [==============================] - 11s 516ms/step - batch_loss: 0.0089\n",
            "Epoch 56/100\n",
            "21/21 [==============================] - 12s 554ms/step - batch_loss: 0.0072\n",
            "Epoch 57/100\n",
            "21/21 [==============================] - 12s 551ms/step - batch_loss: 0.0052\n",
            "Epoch 58/100\n",
            "21/21 [==============================] - 12s 577ms/step - batch_loss: 0.0050\n",
            "Epoch 59/100\n",
            "21/21 [==============================] - 11s 545ms/step - batch_loss: 0.0042\n",
            "Epoch 60/100\n",
            "21/21 [==============================] - 12s 556ms/step - batch_loss: 0.0039\n",
            "Epoch 61/100\n",
            "21/21 [==============================] - 11s 541ms/step - batch_loss: 0.0036\n",
            "Epoch 62/100\n",
            "21/21 [==============================] - 12s 551ms/step - batch_loss: 0.0033\n",
            "Epoch 63/100\n",
            "21/21 [==============================] - 11s 536ms/step - batch_loss: 0.0032\n",
            "Epoch 64/100\n",
            "21/21 [==============================] - 12s 552ms/step - batch_loss: 0.0032\n",
            "Epoch 65/100\n",
            "21/21 [==============================] - 12s 574ms/step - batch_loss: 0.0028\n",
            "Epoch 66/100\n",
            "21/21 [==============================] - 11s 529ms/step - batch_loss: 0.0038\n",
            "Epoch 67/100\n",
            "21/21 [==============================] - 12s 558ms/step - batch_loss: 0.0037\n",
            "Epoch 68/100\n",
            "21/21 [==============================] - 12s 555ms/step - batch_loss: 0.0028\n",
            "Epoch 69/100\n",
            "21/21 [==============================] - 12s 563ms/step - batch_loss: 0.0026\n",
            "Epoch 70/100\n",
            "21/21 [==============================] - 12s 565ms/step - batch_loss: 0.0030\n",
            "Epoch 71/100\n",
            "21/21 [==============================] - 12s 558ms/step - batch_loss: 0.0026\n",
            "Epoch 72/100\n",
            "21/21 [==============================] - 12s 567ms/step - batch_loss: 0.0025\n",
            "Epoch 73/100\n",
            "21/21 [==============================] - 11s 527ms/step - batch_loss: 0.0026\n",
            "Epoch 74/100\n",
            "21/21 [==============================] - 12s 550ms/step - batch_loss: 0.0025\n",
            "Epoch 75/100\n",
            "21/21 [==============================] - 11s 514ms/step - batch_loss: 0.0033\n",
            "Epoch 76/100\n",
            "21/21 [==============================] - 12s 545ms/step - batch_loss: 0.0029\n",
            "Epoch 77/100\n",
            "21/21 [==============================] - 11s 541ms/step - batch_loss: 0.0023\n",
            "Epoch 78/100\n",
            "21/21 [==============================] - 12s 557ms/step - batch_loss: 0.0022\n",
            "Epoch 79/100\n",
            "21/21 [==============================] - 12s 554ms/step - batch_loss: 0.0021\n",
            "Epoch 80/100\n",
            "21/21 [==============================] - 11s 533ms/step - batch_loss: 0.0019\n",
            "Epoch 81/100\n",
            "21/21 [==============================] - 12s 547ms/step - batch_loss: 0.0019\n",
            "Epoch 82/100\n",
            "21/21 [==============================] - 12s 553ms/step - batch_loss: 0.0020\n",
            "Epoch 83/100\n",
            "21/21 [==============================] - 12s 556ms/step - batch_loss: 0.0020\n",
            "Epoch 84/100\n",
            "21/21 [==============================] - 12s 558ms/step - batch_loss: 0.0019\n",
            "Epoch 85/100\n",
            "21/21 [==============================] - 11s 535ms/step - batch_loss: 0.0020\n",
            "Epoch 86/100\n",
            "21/21 [==============================] - 11s 545ms/step - batch_loss: 0.0024\n",
            "Epoch 87/100\n",
            "21/21 [==============================] - 11s 550ms/step - batch_loss: 0.0018\n",
            "Epoch 88/100\n",
            "21/21 [==============================] - 12s 556ms/step - batch_loss: 0.0025\n",
            "Epoch 89/100\n",
            "21/21 [==============================] - 12s 554ms/step - batch_loss: 0.0017\n",
            "Epoch 90/100\n",
            "21/21 [==============================] - 12s 557ms/step - batch_loss: 0.0018\n",
            "Epoch 91/100\n",
            "21/21 [==============================] - 11s 520ms/step - batch_loss: 0.0018\n",
            "Epoch 92/100\n",
            "21/21 [==============================] - 11s 541ms/step - batch_loss: 0.0019\n",
            "Epoch 93/100\n",
            "21/21 [==============================] - 11s 547ms/step - batch_loss: 0.0028\n",
            "Epoch 94/100\n",
            "21/21 [==============================] - 11s 529ms/step - batch_loss: 0.0018\n",
            "Epoch 95/100\n",
            "21/21 [==============================] - 11s 526ms/step - batch_loss: 0.0017\n",
            "Epoch 96/100\n",
            "21/21 [==============================] - 11s 538ms/step - batch_loss: 0.0016\n",
            "Epoch 97/100\n",
            "21/21 [==============================] - 11s 535ms/step - batch_loss: 0.0019\n",
            "Epoch 98/100\n",
            "21/21 [==============================] - 12s 551ms/step - batch_loss: 0.0015\n",
            "Epoch 99/100\n",
            "21/21 [==============================] - 12s 548ms/step - batch_loss: 0.0016\n",
            "Epoch 100/100\n",
            "21/21 [==============================] - 11s 528ms/step - batch_loss: 0.0013\n"
          ]
        },
        {
          "data": {
            "text/plain": [
              "<keras.callbacks.History at 0x7eff70359290>"
            ]
          },
          "execution_count": 155,
          "metadata": {},
          "output_type": "execute_result"
        }
      ],
      "source": [
        "train_translator.fit(dataset, epochs=100,\n",
        "                     callbacks=[batch_loss])"
      ]
    },
    {
      "cell_type": "code",
      "execution_count": 156,
      "metadata": {
        "colab": {
          "base_uri": "https://localhost:8080/",
          "height": 300
        },
        "id": "38rLdlmtQHCm",
        "outputId": "2c24e8f8-3ef3-4477-b845-34da28c8f96b"
      },
      "outputs": [
        {
          "data": {
            "text/plain": [
              "Text(0, 0.5, 'CE/token')"
            ]
          },
          "execution_count": 156,
          "metadata": {},
          "output_type": "execute_result"
        },
        {
          "data": {
            "image/png": "[encoded data removed]",
            "text/plain": [
              "<Figure size 432x288 with 1 Axes>"
            ]
          },
          "metadata": {
            "needs_background": "light"
          },
          "output_type": "display_data"
        }
      ],
      "source": [
        "plt.plot(batch_loss.logs)\n",
        "plt.ylim([0, 50])\n",
        "plt.xlabel('Batch #')\n",
        "plt.ylabel('CE/token')"
      ]
    },
    {
      "cell_type": "markdown",
      "metadata": {
        "id": "ygvrNyB-DvUF"
      },
      "source": [
        "Translation"
      ]
    },
    {
      "cell_type": "code",
      "execution_count": 157,
      "metadata": {
        "id": "PO-CLL1LVBbM"
      },
      "outputs": [],
      "source": [
        "class Translator(tf.Module):\n",
        "\n",
        "  def __init__(self, encoder, decoder, input_text_processor,\n",
        "               output_text_processor):\n",
        "    self.encoder = encoder\n",
        "    self.decoder = decoder\n",
        "    self.input_text_processor = input_text_processor\n",
        "    self.output_text_processor = output_text_processor\n",
        "\n",
        "    self.output_token_string_from_index = (\n",
        "        tf.keras.layers.StringLookup(\n",
        "            vocabulary=output_text_processor.get_vocabulary(),\n",
        "            mask_token='',\n",
        "            invert=True))\n",
        "\n",
        "    # The output should never generate padding, unknown, or start.\n",
        "    index_from_string = tf.keras.layers.StringLookup(\n",
        "        vocabulary=output_text_processor.get_vocabulary(), mask_token='')\n",
        "    token_mask_ids = index_from_string(['', '[UNK]', '[START]']).numpy()\n",
        "\n",
        "    token_mask = np.zeros([index_from_string.vocabulary_size()], dtype=np.bool)\n",
        "    token_mask[np.array(token_mask_ids)] = True\n",
        "    self.token_mask = token_mask\n",
        "\n",
        "    self.start_token = index_from_string(tf.constant('[START]'))\n",
        "    self.end_token = index_from_string(tf.constant('[END]'))"
      ]
    },
    {
      "cell_type": "code",
      "execution_count": 158,
      "metadata": {
        "id": "iBQzFZ9uWU79"
      },
      "outputs": [],
      "source": [
        "translator = Translator(\n",
        "    encoder=train_translator.encoder,\n",
        "    decoder=train_translator.decoder,\n",
        "    input_text_processor=input_text_processor,\n",
        "    output_text_processor=output_text_processor,\n",
        ")"
      ]
    },
    {
      "cell_type": "code",
      "execution_count": 159,
      "metadata": {
        "id": "8IjwKTwtmdFf"
      },
      "outputs": [],
      "source": [
        "# converting token IDs to human readable text\n",
        "def tokens_to_text(self, result_tokens):\n",
        "  shape_checker = ShapeChecker()\n",
        "  shape_checker(result_tokens, ('batch', 't'))\n",
        "  result_text_tokens = self.output_token_string_from_index(result_tokens)\n",
        "  shape_checker(result_text_tokens, ('batch', 't'))\n",
        "\n",
        "  result_text = tf.strings.reduce_join(result_text_tokens,\n",
        "                                       axis=1, separator=' ')\n",
        "  shape_checker(result_text, ('batch'))\n",
        "\n",
        "  result_text = tf.strings.strip(result_text)\n",
        "  shape_checker(result_text, ('batch',))\n",
        "  return result_text"
      ]
    },
    {
      "cell_type": "code",
      "execution_count": 160,
      "metadata": {
        "id": "912aV0K7r90w"
      },
      "outputs": [],
      "source": [
        "Translator.tokens_to_text = tokens_to_text"
      ]
    },
    {
      "cell_type": "code",
      "execution_count": 161,
      "metadata": {
        "colab": {
          "base_uri": "https://localhost:8080/"
        },
        "id": "cWCMHdoS32QN",
        "outputId": "b49a9c58-b11b-4aa3-e127-3a7b4f5b98d8"
      },
      "outputs": [
        {
          "data": {
            "text/plain": [
              "array([b'free alphabets', b'disease salute', b'active middle',\n",
              "       b'frustrated playing', b'solid odometry'], dtype=object)"
            ]
          },
          "execution_count": 161,
          "metadata": {},
          "output_type": "execute_result"
        }
      ],
      "source": [
        "# inputting random token IDs to see what it generates\n",
        "example_output_tokens = tf.random.uniform(\n",
        "    shape=[5, 2], minval=0, dtype=tf.int64,\n",
        "    maxval=output_text_processor.vocabulary_size())\n",
        "translator.tokens_to_text(example_output_tokens).numpy()"
      ]
    },
    {
      "cell_type": "code",
      "execution_count": 162,
      "metadata": {
        "id": "8lfuj3GcdD6e"
      },
      "outputs": [],
      "source": [
        "# takes the decoder's logit outputs and samples token IDs from that distribution\n",
        "def sample(self, logits, temperature):\n",
        "  shape_checker = ShapeChecker()\n",
        "  # 't' is usually 1 here.\n",
        "  shape_checker(logits, ('batch', 't', 'vocab'))\n",
        "  shape_checker(self.token_mask, ('vocab',))\n",
        "\n",
        "  token_mask = self.token_mask[tf.newaxis, tf.newaxis, :]\n",
        "  shape_checker(token_mask, ('batch', 't', 'vocab'), broadcast=True)\n",
        "\n",
        "  # Set the logits for all masked tokens to -inf, so they are never chosen.\n",
        "  logits = tf.where(self.token_mask, -np.inf, logits)\n",
        "\n",
        "  if temperature == 0.0:\n",
        "    new_tokens = tf.argmax(logits, axis=-1)\n",
        "  else: \n",
        "    logits = tf.squeeze(logits, axis=1)\n",
        "    new_tokens = tf.random.categorical(logits/temperature,\n",
        "                                        num_samples=1)\n",
        "  \n",
        "  shape_checker(new_tokens, ('batch', 't'))\n",
        "\n",
        "  return new_tokens"
      ]
    },
    {
      "cell_type": "code",
      "execution_count": 163,
      "metadata": {
        "id": "4DpDnBdBdL9_"
      },
      "outputs": [],
      "source": [
        "Translator.sample = sample"
      ]
    },
    {
      "cell_type": "code",
      "execution_count": 164,
      "metadata": {
        "colab": {
          "base_uri": "https://localhost:8080/"
        },
        "id": "rwLT0nxXym80",
        "outputId": "492baa1e-7a3f-4ee3-a0cb-4df725ece439"
      },
      "outputs": [
        {
          "data": {
            "text/plain": [
              "<tf.Tensor: shape=(5, 1), dtype=int64, numpy=\n",
              "array([[1155],\n",
              "       [ 904],\n",
              "       [ 807],\n",
              "       [ 383],\n",
              "       [ 186]])>"
            ]
          },
          "execution_count": 164,
          "metadata": {},
          "output_type": "execute_result"
        }
      ],
      "source": [
        "# testing the function on random i/p\n",
        "example_logits = tf.random.normal([5, 1, output_text_processor.vocabulary_size()])\n",
        "example_output_tokens = translator.sample(example_logits, temperature=1.0)\n",
        "example_output_tokens"
      ]
    },
    {
      "cell_type": "code",
      "execution_count": 165,
      "metadata": {
        "id": "ZmOvVrZmwAxg"
      },
      "outputs": [],
      "source": [
        "# implementing text to text translation loop\n",
        "def translate_unrolled(self,\n",
        "                       input_text, *,\n",
        "                       max_length=50,\n",
        "                       return_attention=True,\n",
        "                       temperature=1.0):\n",
        "  batch_size = tf.shape(input_text)[0]\n",
        "  input_tokens = self.input_text_processor(input_text)\n",
        "  enc_output, enc_state = self.encoder(input_tokens)\n",
        "\n",
        "  dec_state = enc_state\n",
        "  new_tokens = tf.fill([batch_size, 1], self.start_token)\n",
        "\n",
        "  result_tokens = []\n",
        "  attention = []\n",
        "  done = tf.zeros([batch_size, 1], dtype=tf.bool)\n",
        "\n",
        "  for _ in range(max_length):\n",
        "    dec_input = DecoderInput(new_tokens=new_tokens,\n",
        "                             enc_output=enc_output,\n",
        "                             mask=(input_tokens!=0))\n",
        "    \n",
        "    dec_result, dec_state = self.decoder(dec_input, state=dec_state)\n",
        "\n",
        "    attention.append(dec_result.attention_weights)\n",
        "\n",
        "    new_tokens = self.sample(dec_result.logits, temperature)\n",
        "\n",
        "    # If a sequence produces an `end_token`, set it `done`\n",
        "    done = done | (new_tokens == self.end_token)\n",
        "    # Once a sequence is done it only produces 0-padding.\n",
        "    new_tokens = tf.where(done, tf.constant(0, dtype=tf.int64), new_tokens)\n",
        "\n",
        "    # Collect the generated tokens\n",
        "    result_tokens.append(new_tokens)\n",
        "\n",
        "    if tf.executing_eagerly() and tf.reduce_all(done):\n",
        "      break\n",
        "\n",
        "  # Convert the list of generates token ids to a list of strings.\n",
        "  result_tokens = tf.concat(result_tokens, axis=-1)\n",
        "  result_text = self.tokens_to_text(result_tokens)\n",
        "\n",
        "  if return_attention:\n",
        "    attention_stack = tf.concat(attention, axis=1)\n",
        "    return {'text': result_text, 'attention': attention_stack}\n",
        "  else:\n",
        "    return {'text': result_text}\n"
      ]
    },
    {
      "cell_type": "code",
      "execution_count": 166,
      "metadata": {
        "id": "JOmd8Y269MG3"
      },
      "outputs": [],
      "source": [
        "Translator.translate = translate_unrolled"
      ]
    },
    {
      "cell_type": "code",
      "execution_count": 167,
      "metadata": {
        "colab": {
          "base_uri": "https://localhost:8080/"
        },
        "id": "hd2rgyHwVVrv",
        "outputId": "72a81edc-d510-4038-fc8b-527a5b824127"
      },
      "outputs": [
        {
          "name": "stdout",
          "output_type": "stream",
          "text": [
            "by the way , really miss those days .\n",
            "that is it .\n",
            "\n",
            "CPU times: user 405 ms, sys: 10.8 ms, total: 416 ms\n",
            "Wall time: 421 ms\n"
          ]
        }
      ],
      "source": [
        "# TESTING\n",
        "%%time\n",
        "input_text = tf.constant([\n",
        "    'Waise really miss those days...', \n",
        "    'Yahi haal hai', \n",
        "])\n",
        "\n",
        "result = translator.translate(\n",
        "    input_text = input_text)\n",
        "\n",
        "print(result['text'][0].numpy().decode())\n",
        "print(result['text'][1].numpy().decode())\n",
        "print()"
      ]
    },
    {
      "cell_type": "code",
      "execution_count": 168,
      "metadata": {
        "id": "_JhTZ5hOptO-"
      },
      "outputs": [],
      "source": [
        "@tf.function(input_signature=[tf.TensorSpec(dtype=tf.string, shape=[None])])\n",
        "def tf_translate(self, input_text):\n",
        "  return self.translate(input_text)\n",
        "\n",
        "Translator.tf_translate = tf_translate"
      ]
    },
    {
      "cell_type": "code",
      "execution_count": 169,
      "metadata": {
        "colab": {
          "base_uri": "https://localhost:8080/"
        },
        "id": "_NzrixLvVBjQ",
        "outputId": "469e8d6c-c011-43b1-ead8-0f442e9c602f"
      },
      "outputs": [
        {
          "name": "stdout",
          "output_type": "stream",
          "text": [
            "CPU times: user 25.7 s, sys: 546 ms, total: 26.2 s\n",
            "Wall time: 26 s\n"
          ]
        }
      ],
      "source": [
        "%%time\n",
        "result = translator.tf_translate(\n",
        "    input_text = input_text)"
      ]
    },
    {
      "cell_type": "code",
      "execution_count": 170,
      "metadata": {
        "colab": {
          "base_uri": "https://localhost:8080/"
        },
        "id": "USJdu00tVFbd",
        "outputId": "9c40b1e8-a2a9-4ad1-9992-430dd580d8fb"
      },
      "outputs": [
        {
          "name": "stdout",
          "output_type": "stream",
          "text": [
            "by the way , really miss those days .\n",
            "that is it .\n",
            "\n",
            "CPU times: user 187 ms, sys: 22.2 ms, total: 209 ms\n",
            "Wall time: 250 ms\n"
          ]
        }
      ],
      "source": [
        "%%time\n",
        "result = translator.tf_translate(\n",
        "    input_text = input_text)\n",
        "\n",
        "print(result['text'][0].numpy().decode())\n",
        "print(result['text'][1].numpy().decode())\n",
        "print()"
      ]
    },
    {
      "cell_type": "code",
      "execution_count": 171,
      "metadata": {
        "id": "EbQpyYs13jF_"
      },
      "outputs": [],
      "source": [
        "#@title [Optional] Use a symbolic loop\n",
        "def translate_symbolic(self,\n",
        "                       input_text,\n",
        "                       *,\n",
        "                       max_length=50,\n",
        "                       return_attention=True,\n",
        "                       temperature=1.0):\n",
        "  shape_checker = ShapeChecker()\n",
        "  shape_checker(input_text, ('batch',))\n",
        "\n",
        "  batch_size = tf.shape(input_text)[0]\n",
        "\n",
        "  # Encode the input\n",
        "  input_tokens = self.input_text_processor(input_text)\n",
        "  shape_checker(input_tokens, ('batch', 's'))\n",
        "\n",
        "  enc_output, enc_state = self.encoder(input_tokens)\n",
        "  shape_checker(enc_output, ('batch', 's', 'enc_units'))\n",
        "  shape_checker(enc_state, ('batch', 'enc_units'))\n",
        "\n",
        "  # Initialize the decoder\n",
        "  dec_state = enc_state\n",
        "  new_tokens = tf.fill([batch_size, 1], self.start_token)\n",
        "  shape_checker(new_tokens, ('batch', 't1'))\n",
        "\n",
        "  # Initialize the accumulators\n",
        "  result_tokens = tf.TensorArray(tf.int64, size=1, dynamic_size=True)\n",
        "  attention = tf.TensorArray(tf.float32, size=1, dynamic_size=True)\n",
        "  done = tf.zeros([batch_size, 1], dtype=tf.bool)\n",
        "  shape_checker(done, ('batch', 't1'))\n",
        "\n",
        "  for t in tf.range(max_length):\n",
        "    dec_input = DecoderInput(\n",
        "        new_tokens=new_tokens, enc_output=enc_output, mask=(input_tokens != 0))\n",
        "\n",
        "    dec_result, dec_state = self.decoder(dec_input, state=dec_state)\n",
        "\n",
        "    shape_checker(dec_result.attention_weights, ('batch', 't1', 's'))\n",
        "    attention = attention.write(t, dec_result.attention_weights)\n",
        "\n",
        "    new_tokens = self.sample(dec_result.logits, temperature)\n",
        "    shape_checker(dec_result.logits, ('batch', 't1', 'vocab'))\n",
        "    shape_checker(new_tokens, ('batch', 't1'))\n",
        "\n",
        "    # If a sequence produces an `end_token`, set it `done`\n",
        "    done = done | (new_tokens == self.end_token)\n",
        "    # Once a sequence is done it only produces 0-padding.\n",
        "    new_tokens = tf.where(done, tf.constant(0, dtype=tf.int64), new_tokens)\n",
        "\n",
        "    # Collect the generated tokens\n",
        "    result_tokens = result_tokens.write(t, new_tokens)\n",
        "\n",
        "    if tf.reduce_all(done):\n",
        "      break\n",
        "\n",
        "  # Convert the list of generated token ids to a list of strings.\n",
        "  result_tokens = result_tokens.stack()\n",
        "  shape_checker(result_tokens, ('t', 'batch', 't0'))\n",
        "  result_tokens = tf.squeeze(result_tokens, -1)\n",
        "  result_tokens = tf.transpose(result_tokens, [1, 0])\n",
        "  shape_checker(result_tokens, ('batch', 't'))\n",
        "\n",
        "  result_text = self.tokens_to_text(result_tokens)\n",
        "  shape_checker(result_text, ('batch',))\n",
        "\n",
        "  if return_attention:\n",
        "    attention_stack = attention.stack()\n",
        "    shape_checker(attention_stack, ('t', 'batch', 't1', 's'))\n",
        "\n",
        "    attention_stack = tf.squeeze(attention_stack, 2)\n",
        "    shape_checker(attention_stack, ('t', 'batch', 's'))\n",
        "\n",
        "    attention_stack = tf.transpose(attention_stack, [1, 0, 2])\n",
        "    shape_checker(attention_stack, ('batch', 't', 's'))\n",
        "\n",
        "    return {'text': result_text, 'attention': attention_stack}\n",
        "  else:\n",
        "    return {'text': result_text}"
      ]
    },
    {
      "cell_type": "code",
      "execution_count": 172,
      "metadata": {
        "id": "ngywxv1WYO_O"
      },
      "outputs": [],
      "source": [
        "Translator.translate = translate_symbolic"
      ]
    },
    {
      "cell_type": "markdown",
      "metadata": {
        "id": "lItV7qjEGsYc"
      },
      "source": [
        "The initial implementation used python lists to collect the outputs. This uses `tf.range` as the loop iterator, allowing `tf.autograph` to convert the loop. The biggest change in this implementation is the use of `tf.TensorArray` instead of python `list` to accumulate tensors. `tf.TensorArray` is required to collect a variable number of tensors in graph mode. "
      ]
    },
    {
      "cell_type": "markdown",
      "metadata": {
        "id": "AJ_NznOgZTxC"
      },
      "source": [
        "With eager execution this implementation performs on par with the original:"
      ]
    },
    {
      "cell_type": "code",
      "execution_count": 173,
      "metadata": {
        "colab": {
          "base_uri": "https://localhost:8080/"
        },
        "id": "JRh66y-YYeBw",
        "outputId": "8992e4bf-e4c7-47cb-84a4-0465f2153d83"
      },
      "outputs": [
        {
          "name": "stdout",
          "output_type": "stream",
          "text": [
            "by the way , really miss those days .\n",
            "that is it .\n",
            "\n",
            "CPU times: user 478 ms, sys: 4.52 ms, total: 482 ms\n",
            "Wall time: 481 ms\n"
          ]
        }
      ],
      "source": [
        "# RUN THIS\n",
        "%%time\n",
        "result = translator.translate(\n",
        "    input_text = input_text)\n",
        "\n",
        "print(result['text'][0].numpy().decode())\n",
        "print(result['text'][1].numpy().decode())\n",
        "print()"
      ]
    },
    {
      "cell_type": "markdown",
      "metadata": {
        "id": "l6B8W4_MZdX0"
      },
      "source": [
        "But when you wrap it in a `tf.function` you'll notice two differences."
      ]
    },
    {
      "cell_type": "code",
      "execution_count": 174,
      "metadata": {
        "id": "WX6EF8KtYh20"
      },
      "outputs": [],
      "source": [
        "@tf.function(input_signature=[tf.TensorSpec(dtype=tf.string, shape=[None])])\n",
        "def tf_translate(self, input_text):\n",
        "  return self.translate(input_text)\n",
        "\n",
        "Translator.tf_translate = tf_translate"
      ]
    },
    {
      "cell_type": "markdown",
      "metadata": {
        "id": "9S0kQ-bBZswZ"
      },
      "source": [
        "First: Graph creation is much faster (~10x), since it doesn't create `max_iterations` copies of the model."
      ]
    },
    {
      "cell_type": "code",
      "execution_count": 175,
      "metadata": {
        "colab": {
          "base_uri": "https://localhost:8080/"
        },
        "id": "Eq8d40RKYoJa",
        "outputId": "e8bfbaaa-9b1c-4eaa-d08e-78b76749add4"
      },
      "outputs": [
        {
          "name": "stdout",
          "output_type": "stream",
          "text": [
            "CPU times: user 1.55 s, sys: 30.8 ms, total: 1.58 s\n",
            "Wall time: 1.56 s\n"
          ]
        }
      ],
      "source": [
        "%%time\n",
        "result = translator.tf_translate(\n",
        "    input_text = input_text)"
      ]
    },
    {
      "cell_type": "markdown",
      "metadata": {
        "id": "2ABEwtKIZ6eE"
      },
      "source": [
        "Second: The compiled function is much faster on small inputs (5x on this example), because it can break out of the loop."
      ]
    },
    {
      "cell_type": "code",
      "execution_count": 176,
      "metadata": {
        "colab": {
          "base_uri": "https://localhost:8080/"
        },
        "id": "d5VdCLxPYrpz",
        "outputId": "b0e36859-576d-4d40-c6df-efb0b3f7a4c6"
      },
      "outputs": [
        {
          "name": "stdout",
          "output_type": "stream",
          "text": [
            "by the way , really miss those days .\n",
            "that is it .\n",
            "\n",
            "CPU times: user 70.5 ms, sys: 10.1 ms, total: 80.6 ms\n",
            "Wall time: 68.7 ms\n"
          ]
        }
      ],
      "source": [
        "%%time\n",
        "result = translator.tf_translate(\n",
        "    input_text = input_text)\n",
        "\n",
        "print(result['text'][0].numpy().decode())\n",
        "print(result['text'][1].numpy().decode())\n",
        "print()"
      ]
    },
    {
      "cell_type": "markdown",
      "metadata": {
        "id": "eo5sf4jZaO2l"
      },
      "source": [
        "### Visualize the process"
      ]
    },
    {
      "cell_type": "markdown",
      "metadata": {
        "id": "FzZzC2cJacTv"
      },
      "source": [
        "The attention weights returned by the `translate` method show where the model was \"looking\" when it generated each output token.\n",
        "\n",
        "So the sum of the attention over the input should return all ones:"
      ]
    },
    {
      "cell_type": "code",
      "execution_count": 178,
      "metadata": {
        "colab": {
          "base_uri": "https://localhost:8080/"
        },
        "id": "UEd2GljgqQ-0",
        "outputId": "79eecf74-f06e-4d9a-ec44-5338c4df2c8c"
      },
      "outputs": [
        {
          "name": "stdout",
          "output_type": "stream",
          "text": [
            "[0.9999998  1.         1.         0.99999994 1.         1.\n",
            " 1.         1.0000001  1.         1.0000001 ]\n"
          ]
        }
      ],
      "source": [
        "a = result['attention'][0]\n",
        "\n",
        "print(np.sum(a, axis=-1))"
      ]
    },
    {
      "cell_type": "markdown",
      "metadata": {
        "id": "k_HWQHcI2_h5"
      },
      "source": [
        "Here is the attention distribution for the first output step of the first example. Note how the attention is now much more focused than it was for the untrained model:"
      ]
    },
    {
      "cell_type": "code",
      "execution_count": 179,
      "metadata": {
        "colab": {
          "base_uri": "https://localhost:8080/",
          "height": 265
        },
        "id": "M8BHdqQujALu",
        "outputId": "31b6618c-07e0-4821-c953-efe35ddc95e5"
      },
      "outputs": [
        {
          "data": {
            "image/png": "[encoded data removed]",
            "text/plain": [
              "<Figure size 432x288 with 1 Axes>"
            ]
          },
          "metadata": {
            "needs_background": "light"
          },
          "output_type": "display_data"
        }
      ],
      "source": [
        "_ = plt.bar(range(len(a[0, :])), a[0, :])"
      ]
    },
    {
      "cell_type": "markdown",
      "metadata": {
        "id": "qB13OG472Z3V"
      },
      "source": [
        "Since there is some rough alignment between the input and output words, you expect the attention to be focused near the diagonal:"
      ]
    },
    {
      "cell_type": "code",
      "execution_count": 180,
      "metadata": {
        "colab": {
          "base_uri": "https://localhost:8080/",
          "height": 282
        },
        "id": "xyeXuEYHd0kQ",
        "outputId": "8e85df2f-bfc4-43db-abd2-412001afb29e"
      },
      "outputs": [
        {
          "data": {
            "text/plain": [
              "<matplotlib.image.AxesImage at 0x7efe4f009390>"
            ]
          },
          "execution_count": 180,
          "metadata": {},
          "output_type": "execute_result"
        },
        {
          "data": {
            "image/png": "[encoded data removed]",
            "text/plain": [
              "<Figure size 432x288 with 1 Axes>"
            ]
          },
          "metadata": {
            "needs_background": "light"
          },
          "output_type": "display_data"
        }
      ],
      "source": [
        "plt.imshow(np.array(a), vmin=0.0)"
      ]
    },
    {
      "cell_type": "markdown",
      "metadata": {
        "id": "mXECcNTn2mxN"
      },
      "source": [
        "Here is some code to make a better attention plot:"
      ]
    },
    {
      "cell_type": "code",
      "execution_count": 181,
      "metadata": {
        "id": "s5hQWlbN3jGF"
      },
      "outputs": [],
      "source": [
        "#@title Labeled attention plots\n",
        "def plot_attention(attention, sentence, predicted_sentence):\n",
        "  sentence = tf_lower_and_split_punct(sentence).numpy().decode().split()\n",
        "  predicted_sentence = predicted_sentence.numpy().decode().split() + ['[END]']\n",
        "  fig = plt.figure(figsize=(10, 10))\n",
        "  ax = fig.add_subplot(1, 1, 1)\n",
        "\n",
        "  attention = attention[:len(predicted_sentence), :len(sentence)]\n",
        "\n",
        "  ax.matshow(attention, cmap='viridis', vmin=0.0)\n",
        "\n",
        "  fontdict = {'fontsize': 14}\n",
        "\n",
        "  ax.set_xticklabels([''] + sentence, fontdict=fontdict, rotation=90)\n",
        "  ax.set_yticklabels([''] + predicted_sentence, fontdict=fontdict)\n",
        "\n",
        "  ax.xaxis.set_major_locator(ticker.MultipleLocator(1))\n",
        "  ax.yaxis.set_major_locator(ticker.MultipleLocator(1))\n",
        "\n",
        "  ax.set_xlabel('Input text')\n",
        "  ax.set_ylabel('Output text')\n",
        "  plt.suptitle('Attention weights')"
      ]
    },
    {
      "cell_type": "code",
      "execution_count": 182,
      "metadata": {
        "colab": {
          "base_uri": "https://localhost:8080/",
          "height": 660
        },
        "id": "rrGawQv2eiA4",
        "outputId": "a8ce33b3-cfaf-49f9-c04f-2f6e89d90eeb"
      },
      "outputs": [
        {
          "data": {
            "image/png": "[encoded data removed]",
            "text/plain": [
              "<Figure size 720x720 with 1 Axes>"
            ]
          },
          "metadata": {
            "needs_background": "light"
          },
          "output_type": "display_data"
        }
      ],
      "source": [
        "i=0\n",
        "plot_attention(result['attention'][i], input_text[i], result['text'][i])"
      ]
    },
    {
      "cell_type": "code",
      "execution_count": 183,
      "metadata": {
        "colab": {
          "base_uri": "https://localhost:8080/"
        },
        "id": "WrAM0FDomq3E",
        "outputId": "8641124a-e81a-4aea-ff61-51425a2e0b42"
      },
      "outputs": [
        {
          "name": "stdout",
          "output_type": "stream",
          "text": [
            "tf.Tensor(\n",
            "[b'most best friend' b'that i know'\n",
            " b'she was roasting the spices when the phone rang'], shape=(3,), dtype=string)\n",
            "most best friend\n",
            "that i know\n",
            "she was roasting the spices when the phone rang\n",
            "\n",
            "CPU times: user 70.2 ms, sys: 9.85 ms, total: 80 ms\n",
            "Wall time: 72.4 ms\n"
          ]
        }
      ],
      "source": [
        "%%time\n",
        "three_input_text = tf.constant(['sabse best friend', 'That toh I know', 'She was bhunnoing the masalas jub phone ki ghuntee bugee',\n",
        "])\n",
        "\n",
        "result = translator.tf_translate(three_input_text)\n",
        "print(result['text'])\n",
        "for tr in result['text']:\n",
        "  print(tr.numpy().decode())\n",
        "\n",
        "print()"
      ]
    },
    {
      "cell_type": "code",
      "execution_count": 184,
      "metadata": {
        "colab": {
          "base_uri": "https://localhost:8080/"
        },
        "id": "-LjFp0AljOaZ",
        "outputId": "8f3de323-4809-4d52-8092-bac9d1e1f8fc"
      },
      "outputs": [
        {
          "data": {
            "text/plain": [
              "<tf.Tensor: shape=(3,), dtype=string, numpy=\n",
              "array([b'most best friend', b'that i know',\n",
              "       b'she was roasting the spices when the phone rang'], dtype=object)>"
            ]
          },
          "execution_count": 184,
          "metadata": {},
          "output_type": "execute_result"
        }
      ],
      "source": [
        "result['text']"
      ]
    },
    {
      "cell_type": "code",
      "execution_count": 185,
      "metadata": {
        "colab": {
          "base_uri": "https://localhost:8080/",
          "height": 612
        },
        "id": "v7QwIMrG-id2",
        "outputId": "02b9f2a4-4ea0-4b45-a294-283b21e1cec9"
      },
      "outputs": [
        {
          "data": {
            "image/png": "[encoded data removed]",
            "text/plain": [
              "<Figure size 720x720 with 1 Axes>"
            ]
          },
          "metadata": {
            "needs_background": "light"
          },
          "output_type": "display_data"
        }
      ],
      "source": [
        "i = 0\n",
        "plot_attention(result['attention'][i], three_input_text[i], result['text'][i])"
      ]
    },
    {
      "cell_type": "code",
      "execution_count": 186,
      "metadata": {
        "colab": {
          "base_uri": "https://localhost:8080/",
          "height": 575
        },
        "id": "zYVoVf8P-lr-",
        "outputId": "59fde2f6-58e3-4cfa-e9b1-f2bba1a872a4"
      },
      "outputs": [
        {
          "data": {
            "image/png": "[encoded data removed]",
            "text/plain": [
              "<Figure size 720x720 with 1 Axes>"
            ]
          },
          "metadata": {
            "needs_background": "light"
          },
          "output_type": "display_data"
        }
      ],
      "source": [
        "i = 1\n",
        "plot_attention(result['attention'][i], three_input_text[i], result['text'][i])"
      ]
    },
    {
      "cell_type": "code",
      "execution_count": 187,
      "metadata": {
        "colab": {
          "base_uri": "https://localhost:8080/",
          "height": 621
        },
        "id": "9sFvlZBk-me4",
        "outputId": "7e25b713-c576-4c03-8614-c55bb3c7d83e"
      },
      "outputs": [
        {
          "data": {
            "image/png": "[encoded data removed]",
            "text/plain": [
              "<Figure size 720x720 with 1 Axes>"
            ]
          },
          "metadata": {
            "needs_background": "light"
          },
          "output_type": "display_data"
        }
      ],
      "source": [
        "i = 2\n",
        "plot_attention(result['attention'][i], three_input_text[i], result['text'][i])"
      ]
    },
    {
      "cell_type": "code",
      "execution_count": 188,
      "metadata": {
        "colab": {
          "base_uri": "https://localhost:8080/"
        },
        "id": "-FUHFLEvSMbG",
        "outputId": "4ea7bcc6-e870-4959-dc40-dd0e6b1ff60a"
      },
      "outputs": [
        {
          "name": "stdout",
          "output_type": "stream",
          "text": [
            "Expected output:\n",
            " most best friend\n"
          ]
        }
      ],
      "source": [
        "long_input_text = tf.constant([inp[-1]])\n",
        "\n",
        "import textwrap\n",
        "print('Expected output:\\n', '\\n'.join(textwrap.wrap(targ[-1])))"
      ]
    },
    {
      "cell_type": "code",
      "execution_count": 189,
      "metadata": {
        "colab": {
          "base_uri": "https://localhost:8080/",
          "height": 612
        },
        "id": "lDa_8NaN_RUy",
        "outputId": "e8e9580b-e815-465d-dc0b-e42875d3399c"
      },
      "outputs": [
        {
          "data": {
            "image/png": "[encoded data removed]",
            "text/plain": [
              "<Figure size 720x720 with 1 Axes>"
            ]
          },
          "metadata": {
            "needs_background": "light"
          },
          "output_type": "display_data"
        }
      ],
      "source": [
        "result = translator.tf_translate(long_input_text)\n",
        "\n",
        "i = 0\n",
        "plot_attention(result['attention'][i], long_input_text[i], result['text'][i])\n",
        "_ = plt.suptitle('Graph')"
      ]
    },
    {
      "cell_type": "code",
      "execution_count": 190,
      "metadata": {
        "colab": {
          "base_uri": "https://localhost:8080/"
        },
        "id": "OyvxT5V0_X5B",
        "outputId": "ced85551-7dd8-48b7-cf12-b37055831235"
      },
      "outputs": [
        {
          "name": "stderr",
          "output_type": "stream",
          "text": [
            "WARNING:absl:Found untraced functions such as encoder_5_layer_call_fn, encoder_5_layer_call_and_return_conditional_losses, decoder_5_layer_call_fn, decoder_5_layer_call_and_return_conditional_losses, embedding_10_layer_call_fn while saving (showing 5 of 60). These functions will not be directly callable after loading.\n"
          ]
        },
        {
          "name": "stdout",
          "output_type": "stream",
          "text": [
            "INFO:tensorflow:Assets written to: translator/assets\n"
          ]
        },
        {
          "name": "stderr",
          "output_type": "stream",
          "text": [
            "INFO:tensorflow:Assets written to: translator/assets\n"
          ]
        }
      ],
      "source": [
        "tf.saved_model.save(translator, 'translator',\n",
        "                    signatures={'serving_default': translator.tf_translate})"
      ]
    },
    {
      "cell_type": "code",
      "execution_count": 191,
      "metadata": {
        "id": "-I0j3i3ekOba"
      },
      "outputs": [],
      "source": [
        "reloaded = tf.saved_model.load('translator')\n",
        "result = reloaded.tf_translate(three_input_text)"
      ]
    },
    {
      "cell_type": "code",
      "execution_count": 192,
      "metadata": {
        "colab": {
          "base_uri": "https://localhost:8080/"
        },
        "id": "GXZF__FZXJCm",
        "outputId": "2473fa25-b3e1-460d-a647-76c1350f2c81"
      },
      "outputs": [
        {
          "name": "stdout",
          "output_type": "stream",
          "text": [
            "most best friend\n",
            "that i know\n",
            "she was roasting the spices when the phone rang\n",
            "\n",
            "CPU times: user 68.3 ms, sys: 12.3 ms, total: 80.6 ms\n",
            "Wall time: 70.7 ms\n"
          ]
        }
      ],
      "source": [
        "%%time\n",
        "result = reloaded.tf_translate(three_input_text)\n",
        "\n",
        "for tr in result['text']:\n",
        "  print(tr.numpy().decode())\n",
        "\n",
        "print()"
      ]
    },
    {
      "cell_type": "code",
      "execution_count": 194,
      "metadata": {
        "colab": {
          "base_uri": "https://localhost:8080/"
        },
        "id": "XO-mhU6QbriO",
        "outputId": "5003fd2c-734e-4688-8350-3823698bb2f3"
      },
      "outputs": [
        {
          "name": "stdout",
          "output_type": "stream",
          "text": [
            "updating: translator/ (stored 0%)\n",
            "updating: translator/saved_model.pb (deflated 87%)\n",
            "updating: translator/variables/ (stored 0%)\n",
            "updating: translator/variables/variables.index (deflated 56%)\n",
            "updating: translator/variables/variables.data-00000-of-00001 (deflated 7%)\n",
            "updating: translator/assets/ (stored 0%)\n"
          ]
        }
      ],
      "source": [
        "!zip -r translator.zip translator"
      ]
    }
  ],
  "metadata": {
    "accelerator": "GPU",
    "colab": {
      "collapsed_sections": [],
      "name": "anuvaad.ipynb",
      "provenance": []
    },
    "kernelspec": {
      "display_name": "Python 3",
      "language": "python",
      "name": "python3"
    },
    "language_info": {
      "name": "python",
      "version": "3.7.6"
    },
    "vscode": {
      "interpreter": {
        "hash": "5109d816b82be14675a6b11f8e0f0d2e80f029176ed3710d54e125caa8520dfd"
      }
    }
  },
  "nbformat": 4,
  "nbformat_minor": 0
}
